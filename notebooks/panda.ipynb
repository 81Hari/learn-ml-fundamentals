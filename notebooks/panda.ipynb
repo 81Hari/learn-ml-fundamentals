{
 "cells": [
  {
   "cell_type": "markdown",
   "id": "12c71f77-51cc-4c12-98a4-4905d3e1a811",
   "metadata": {
    "tags": []
   },
   "source": [
    "# **Pandas (Lib)** \n",
    "- Useful for **Data Processing** and **Analysis**\n",
    "- There are two types of object in **Pandas**\n",
    "    1. Series\n",
    "    2. Data Frame (Useful in ML)\n",
    "\n",
    "## **Pandas Series**\n",
    "- Pandas Series is 1-D column data structure with labeled axes. (columns) \n",
    "\n",
    "## **Pandas Data Frame**\n",
    "- Pandas Data Frame is 2-D tabular data structure with labeled axes (rows and columns)   "
   ]
  },
  {
   "cell_type": "markdown",
   "id": "530e09f0-7837-4363-a1d3-97b6dbd41295",
   "metadata": {
    "jp-MarkdownHeadingCollapsed": true,
    "tags": []
   },
   "source": [
    "## **Import Pandas**"
   ]
  },
  {
   "cell_type": "code",
   "execution_count": 1,
   "id": "8f773d9a-fc65-4f76-bd2b-d524326edcef",
   "metadata": {
    "tags": []
   },
   "outputs": [
    {
     "data": {
      "text/plain": [
       "'1.3.4'"
      ]
     },
     "execution_count": 1,
     "metadata": {},
     "output_type": "execute_result"
    }
   ],
   "source": [
    "# importing pandas lib\n",
    "import pandas as pd\n",
    "pd.__version__"
   ]
  },
  {
   "cell_type": "markdown",
   "id": "f6747d4b-ebe7-4a57-ac41-dc8aa3edb79c",
   "metadata": {
    "tags": []
   },
   "source": [
    "---\n",
    "## **Initializing Pandas Objects**"
   ]
  },
  {
   "cell_type": "markdown",
   "id": "a83e0826-b2c3-4cd3-99ab-5e54e4a455dc",
   "metadata": {
    "tags": []
   },
   "source": [
    "\n",
    "### **Series**\n",
    "- A **Pandas Series** is like a **column in a table.**\n",
    "- It is a **one-dimensional array** holding **data of any type**.\n",
    "- Index can be **labelled** as **number** or **user defined index**.\n",
    "    - By **default indexes** are 0,1,2,.. like **arrays**\n",
    "    - Like **dictionary** we can use it as **key-value** pair\n",
    "\n",
    "<br>\n",
    "\n",
    "**Syntax:** \n",
    "- <code>pd.Series([])</code>\n",
    "- <code>pd.Series([],index=[])</code>"
   ]
  },
  {
   "cell_type": "markdown",
   "id": "e8944078-5516-4580-a8a2-84282a7235ad",
   "metadata": {
    "jp-MarkdownHeadingCollapsed": true,
    "tags": []
   },
   "source": [
    "***\n",
    "#### **Loading Data Into Series Using <code>pd.Series([])</code>**"
   ]
  },
  {
   "cell_type": "code",
   "execution_count": 2,
   "id": "c318af39-d585-4aad-93d9-a1eb9dc844e3",
   "metadata": {
    "tags": []
   },
   "outputs": [
    {
     "data": {
      "text/plain": [
       "0    1\n",
       "1    2\n",
       "2    3\n",
       "3    4\n",
       "dtype: int64"
      ]
     },
     "execution_count": 2,
     "metadata": {},
     "output_type": "execute_result"
    }
   ],
   "source": [
    "col = [1,2,3,4]\n",
    "series = pd.Series(col)\n",
    "series"
   ]
  },
  {
   "cell_type": "code",
   "execution_count": 3,
   "id": "eb62f7a5-75ba-460a-9fff-cbf484180abd",
   "metadata": {
    "tags": []
   },
   "outputs": [
    {
     "data": {
      "text/plain": [
       "1"
      ]
     },
     "execution_count": 3,
     "metadata": {},
     "output_type": "execute_result"
    }
   ],
   "source": [
    "series[0] #Normal Indexing"
   ]
  },
  {
   "cell_type": "code",
   "execution_count": 4,
   "id": "43591941-c844-40c2-997c-505d3efcf598",
   "metadata": {
    "tags": []
   },
   "outputs": [
    {
     "data": {
      "text/plain": [
       "1    2\n",
       "2    3\n",
       "3    4\n",
       "dtype: int64"
      ]
     },
     "execution_count": 4,
     "metadata": {},
     "output_type": "execute_result"
    }
   ],
   "source": [
    "series[1:] #Support Slicing"
   ]
  },
  {
   "cell_type": "markdown",
   "id": "5f52b2f8-d2dd-4d2e-b021-7fa9737b91d0",
   "metadata": {
    "jp-MarkdownHeadingCollapsed": true,
    "tags": []
   },
   "source": [
    "***\n",
    "#### **Loading Data Into Series Using <code>pd.Series([],index=[])</code>**"
   ]
  },
  {
   "cell_type": "code",
   "execution_count": 5,
   "id": "2583a01d-7396-43bc-8e64-527f74eab54a",
   "metadata": {
    "tags": []
   },
   "outputs": [
    {
     "data": {
      "text/plain": [
       "Name      hari\n",
       "Course      CS\n",
       "CGPA       8.5\n",
       "3         None\n",
       "dtype: object"
      ]
     },
     "execution_count": 5,
     "metadata": {},
     "output_type": "execute_result"
    }
   ],
   "source": [
    "# Using Two lists\n",
    "col = [\"hari\",\"CS\",8.5,None]\n",
    "ind = [\"Name\",\"Course\",\"CGPA\",3]\n",
    "series1 = pd.Series(col,index=ind)\n",
    "series1"
   ]
  },
  {
   "cell_type": "code",
   "execution_count": 6,
   "id": "8c9c317c-89e0-47c6-8210-d69e32a7311e",
   "metadata": {
    "tags": []
   },
   "outputs": [
    {
     "data": {
      "text/plain": [
       "'hari'"
      ]
     },
     "execution_count": 6,
     "metadata": {},
     "output_type": "execute_result"
    }
   ],
   "source": [
    "series1[\"Name\"]"
   ]
  },
  {
   "cell_type": "code",
   "execution_count": 7,
   "id": "a68f69c4-f9fc-4c3c-85c4-e6cbb00ff76c",
   "metadata": {
    "tags": []
   },
   "outputs": [
    {
     "name": "stdout",
     "output_type": "stream",
     "text": [
      "None\n"
     ]
    }
   ],
   "source": [
    "print(series1[3])"
   ]
  },
  {
   "cell_type": "code",
   "execution_count": 8,
   "id": "968defa3-08ce-4f9d-8423-f2779540858d",
   "metadata": {
    "tags": []
   },
   "outputs": [
    {
     "data": {
      "text/plain": [
       "Name       Sri\n",
       "Course     EEE\n",
       "CGPA       8.0\n",
       "3         None\n",
       "dtype: object"
      ]
     },
     "execution_count": 8,
     "metadata": {},
     "output_type": "execute_result"
    }
   ],
   "source": [
    "#Using Dictionary\n",
    "dict1 = {\n",
    "    \"Name\":\"Sri\",\n",
    "    \"Course\":\"EEE\",\n",
    "    \"CGPA\":8.0,\n",
    "    3:None\n",
    "}\n",
    "series2 = pd.Series(dict1)\n",
    "series2"
   ]
  },
  {
   "cell_type": "code",
   "execution_count": 9,
   "id": "2218a59b-0c37-428d-938b-c7e2dd84ff43",
   "metadata": {
    "tags": []
   },
   "outputs": [
    {
     "data": {
      "text/plain": [
       "Name    Sri\n",
       "CGPA    8.0\n",
       "dtype: object"
      ]
     },
     "execution_count": 9,
     "metadata": {},
     "output_type": "execute_result"
    }
   ],
   "source": [
    "# Taking only the needed key-value pair\n",
    "series3 = pd.Series(dict1,index=[\"Name\",\"CGPA\"])\n",
    "series3"
   ]
  },
  {
   "cell_type": "code",
   "execution_count": 10,
   "id": "1ebeece6-a366-4218-bfaa-a02dce5906f0",
   "metadata": {
    "tags": []
   },
   "outputs": [
    {
     "ename": "ValueError",
     "evalue": "Length of values (4) does not match length of index (3)",
     "output_type": "error",
     "traceback": [
      "\u001b[0;31m---------------------------------------------------------------------------\u001b[0m",
      "\u001b[0;31mValueError\u001b[0m                                Traceback (most recent call last)",
      "Cell \u001b[0;32mIn[10], line 4\u001b[0m\n\u001b[1;32m      2\u001b[0m col \u001b[38;5;241m=\u001b[39m [\u001b[38;5;124m\"\u001b[39m\u001b[38;5;124mhari\u001b[39m\u001b[38;5;124m\"\u001b[39m,\u001b[38;5;124m\"\u001b[39m\u001b[38;5;124mCS\u001b[39m\u001b[38;5;124m\"\u001b[39m,\u001b[38;5;241m8.5\u001b[39m,\u001b[38;5;28;01mNone\u001b[39;00m]\n\u001b[1;32m      3\u001b[0m ind \u001b[38;5;241m=\u001b[39m [\u001b[38;5;124m\"\u001b[39m\u001b[38;5;124mName\u001b[39m\u001b[38;5;124m\"\u001b[39m,\u001b[38;5;124m\"\u001b[39m\u001b[38;5;124mCourse\u001b[39m\u001b[38;5;124m\"\u001b[39m,\u001b[38;5;124m\"\u001b[39m\u001b[38;5;124mCGPA\u001b[39m\u001b[38;5;124m\"\u001b[39m]\n\u001b[0;32m----> 4\u001b[0m series4 \u001b[38;5;241m=\u001b[39m \u001b[43mpd\u001b[49m\u001b[38;5;241;43m.\u001b[39;49m\u001b[43mSeries\u001b[49m\u001b[43m(\u001b[49m\u001b[43mcol\u001b[49m\u001b[43m,\u001b[49m\u001b[43mindex\u001b[49m\u001b[38;5;241;43m=\u001b[39;49m\u001b[43mind\u001b[49m\u001b[43m)\u001b[49m\n\u001b[1;32m      5\u001b[0m series4\n\u001b[1;32m      6\u001b[0m \u001b[38;5;66;03m# Error\u001b[39;00m\n",
      "File \u001b[0;32m~/.local/lib/python3.8/site-packages/pandas/core/series.py:430\u001b[0m, in \u001b[0;36mSeries.__init__\u001b[0;34m(self, data, index, dtype, name, copy, fastpath)\u001b[0m\n\u001b[1;32m    428\u001b[0m     index \u001b[38;5;241m=\u001b[39m ibase\u001b[38;5;241m.\u001b[39mdefault_index(\u001b[38;5;28mlen\u001b[39m(data))\n\u001b[1;32m    429\u001b[0m \u001b[38;5;28;01melif\u001b[39;00m is_list_like(data):\n\u001b[0;32m--> 430\u001b[0m     \u001b[43mcom\u001b[49m\u001b[38;5;241;43m.\u001b[39;49m\u001b[43mrequire_length_match\u001b[49m\u001b[43m(\u001b[49m\u001b[43mdata\u001b[49m\u001b[43m,\u001b[49m\u001b[43m \u001b[49m\u001b[43mindex\u001b[49m\u001b[43m)\u001b[49m\n\u001b[1;32m    432\u001b[0m \u001b[38;5;66;03m# create/copy the manager\u001b[39;00m\n\u001b[1;32m    433\u001b[0m \u001b[38;5;28;01mif\u001b[39;00m \u001b[38;5;28misinstance\u001b[39m(data, (SingleBlockManager, SingleArrayManager)):\n",
      "File \u001b[0;32m~/.local/lib/python3.8/site-packages/pandas/core/common.py:531\u001b[0m, in \u001b[0;36mrequire_length_match\u001b[0;34m(data, index)\u001b[0m\n\u001b[1;32m    527\u001b[0m \u001b[38;5;250m\u001b[39m\u001b[38;5;124;03m\"\"\"\u001b[39;00m\n\u001b[1;32m    528\u001b[0m \u001b[38;5;124;03mCheck the length of data matches the length of the index.\u001b[39;00m\n\u001b[1;32m    529\u001b[0m \u001b[38;5;124;03m\"\"\"\u001b[39;00m\n\u001b[1;32m    530\u001b[0m \u001b[38;5;28;01mif\u001b[39;00m \u001b[38;5;28mlen\u001b[39m(data) \u001b[38;5;241m!=\u001b[39m \u001b[38;5;28mlen\u001b[39m(index):\n\u001b[0;32m--> 531\u001b[0m     \u001b[38;5;28;01mraise\u001b[39;00m \u001b[38;5;167;01mValueError\u001b[39;00m(\n\u001b[1;32m    532\u001b[0m         \u001b[38;5;124m\"\u001b[39m\u001b[38;5;124mLength of values \u001b[39m\u001b[38;5;124m\"\u001b[39m\n\u001b[1;32m    533\u001b[0m         \u001b[38;5;124mf\u001b[39m\u001b[38;5;124m\"\u001b[39m\u001b[38;5;124m(\u001b[39m\u001b[38;5;132;01m{\u001b[39;00m\u001b[38;5;28mlen\u001b[39m(data)\u001b[38;5;132;01m}\u001b[39;00m\u001b[38;5;124m) \u001b[39m\u001b[38;5;124m\"\u001b[39m\n\u001b[1;32m    534\u001b[0m         \u001b[38;5;124m\"\u001b[39m\u001b[38;5;124mdoes not match length of index \u001b[39m\u001b[38;5;124m\"\u001b[39m\n\u001b[1;32m    535\u001b[0m         \u001b[38;5;124mf\u001b[39m\u001b[38;5;124m\"\u001b[39m\u001b[38;5;124m(\u001b[39m\u001b[38;5;132;01m{\u001b[39;00m\u001b[38;5;28mlen\u001b[39m(index)\u001b[38;5;132;01m}\u001b[39;00m\u001b[38;5;124m)\u001b[39m\u001b[38;5;124m\"\u001b[39m\n\u001b[1;32m    536\u001b[0m     )\n",
      "\u001b[0;31mValueError\u001b[0m: Length of values (4) does not match length of index (3)"
     ]
    }
   ],
   "source": [
    "# What if no_of_index is not equal to no_of_values\n",
    "col = [\"hari\",\"CS\",8.5,None]\n",
    "ind = [\"Name\",\"Course\",\"CGPA\"]\n",
    "series4 = pd.Series(col,index=ind)\n",
    "series4\n",
    "# Error"
   ]
  },
  {
   "cell_type": "markdown",
   "id": "1ee63bf9-38b1-4683-8203-af9458569bd9",
   "metadata": {
    "tags": []
   },
   "source": [
    "***\n",
    "### **DataFrames**\n",
    "- A Panda DataFrames is like a table.\n",
    "- It is a **Two-Dimensional** array holding **data of any type**.\n",
    "\n",
    "**Syntax:**\n",
    "- <code>pd.DataFrame(dict)</code>\n",
    "- <code>pd.DataFrame(dict,index=[])</code>\n",
    "- <code>pd.DataFrame([series1,series2])</code>\n",
    "- <code>pd.read_csv(\"file_path\")</code>\n",
    "- <code>pd.read_excel(\"file_path\")</code>"
   ]
  },
  {
   "cell_type": "markdown",
   "id": "4847f16c-7802-4e61-bdc3-a4066a08c040",
   "metadata": {
    "jp-MarkdownHeadingCollapsed": true,
    "tags": []
   },
   "source": [
    "#### **Loading Data Into DataFrames Using Dictionary**\n",
    "- Each **key** is recommended to have **list of values**\n",
    "    - Beacuse DataFrame is 2-D Data Structure "
   ]
  },
  {
   "cell_type": "code",
   "execution_count": null,
   "id": "7dd87bee-67b6-43c8-99a4-f1c60cd95344",
   "metadata": {
    "tags": []
   },
   "outputs": [],
   "source": [
    "dict2 = {\n",
    "    \"Name\":[\"Hari\",\"Dheepan\",\"Hithesh\",\"Shree\"],\n",
    "    \"CGPA\":[8.0,6.5,7.8,9.0],\n",
    "    \"City\":[\"Pdk\",\"Salem\",\"Chennai\",\"Coimbatore\"]\n",
    "}\n",
    "df = pd.DataFrame(dict2)\n",
    "df"
   ]
  },
  {
   "cell_type": "code",
   "execution_count": null,
   "id": "e4a3bc2c-a412-41fd-a374-01a4dbe03395",
   "metadata": {
    "tags": []
   },
   "outputs": [],
   "source": [
    "df1 = pd.DataFrame(dict2,index=[\"A\",\"B\",\"C\",\"D\"])\n",
    "df1"
   ]
  },
  {
   "cell_type": "markdown",
   "id": "abf6da47-4f7e-4ef7-81ca-c787e3497575",
   "metadata": {
    "jp-MarkdownHeadingCollapsed": true,
    "tags": []
   },
   "source": [
    "***\n",
    "#### **Loading Data Into DataFrames Using Series**"
   ]
  },
  {
   "cell_type": "code",
   "execution_count": null,
   "id": "fadfdd77-528a-4a2d-b66e-6742e6d59656",
   "metadata": {
    "tags": []
   },
   "outputs": [],
   "source": [
    "df2 = pd.DataFrame([series1,series2])\n",
    "df2"
   ]
  },
  {
   "cell_type": "code",
   "execution_count": null,
   "id": "2ac66c86-fa2c-482d-b7ec-27b90b073270",
   "metadata": {
    "tags": []
   },
   "outputs": [],
   "source": [
    "df2 = pd.DataFrame([series1,series2],index=[\"A\",\"B\"])\n",
    "df2"
   ]
  },
  {
   "cell_type": "markdown",
   "id": "1e6a875b-6d49-4704-80e2-0e30832a46d4",
   "metadata": {
    "jp-MarkdownHeadingCollapsed": true,
    "tags": []
   },
   "source": [
    "***\n",
    "#### **Loading Data Into DataFrames Using sklearn.datasets**\n",
    "\n",
    "**Sklearn.datasets** contains some practice datasets which are used to practice **ML Concepts**."
   ]
  },
  {
   "cell_type": "markdown",
   "id": "7b45e311-44eb-4d51-8d7a-8421d27cf23d",
   "metadata": {
    "tags": []
   },
   "source": [
    "##### **Importing the boston house price data**\n",
    "- We get the data in the **format**: **Bunch**(Dictionary)\n",
    "\n",
    "In **Bunch** we have **six keys** ***(data,feature_names,target,target_names,DESCR,filename):***\n",
    "\n",
    "- **data:** all the feature data (the attributes of the scan that help us identify if the tumor is malignant or benign, such as radius, area, etc.) in a NumPy array\n",
    "- **feature_names:** are the names of the feature variables, in other words names of the columns in data\n",
    "- **target:** the target data (the variable you want to predict, in this case whether the tumor is malignant or benign) in a NumPy array,\n",
    "- **target_names:** the name(s) of the target variable(s), in other words name(s) of the target column(s)\n",
    "- **DESCR:**  short for DESCRIPTION, is a description of the dataset\n",
    "- **filename:** is the path to the actual file of the data in CSV format."
   ]
  },
  {
   "cell_type": "code",
   "execution_count": null,
   "id": "35ecb45c-a57a-46be-bb0c-621a6920219a",
   "metadata": {
    "tags": []
   },
   "outputs": [],
   "source": [
    "from sklearn.datasets import load_boston"
   ]
  },
  {
   "cell_type": "code",
   "execution_count": null,
   "id": "b431e351-f55d-4e5e-8484-c5e9829da7b4",
   "metadata": {
    "tags": []
   },
   "outputs": [],
   "source": [
    "boston_dataset = load_boston()"
   ]
  },
  {
   "cell_type": "code",
   "execution_count": null,
   "id": "b5398b6f-1b3e-4ee1-b835-d78cf2462c2d",
   "metadata": {
    "tags": []
   },
   "outputs": [],
   "source": [
    "print(type(boston_dataset)) # DataType is Bunch"
   ]
  },
  {
   "cell_type": "code",
   "execution_count": null,
   "id": "92dda5b9-3788-4ad1-9477-6aede0bc12ed",
   "metadata": {
    "tags": []
   },
   "outputs": [],
   "source": [
    "print(boston_dataset)\n",
    "# we get the data in \"dictionary\" format"
   ]
  },
  {
   "cell_type": "markdown",
   "id": "e6029b93-ee45-4932-904e-dc3177694e47",
   "metadata": {
    "tags": []
   },
   "source": [
    "\n",
    "##### **Coverting Bunch to DataFrame**"
   ]
  },
  {
   "cell_type": "code",
   "execution_count": null,
   "id": "30dd5be7-cd5d-4f5d-9556-0f54bf580b5b",
   "metadata": {
    "tags": []
   },
   "outputs": [],
   "source": [
    "boston_df = pd.DataFrame(boston_dataset.data, columns = boston_dataset.feature_names)"
   ]
  },
  {
   "cell_type": "code",
   "execution_count": null,
   "id": "b9b0f46f-8428-4a08-90b6-04ad5d0ba8d8",
   "metadata": {
    "tags": []
   },
   "outputs": [],
   "source": [
    "boston_df"
   ]
  },
  {
   "cell_type": "markdown",
   "id": "b3d94e94-9a0f-4dc5-aea9-9a8fcd73b810",
   "metadata": {
    "jp-MarkdownHeadingCollapsed": true,
    "tags": []
   },
   "source": [
    "##### **Some Basic In-built methods**"
   ]
  },
  {
   "cell_type": "code",
   "execution_count": null,
   "id": "6c191301-dac2-4847-936f-4b4b96fac6a6",
   "metadata": {
    "tags": []
   },
   "outputs": [],
   "source": [
    "boston_df.head()\n",
    "#Prints first 5 rows"
   ]
  },
  {
   "cell_type": "code",
   "execution_count": null,
   "id": "8634014e-0a01-4034-a2ae-2d7a60b8b7bb",
   "metadata": {
    "tags": []
   },
   "outputs": [],
   "source": [
    "boston_df.tail()\n",
    "#Prints last 5 rows"
   ]
  },
  {
   "cell_type": "code",
   "execution_count": null,
   "id": "aee30832-66b9-41e7-a05d-baea43d06e12",
   "metadata": {
    "tags": []
   },
   "outputs": [],
   "source": [
    "boston_df.head(10)\n",
    "#print first 10 rows"
   ]
  },
  {
   "cell_type": "code",
   "execution_count": null,
   "id": "7fa1d410-3fdd-4ce0-92f5-9664686c61bb",
   "metadata": {
    "tags": []
   },
   "outputs": [],
   "source": [
    "boston_df.tail(10)\n",
    "#print last 10 rows"
   ]
  },
  {
   "cell_type": "code",
   "execution_count": null,
   "id": "8d4b09bd-a4c5-4ee4-8269-414c5f46c09e",
   "metadata": {
    "tags": []
   },
   "outputs": [],
   "source": [
    "boston_df.shape\n",
    "# print (no_of_rows, no_of_columns)"
   ]
  },
  {
   "cell_type": "markdown",
   "id": "8546a402-e47c-4400-9ce7-48f81c59a6d2",
   "metadata": {
    "jp-MarkdownHeadingCollapsed": true,
    "tags": []
   },
   "source": [
    "***\n",
    "#### **Loading DataFrame using \".csv\" file**"
   ]
  },
  {
   "cell_type": "code",
   "execution_count": null,
   "id": "2c8aac70-312a-4004-9de7-2b0da6e7a8cc",
   "metadata": {
    "tags": []
   },
   "outputs": [],
   "source": [
    "diabetes_df = pd.read_csv(\"../data/diabetes.csv\")"
   ]
  },
  {
   "cell_type": "code",
   "execution_count": null,
   "id": "cdbee128-9bbb-447d-b000-6e51b1697c8c",
   "metadata": {
    "tags": []
   },
   "outputs": [],
   "source": [
    "type(diabetes_df)"
   ]
  },
  {
   "cell_type": "code",
   "execution_count": null,
   "id": "eaaa071e-8bd7-44f2-85e5-25c51486f121",
   "metadata": {
    "tags": []
   },
   "outputs": [],
   "source": [
    "diabetes_df.head()"
   ]
  },
  {
   "cell_type": "code",
   "execution_count": null,
   "id": "2fc06c58-fa69-4e0e-8e8c-6e672622a99c",
   "metadata": {
    "tags": []
   },
   "outputs": [],
   "source": [
    "diabetes_df.tail()"
   ]
  },
  {
   "cell_type": "code",
   "execution_count": null,
   "id": "2ccf12d1-e480-457b-b008-fb0c7fa43603",
   "metadata": {
    "tags": []
   },
   "outputs": [],
   "source": [
    "diabetes_df.shape"
   ]
  },
  {
   "cell_type": "markdown",
   "id": "99582bb0-f6ba-4090-89c7-d311f069fd2d",
   "metadata": {
    "jp-MarkdownHeadingCollapsed": true,
    "tags": []
   },
   "source": [
    "***\n",
    "#### **Exporting DataFrame to csv file/excel file**"
   ]
  },
  {
   "cell_type": "code",
   "execution_count": null,
   "id": "d5b77f42-feab-4cc1-b600-dfdc29e15172",
   "metadata": {
    "tags": []
   },
   "outputs": [],
   "source": [
    "boston_df.to_csv('../output/boston.csv')"
   ]
  },
  {
   "cell_type": "code",
   "execution_count": null,
   "id": "090ed0ff-c799-4d2b-b8c3-42165bcd3122",
   "metadata": {
    "tags": []
   },
   "outputs": [],
   "source": [
    "boston_df.to_excel('../output/boston.xlsx')"
   ]
  },
  {
   "cell_type": "markdown",
   "id": "066c6162-99e2-43a7-b665-5adb3af2d619",
   "metadata": {
    "jp-MarkdownHeadingCollapsed": true,
    "tags": []
   },
   "source": [
    "***\n",
    "#### **Loading DataFrame with a Random Values**"
   ]
  },
  {
   "cell_type": "code",
   "execution_count": null,
   "id": "6b18301f-5beb-421b-8db1-802acf2a66bb",
   "metadata": {
    "tags": []
   },
   "outputs": [],
   "source": [
    "import numpy as np"
   ]
  },
  {
   "cell_type": "markdown",
   "id": "710cf605-f022-4e1c-b706-bcdb2c211117",
   "metadata": {
    "jp-MarkdownHeadingCollapsed": true,
    "tags": []
   },
   "source": [
    "##### **Own Logic to create random DataFrame**"
   ]
  },
  {
   "cell_type": "code",
   "execution_count": null,
   "id": "74e1c0d2-e48b-4549-a3e8-611e515e0cd2",
   "metadata": {
    "tags": []
   },
   "outputs": [],
   "source": [
    "rand_dict = dict()"
   ]
  },
  {
   "cell_type": "code",
   "execution_count": null,
   "id": "71c5a5bc-2698-41df-87f1-5c6471a995c1",
   "metadata": {
    "tags": []
   },
   "outputs": [],
   "source": [
    "rows = 10\n",
    "cols =10\n",
    "rand_dict[\"data\"] = np.random.randint(10,20,(rows,cols))"
   ]
  },
  {
   "cell_type": "code",
   "execution_count": null,
   "id": "d126fdd0-2b77-495f-b1f4-dc0321004a51",
   "metadata": {
    "tags": []
   },
   "outputs": [],
   "source": [
    "rand_dict['data']"
   ]
  },
  {
   "cell_type": "code",
   "execution_count": null,
   "id": "9fd435bb-d8e6-4832-a8b3-c1b7504d9c1a",
   "metadata": {
    "tags": []
   },
   "outputs": [],
   "source": [
    "col = [\"column-\"+str(i+1) for i in range(cols)]\n",
    "col = np.array(col,dtype='U')\n",
    "rand_dict['feature_data'] = col\n",
    "rand_dict"
   ]
  },
  {
   "cell_type": "code",
   "execution_count": null,
   "id": "2685c628-89ea-4e0c-aa65-a2e288f33a25",
   "metadata": {
    "tags": []
   },
   "outputs": [],
   "source": [
    "rand_df = pd.DataFrame(rand_dict[\"data\"],columns=rand_dict[\"feature_data\"])\n",
    "rand_df"
   ]
  },
  {
   "cell_type": "markdown",
   "id": "c54c0050-d285-45f9-bf27-f6eef617394a",
   "metadata": {
    "jp-MarkdownHeadingCollapsed": true,
    "tags": []
   },
   "source": [
    "##### **Another Way**"
   ]
  },
  {
   "cell_type": "code",
   "execution_count": null,
   "id": "a6ce5a14-01eb-4a05-8ca7-39db95a714e1",
   "metadata": {
    "tags": []
   },
   "outputs": [],
   "source": [
    "rand_df = pd.DataFrame(np.random.rand(10,20))\n",
    "rand_df"
   ]
  },
  {
   "cell_type": "markdown",
   "id": "5eda30ac-b93d-4327-bd32-d44b8e0ecb6c",
   "metadata": {
    "jp-MarkdownHeadingCollapsed": true,
    "tags": []
   },
   "source": [
    "***\n",
    "## **Analysing The DataFrame**"
   ]
  },
  {
   "cell_type": "markdown",
   "id": "5823ea7a-fa89-42ee-84d0-bf2f4810a297",
   "metadata": {
    "tags": []
   },
   "source": [
    "\n",
    "### **Finding the number of rows and columns**"
   ]
  },
  {
   "cell_type": "code",
   "execution_count": null,
   "id": "83b3a54b-8507-47ca-96f2-b8cbf6079e57",
   "metadata": {
    "tags": []
   },
   "outputs": [],
   "source": [
    "boston_df.shape"
   ]
  },
  {
   "cell_type": "markdown",
   "id": "05401386-0e54-499d-baf4-87f85c00daf0",
   "metadata": {
    "jp-MarkdownHeadingCollapsed": true,
    "tags": []
   },
   "source": [
    "***\n",
    "### **DataFrame.head(n) (First n rows)** "
   ]
  },
  {
   "cell_type": "code",
   "execution_count": null,
   "id": "b0ad4120-a673-408d-a916-b75f20e4457d",
   "metadata": {
    "tags": []
   },
   "outputs": [],
   "source": [
    "boston_df.head() # by default 5 rows"
   ]
  },
  {
   "cell_type": "code",
   "execution_count": null,
   "id": "53a8bdbf-ecc9-4631-af71-1c63d930e950",
   "metadata": {
    "tags": []
   },
   "outputs": [],
   "source": [
    "boston_df.head(7)"
   ]
  },
  {
   "cell_type": "markdown",
   "id": "3b286381-a3da-47b8-806d-019e9496f5e2",
   "metadata": {
    "jp-MarkdownHeadingCollapsed": true,
    "tags": []
   },
   "source": [
    "***\n",
    "### **DataFrame.tail(n) (Last n rows)** "
   ]
  },
  {
   "cell_type": "code",
   "execution_count": null,
   "id": "5b549559-ecda-4426-8762-9dd510850566",
   "metadata": {
    "tags": []
   },
   "outputs": [],
   "source": [
    "boston_df.tail() # by default 5 rows"
   ]
  },
  {
   "cell_type": "code",
   "execution_count": null,
   "id": "77cf1fbf-b5af-4271-950c-f4df460293b4",
   "metadata": {
    "tags": []
   },
   "outputs": [],
   "source": [
    "boston_df.tail(7)"
   ]
  },
  {
   "cell_type": "markdown",
   "id": "9913a3dd-1a4f-4896-8933-bfb5b297cd5f",
   "metadata": {
    "jp-MarkdownHeadingCollapsed": true,
    "tags": []
   },
   "source": [
    "***\n",
    "### **DataFrame.info()**\n",
    "- **No of columns** with name and **no of rows(entries)**.\n",
    "- **Datatype** of the values for each column\n",
    "- **Number of values** in the **column(non-null + null)** \n",
    "- Gives the **number of non-null values** and **null values** seperately\n",
    "    - **Null values** means missing value"
   ]
  },
  {
   "cell_type": "code",
   "execution_count": null,
   "id": "8df0b359-260c-4296-8ac8-3427381c6199",
   "metadata": {
    "tags": []
   },
   "outputs": [],
   "source": [
    "boston_df.info()"
   ]
  },
  {
   "cell_type": "markdown",
   "id": "fb45ed58-b2d0-4791-93e1-b19d1d4bdf46",
   "metadata": {
    "jp-MarkdownHeadingCollapsed": true,
    "tags": []
   },
   "source": [
    "***\n",
    "### **Finding the Number of Missing Values**\n",
    "<code>Dataframe.isnull().sum()</code>"
   ]
  },
  {
   "cell_type": "code",
   "execution_count": null,
   "id": "3e99bad8-44b1-4eaf-9e61-8b8e01c60449",
   "metadata": {
    "tags": []
   },
   "outputs": [],
   "source": [
    "boston_df.isnull() "
   ]
  },
  {
   "cell_type": "code",
   "execution_count": null,
   "id": "7f0ebeea-e90e-4ce1-94db-79a1d0f94301",
   "metadata": {
    "tags": []
   },
   "outputs": [],
   "source": [
    "boston_df.isnull().sum()"
   ]
  },
  {
   "cell_type": "markdown",
   "id": "4287b423-9484-46f1-a178-953be8f755c6",
   "metadata": {
    "jp-MarkdownHeadingCollapsed": true,
    "tags": []
   },
   "source": [
    "***\n",
    "### **Counting The Values Based On Labels**\n",
    "<code>DataFrame.value_counts(\"column_name\")</code>"
   ]
  },
  {
   "cell_type": "code",
   "execution_count": null,
   "id": "2ea046e0-4baf-45a9-b7ce-ef530a1b65de",
   "metadata": {
    "tags": []
   },
   "outputs": [],
   "source": [
    "diabetes_df.value_counts(\"Outcome\")"
   ]
  },
  {
   "cell_type": "code",
   "execution_count": null,
   "id": "77277537-b296-4c68-8de7-9aace33c6eb4",
   "metadata": {
    "tags": []
   },
   "outputs": [],
   "source": [
    "diabetes_df.value_counts(\"Age\")"
   ]
  },
  {
   "cell_type": "markdown",
   "id": "43bc4efa-2c9d-4852-8fea-732f074d8ba0",
   "metadata": {
    "jp-MarkdownHeadingCollapsed": true,
    "tags": []
   },
   "source": [
    "***\n",
    "### **Applying function with Grouping and without Grouping**\n",
    "**With Grouping** : <code>DataFrame.groupby('column_name').mean()</code>\n",
    "**Without Grouping** : <code>DataFrame.mean()</code>"
   ]
  },
  {
   "cell_type": "code",
   "execution_count": null,
   "id": "8f4ab918-bdcd-4f84-8a5b-fd51c8d77e17",
   "metadata": {
    "tags": []
   },
   "outputs": [],
   "source": [
    "# with grouping\n",
    "diabetes_df.groupby('Outcome').mean()"
   ]
  },
  {
   "cell_type": "code",
   "execution_count": null,
   "id": "3b775bca-60f5-45ba-8afe-ce4e8979434d",
   "metadata": {
    "tags": []
   },
   "outputs": [],
   "source": [
    "# without grouping\n",
    "diabetes_df.mean()"
   ]
  },
  {
   "cell_type": "markdown",
   "id": "f21781f4-ec4c-4ef4-91fe-ff23eda0baa0",
   "metadata": {
    "jp-MarkdownHeadingCollapsed": true,
    "tags": []
   },
   "source": [
    "***\n",
    "## **Statistical Analysis**"
   ]
  },
  {
   "cell_type": "markdown",
   "id": "bfa87d7d-33f1-4cdf-9d63-acaaf4ef5091",
   "metadata": {
    "tags": []
   },
   "source": [
    "### **Count Number Of Values**"
   ]
  },
  {
   "cell_type": "code",
   "execution_count": null,
   "id": "f9068359-dc37-44b2-b401-dab767205cbf",
   "metadata": {
    "tags": []
   },
   "outputs": [],
   "source": [
    "boston_df.count()"
   ]
  },
  {
   "cell_type": "markdown",
   "id": "1c4db0f2-a7a0-438e-a176-4a7ff359ad69",
   "metadata": {
    "jp-MarkdownHeadingCollapsed": true,
    "tags": []
   },
   "source": [
    "***\n",
    "### **Mean Value - Column Wise**"
   ]
  },
  {
   "cell_type": "code",
   "execution_count": null,
   "id": "a44b9a70-64bb-4b8d-b41e-8ed746731d3d",
   "metadata": {
    "tags": []
   },
   "outputs": [],
   "source": [
    "boston_df.mean()"
   ]
  },
  {
   "cell_type": "markdown",
   "id": "1253e0ac-daa3-45f8-891b-96e134636111",
   "metadata": {
    "jp-MarkdownHeadingCollapsed": true,
    "tags": []
   },
   "source": [
    "***\n",
    "### **Standard Deviation Column Wise**"
   ]
  },
  {
   "cell_type": "code",
   "execution_count": null,
   "id": "1fb1603f-cabf-4427-8e16-35c2c10bbae2",
   "metadata": {
    "tags": []
   },
   "outputs": [],
   "source": [
    "boston_df.std()"
   ]
  },
  {
   "cell_type": "markdown",
   "id": "15c9669d-bb83-4ef2-9497-68e82a7cd4cb",
   "metadata": {
    "jp-MarkdownHeadingCollapsed": true,
    "tags": []
   },
   "source": [
    "***\n",
    "### **Minimum & Maximum Value In Each Column**"
   ]
  },
  {
   "cell_type": "code",
   "execution_count": null,
   "id": "e4c1e117-6fee-4c3b-9960-da313919bdbd",
   "metadata": {
    "tags": []
   },
   "outputs": [],
   "source": [
    "boston_df.min()"
   ]
  },
  {
   "cell_type": "code",
   "execution_count": null,
   "id": "741d396b-49af-4c45-9b60-6c231be16041",
   "metadata": {
    "tags": []
   },
   "outputs": [],
   "source": [
    "boston_df.max()"
   ]
  },
  {
   "cell_type": "markdown",
   "id": "09a5a606-948f-41b6-a50e-5ba3ee7a1f2d",
   "metadata": {
    "jp-MarkdownHeadingCollapsed": true,
    "tags": []
   },
   "source": [
    "***\n",
    "### **Statistical Analysis using one method**"
   ]
  },
  {
   "cell_type": "code",
   "execution_count": null,
   "id": "29ad4ee0-0ba8-45d8-9cee-11001f18ba77",
   "metadata": {
    "tags": []
   },
   "outputs": [],
   "source": [
    "boston_df.describe()\n",
    "# below output\n",
    "# 25% - 25% of the value are less than 0.0820 \n",
    "# 50% - 50% of value are less than 0.256510\n",
    "# 75% - 75% of value are less than 3.677083\n",
    "#(Percentile)"
   ]
  },
  {
   "cell_type": "markdown",
   "id": "3c1f013f-7b7e-4cd3-8b94-176c1dbec284",
   "metadata": {
    "jp-MarkdownHeadingCollapsed": true,
    "tags": []
   },
   "source": [
    "***\n",
    "## **Manipulating The DataFrame**"
   ]
  },
  {
   "cell_type": "markdown",
   "id": "09e0bc8f-2afb-453b-80a4-c199b7f10917",
   "metadata": {
    "jp-MarkdownHeadingCollapsed": true,
    "tags": []
   },
   "source": [
    "\n",
    "### **Adding The Column/Row to DataFrame**"
   ]
  },
  {
   "cell_type": "markdown",
   "id": "c01201ed-797c-4fca-ae2f-fbc581d279ad",
   "metadata": {
    "jp-MarkdownHeadingCollapsed": true,
    "tags": []
   },
   "source": [
    "#### **Adding Column**"
   ]
  },
  {
   "cell_type": "code",
   "execution_count": null,
   "id": "417d3bc8-66cf-4c4b-8eaa-d568c38a0c59",
   "metadata": {
    "tags": []
   },
   "outputs": [],
   "source": [
    "boston_df1 = boston_df\n",
    "boston_df1['Price'] = boston_dataset.target\n",
    "boston_df1"
   ]
  },
  {
   "cell_type": "markdown",
   "id": "51da7962-2264-4dcd-ac8b-1d98cdabe064",
   "metadata": {
    "tags": []
   },
   "source": [
    "#### **Adding a row**"
   ]
  },
  {
   "cell_type": "code",
   "execution_count": null,
   "id": "323dad79-dd82-42bc-82bc-05ea091e54c7",
   "metadata": {},
   "outputs": [],
   "source": [
    "df"
   ]
  },
  {
   "cell_type": "code",
   "execution_count": null,
   "id": "24809cd8-c485-45b0-80b4-a5a3e62e84bf",
   "metadata": {
    "tags": []
   },
   "outputs": [],
   "source": [
    "df1 = df.append({\"Name\":\"Abbi\",\"CGPA\":7.6,\"City\":\"Vilu\"},ignore_index=True)\n",
    "df"
   ]
  },
  {
   "cell_type": "code",
   "execution_count": null,
   "id": "b7c24d56-e128-45e6-ace7-15f31cd4c5fe",
   "metadata": {
    "tags": []
   },
   "outputs": [],
   "source": [
    "df1\n",
    "# Above code didn't add row in original DataFrame"
   ]
  },
  {
   "cell_type": "code",
   "execution_count": null,
   "id": "be4361b5-e318-4444-9015-772a4772915c",
   "metadata": {
    "tags": []
   },
   "outputs": [],
   "source": [
    "df1.loc[len(df1)] = ['Nithu',9.0,\"Dindgul\"]"
   ]
  },
  {
   "cell_type": "code",
   "execution_count": null,
   "id": "521cda3d-190c-4de7-81b6-1a7f4e39c755",
   "metadata": {
    "tags": []
   },
   "outputs": [],
   "source": [
    "df1"
   ]
  },
  {
   "cell_type": "code",
   "execution_count": null,
   "id": "77821d7b-1e41-4db3-8335-286e9b2daf04",
   "metadata": {
    "tags": []
   },
   "outputs": [],
   "source": [
    "# Inserting At Specific Index\n",
    "df1.loc[1.5] = ['Sud',9.0,\"Dindgul\"]\n",
    "df1.sort_index().reset_index(drop=True)"
   ]
  },
  {
   "cell_type": "markdown",
   "id": "6b2d8b42-c69d-4ffc-ab1f-31a8fd6935aa",
   "metadata": {
    "jp-MarkdownHeadingCollapsed": true,
    "tags": []
   },
   "source": [
    "***\n",
    "### **Removing The Row/Column From DataFrame**\n",
    "<code>DataFrame.drop(index=,axis=)</code> <br>\n",
    "<code>axis=0</code> for row <br>\n",
    "<code>axis=1</code> for column <br>"
   ]
  },
  {
   "cell_type": "code",
   "execution_count": null,
   "id": "de051597-a848-41b3-ac51-dddc06765ff5",
   "metadata": {
    "tags": []
   },
   "outputs": [],
   "source": [
    "boston_df1.drop(index=0,axis=0)\n",
    "#Above code just return the removed dataframe, It won't remove the row from the datframe permently"
   ]
  },
  {
   "cell_type": "code",
   "execution_count": null,
   "id": "1aa2d7e5-e851-42fc-b7cd-412e5084e59a",
   "metadata": {
    "tags": []
   },
   "outputs": [],
   "source": [
    "boston_df1.drop(columns=\"Price\",axis=1)\n",
    "#Above code just return the removed dataframe, It won't remove the column from the dataframe permently"
   ]
  },
  {
   "cell_type": "code",
   "execution_count": null,
   "id": "be76d872-f011-42e8-abf6-9fbc8fb505ee",
   "metadata": {
    "tags": []
   },
   "outputs": [],
   "source": [
    "boston_df1.drop(columns=\"Price\",axis=1,inplace=True)\n",
    "# Removes the Column permently"
   ]
  },
  {
   "cell_type": "code",
   "execution_count": null,
   "id": "90b701be-b245-4e7c-813f-0e2dc2537687",
   "metadata": {
    "tags": []
   },
   "outputs": [],
   "source": [
    "boston_df1"
   ]
  },
  {
   "cell_type": "markdown",
   "id": "2b490f4b-ad27-4ee6-8cfa-6f778163cecf",
   "metadata": {
    "jp-MarkdownHeadingCollapsed": true,
    "tags": []
   },
   "source": [
    "***\n",
    "## **Locating a Row/Column**"
   ]
  },
  {
   "cell_type": "markdown",
   "id": "2f1fab63-98db-41b3-90a1-dc79ab20295e",
   "metadata": {
    "jp-MarkdownHeadingCollapsed": true,
    "tags": []
   },
   "source": [
    "### **Locating a Row**"
   ]
  },
  {
   "cell_type": "code",
   "execution_count": null,
   "id": "a253ec07-83aa-4232-8dd4-8f4523ba2a90",
   "metadata": {
    "tags": []
   },
   "outputs": [],
   "source": [
    "boston_df.iloc[2]\n",
    "# iloc is used for integer indexing."
   ]
  },
  {
   "cell_type": "code",
   "execution_count": null,
   "id": "97a9644d-cf95-4e33-a60d-4dedd790e206",
   "metadata": {
    "tags": []
   },
   "outputs": [],
   "source": [
    "boston_df.loc[boston_df.B==396.90]\n",
    "# loc is typically used for label indexing and can access multiple columns."
   ]
  },
  {
   "cell_type": "markdown",
   "id": "f9303d42-9652-4dd7-ac8d-6bcec54fc994",
   "metadata": {
    "jp-MarkdownHeadingCollapsed": true,
    "tags": []
   },
   "source": [
    "***\n",
    "### **Locating a Column**"
   ]
  },
  {
   "cell_type": "code",
   "execution_count": null,
   "id": "a1309206-1224-4c8c-bd95-0fe648b8b8a1",
   "metadata": {
    "tags": []
   },
   "outputs": [],
   "source": [
    "boston_df.iloc[:,0]"
   ]
  },
  {
   "cell_type": "code",
   "execution_count": null,
   "id": "4ffd4902-689a-42e8-8a4c-d877c856b012",
   "metadata": {
    "tags": []
   },
   "outputs": [],
   "source": [
    "boston_df.iloc[:,-1]"
   ]
  },
  {
   "cell_type": "markdown",
   "id": "a130f0d8-4a0b-4f76-9d81-214844c97247",
   "metadata": {
    "jp-MarkdownHeadingCollapsed": true,
    "tags": []
   },
   "source": [
    "***\n",
    "## **Correlation**\n",
    "- Relation between Columns\n",
    "\n",
    "### **Types of Correlation**\n",
    "1. **Positive Correlation**\n",
    "    - When one column's value changes, the other column's value change in the same direction. **(Either both increases or decreases)**\n",
    "2. **Negative Correlation**\n",
    "    - When one column's value changes, the other column's value change in the opposite direction. **(One increases or Other decreases)**"
   ]
  },
  {
   "cell_type": "code",
   "execution_count": null,
   "id": "177a83e5-b449-4a8e-b90c-1ed253f50046",
   "metadata": {
    "tags": []
   },
   "outputs": [],
   "source": [
    "boston_df.corr()"
   ]
  },
  {
   "cell_type": "markdown",
   "id": "7d7cce33-b1fc-4ce3-b2a3-ff3b3c64709a",
   "metadata": {
    "jp-MarkdownHeadingCollapsed": true,
    "tags": []
   },
   "source": [
    "## **Cleaning Data**"
   ]
  },
  {
   "cell_type": "markdown",
   "id": "ae31168d-81ff-4c88-a0b2-ebd17cd88fae",
   "metadata": {
    "jp-MarkdownHeadingCollapsed": true,
    "tags": []
   },
   "source": [
    "### **Removing Missing values**\n",
    "<code>DataFrame.dropna()</code>"
   ]
  },
  {
   "cell_type": "code",
   "execution_count": 35,
   "id": "2863193b-e9b9-40ef-a6c8-e8875c502a3d",
   "metadata": {
    "tags": []
   },
   "outputs": [
    {
     "data": {
      "text/html": [
       "<div>\n",
       "<style scoped>\n",
       "    .dataframe tbody tr th:only-of-type {\n",
       "        vertical-align: middle;\n",
       "    }\n",
       "\n",
       "    .dataframe tbody tr th {\n",
       "        vertical-align: top;\n",
       "    }\n",
       "\n",
       "    .dataframe thead th {\n",
       "        text-align: right;\n",
       "    }\n",
       "</style>\n",
       "<table border=\"1\" class=\"dataframe\">\n",
       "  <thead>\n",
       "    <tr style=\"text-align: right;\">\n",
       "      <th></th>\n",
       "      <th>Name</th>\n",
       "      <th>CGPA</th>\n",
       "      <th>City</th>\n",
       "    </tr>\n",
       "  </thead>\n",
       "  <tbody>\n",
       "    <tr>\n",
       "      <th>0</th>\n",
       "      <td>Hari</td>\n",
       "      <td>8.0</td>\n",
       "      <td>Pdk</td>\n",
       "    </tr>\n",
       "    <tr>\n",
       "      <th>1</th>\n",
       "      <td>Dheepan</td>\n",
       "      <td>6.5</td>\n",
       "      <td>Salem</td>\n",
       "    </tr>\n",
       "    <tr>\n",
       "      <th>2</th>\n",
       "      <td>Hithesh</td>\n",
       "      <td>7.8</td>\n",
       "      <td>Chennai</td>\n",
       "    </tr>\n",
       "    <tr>\n",
       "      <th>3</th>\n",
       "      <td>Shree</td>\n",
       "      <td>9.0</td>\n",
       "      <td>Coimbatore</td>\n",
       "    </tr>\n",
       "  </tbody>\n",
       "</table>\n",
       "</div>"
      ],
      "text/plain": [
       "      Name  CGPA        City\n",
       "0     Hari   8.0         Pdk\n",
       "1  Dheepan   6.5       Salem\n",
       "2  Hithesh   7.8     Chennai\n",
       "3    Shree   9.0  Coimbatore"
      ]
     },
     "execution_count": 35,
     "metadata": {},
     "output_type": "execute_result"
    }
   ],
   "source": [
    "dict2 = {\n",
    "    \"Name\":[\"Hari\",\"Dheepan\",\"Hithesh\",\"Shree\"],\n",
    "    \"CGPA\":[8.0,6.5,7.8,9.0],\n",
    "    \"City\":[\"Pdk\",\"Salem\",\"Chennai\",\"Coimbatore\"]\n",
    "}\n",
    "df = pd.DataFrame(dict2)\n",
    "df"
   ]
  },
  {
   "cell_type": "code",
   "execution_count": 36,
   "id": "4db978d6-8040-4c58-b8be-4ddc7138691f",
   "metadata": {
    "tags": []
   },
   "outputs": [],
   "source": [
    "for i in range(10):\n",
    "    df.loc[len(df)] = [\"\",None,\"\"]"
   ]
  },
  {
   "cell_type": "code",
   "execution_count": 37,
   "id": "729eea22-a663-4545-82f8-b08ab3be73d8",
   "metadata": {
    "tags": []
   },
   "outputs": [
    {
     "data": {
      "text/html": [
       "<div>\n",
       "<style scoped>\n",
       "    .dataframe tbody tr th:only-of-type {\n",
       "        vertical-align: middle;\n",
       "    }\n",
       "\n",
       "    .dataframe tbody tr th {\n",
       "        vertical-align: top;\n",
       "    }\n",
       "\n",
       "    .dataframe thead th {\n",
       "        text-align: right;\n",
       "    }\n",
       "</style>\n",
       "<table border=\"1\" class=\"dataframe\">\n",
       "  <thead>\n",
       "    <tr style=\"text-align: right;\">\n",
       "      <th></th>\n",
       "      <th>Name</th>\n",
       "      <th>CGPA</th>\n",
       "      <th>City</th>\n",
       "    </tr>\n",
       "  </thead>\n",
       "  <tbody>\n",
       "    <tr>\n",
       "      <th>0</th>\n",
       "      <td>Hari</td>\n",
       "      <td>8.0</td>\n",
       "      <td>Pdk</td>\n",
       "    </tr>\n",
       "    <tr>\n",
       "      <th>1</th>\n",
       "      <td>Dheepan</td>\n",
       "      <td>6.5</td>\n",
       "      <td>Salem</td>\n",
       "    </tr>\n",
       "    <tr>\n",
       "      <th>2</th>\n",
       "      <td>Hithesh</td>\n",
       "      <td>7.8</td>\n",
       "      <td>Chennai</td>\n",
       "    </tr>\n",
       "    <tr>\n",
       "      <th>3</th>\n",
       "      <td>Shree</td>\n",
       "      <td>9.0</td>\n",
       "      <td>Coimbatore</td>\n",
       "    </tr>\n",
       "    <tr>\n",
       "      <th>4</th>\n",
       "      <td></td>\n",
       "      <td>NaN</td>\n",
       "      <td></td>\n",
       "    </tr>\n",
       "    <tr>\n",
       "      <th>5</th>\n",
       "      <td></td>\n",
       "      <td>NaN</td>\n",
       "      <td></td>\n",
       "    </tr>\n",
       "    <tr>\n",
       "      <th>6</th>\n",
       "      <td></td>\n",
       "      <td>NaN</td>\n",
       "      <td></td>\n",
       "    </tr>\n",
       "    <tr>\n",
       "      <th>7</th>\n",
       "      <td></td>\n",
       "      <td>NaN</td>\n",
       "      <td></td>\n",
       "    </tr>\n",
       "    <tr>\n",
       "      <th>8</th>\n",
       "      <td></td>\n",
       "      <td>NaN</td>\n",
       "      <td></td>\n",
       "    </tr>\n",
       "    <tr>\n",
       "      <th>9</th>\n",
       "      <td></td>\n",
       "      <td>NaN</td>\n",
       "      <td></td>\n",
       "    </tr>\n",
       "    <tr>\n",
       "      <th>10</th>\n",
       "      <td></td>\n",
       "      <td>NaN</td>\n",
       "      <td></td>\n",
       "    </tr>\n",
       "    <tr>\n",
       "      <th>11</th>\n",
       "      <td></td>\n",
       "      <td>NaN</td>\n",
       "      <td></td>\n",
       "    </tr>\n",
       "    <tr>\n",
       "      <th>12</th>\n",
       "      <td></td>\n",
       "      <td>NaN</td>\n",
       "      <td></td>\n",
       "    </tr>\n",
       "    <tr>\n",
       "      <th>13</th>\n",
       "      <td></td>\n",
       "      <td>NaN</td>\n",
       "      <td></td>\n",
       "    </tr>\n",
       "  </tbody>\n",
       "</table>\n",
       "</div>"
      ],
      "text/plain": [
       "       Name  CGPA        City\n",
       "0      Hari   8.0         Pdk\n",
       "1   Dheepan   6.5       Salem\n",
       "2   Hithesh   7.8     Chennai\n",
       "3     Shree   9.0  Coimbatore\n",
       "4             NaN            \n",
       "5             NaN            \n",
       "6             NaN            \n",
       "7             NaN            \n",
       "8             NaN            \n",
       "9             NaN            \n",
       "10            NaN            \n",
       "11            NaN            \n",
       "12            NaN            \n",
       "13            NaN            "
      ]
     },
     "execution_count": 37,
     "metadata": {},
     "output_type": "execute_result"
    }
   ],
   "source": [
    "df"
   ]
  },
  {
   "cell_type": "code",
   "execution_count": 38,
   "id": "326345b0-fea9-4da7-a743-38a66fcff7fa",
   "metadata": {
    "tags": []
   },
   "outputs": [
    {
     "data": {
      "text/html": [
       "<div>\n",
       "<style scoped>\n",
       "    .dataframe tbody tr th:only-of-type {\n",
       "        vertical-align: middle;\n",
       "    }\n",
       "\n",
       "    .dataframe tbody tr th {\n",
       "        vertical-align: top;\n",
       "    }\n",
       "\n",
       "    .dataframe thead th {\n",
       "        text-align: right;\n",
       "    }\n",
       "</style>\n",
       "<table border=\"1\" class=\"dataframe\">\n",
       "  <thead>\n",
       "    <tr style=\"text-align: right;\">\n",
       "      <th></th>\n",
       "      <th>Name</th>\n",
       "      <th>CGPA</th>\n",
       "      <th>City</th>\n",
       "    </tr>\n",
       "  </thead>\n",
       "  <tbody>\n",
       "    <tr>\n",
       "      <th>0</th>\n",
       "      <td>Hari</td>\n",
       "      <td>8.0</td>\n",
       "      <td>Pdk</td>\n",
       "    </tr>\n",
       "    <tr>\n",
       "      <th>1</th>\n",
       "      <td>Dheepan</td>\n",
       "      <td>6.5</td>\n",
       "      <td>Salem</td>\n",
       "    </tr>\n",
       "    <tr>\n",
       "      <th>2</th>\n",
       "      <td>Hithesh</td>\n",
       "      <td>7.8</td>\n",
       "      <td>Chennai</td>\n",
       "    </tr>\n",
       "    <tr>\n",
       "      <th>3</th>\n",
       "      <td>Shree</td>\n",
       "      <td>9.0</td>\n",
       "      <td>Coimbatore</td>\n",
       "    </tr>\n",
       "  </tbody>\n",
       "</table>\n",
       "</div>"
      ],
      "text/plain": [
       "      Name  CGPA        City\n",
       "0     Hari   8.0         Pdk\n",
       "1  Dheepan   6.5       Salem\n",
       "2  Hithesh   7.8     Chennai\n",
       "3    Shree   9.0  Coimbatore"
      ]
     },
     "execution_count": 38,
     "metadata": {},
     "output_type": "execute_result"
    }
   ],
   "source": [
    "df.dropna() # it won't change the dataframe it just returns the Dataframe without Missing value"
   ]
  },
  {
   "cell_type": "code",
   "execution_count": 39,
   "id": "15bd87e6-1014-4e4f-b800-b0950ee74711",
   "metadata": {
    "tags": []
   },
   "outputs": [
    {
     "data": {
      "text/html": [
       "<div>\n",
       "<style scoped>\n",
       "    .dataframe tbody tr th:only-of-type {\n",
       "        vertical-align: middle;\n",
       "    }\n",
       "\n",
       "    .dataframe tbody tr th {\n",
       "        vertical-align: top;\n",
       "    }\n",
       "\n",
       "    .dataframe thead th {\n",
       "        text-align: right;\n",
       "    }\n",
       "</style>\n",
       "<table border=\"1\" class=\"dataframe\">\n",
       "  <thead>\n",
       "    <tr style=\"text-align: right;\">\n",
       "      <th></th>\n",
       "      <th>Name</th>\n",
       "      <th>CGPA</th>\n",
       "      <th>City</th>\n",
       "    </tr>\n",
       "  </thead>\n",
       "  <tbody>\n",
       "    <tr>\n",
       "      <th>0</th>\n",
       "      <td>Hari</td>\n",
       "      <td>8.0</td>\n",
       "      <td>Pdk</td>\n",
       "    </tr>\n",
       "    <tr>\n",
       "      <th>1</th>\n",
       "      <td>Dheepan</td>\n",
       "      <td>6.5</td>\n",
       "      <td>Salem</td>\n",
       "    </tr>\n",
       "    <tr>\n",
       "      <th>2</th>\n",
       "      <td>Hithesh</td>\n",
       "      <td>7.8</td>\n",
       "      <td>Chennai</td>\n",
       "    </tr>\n",
       "    <tr>\n",
       "      <th>3</th>\n",
       "      <td>Shree</td>\n",
       "      <td>9.0</td>\n",
       "      <td>Coimbatore</td>\n",
       "    </tr>\n",
       "  </tbody>\n",
       "</table>\n",
       "</div>"
      ],
      "text/plain": [
       "      Name  CGPA        City\n",
       "0     Hari   8.0         Pdk\n",
       "1  Dheepan   6.5       Salem\n",
       "2  Hithesh   7.8     Chennai\n",
       "3    Shree   9.0  Coimbatore"
      ]
     },
     "execution_count": 39,
     "metadata": {},
     "output_type": "execute_result"
    }
   ],
   "source": [
    "df.dropna(inplace=True)\n",
    "df"
   ]
  },
  {
   "cell_type": "markdown",
   "id": "3e373dc3-d7df-4fc2-8c10-6e4123ec46c7",
   "metadata": {
    "jp-MarkdownHeadingCollapsed": true,
    "tags": []
   },
   "source": [
    "### **Filling the Missing Value**\n",
    "<code>DataFrame.fillna()</code>"
   ]
  },
  {
   "cell_type": "code",
   "execution_count": 40,
   "id": "0e8d5043-e41e-4a81-ac69-70856d712518",
   "metadata": {},
   "outputs": [],
   "source": [
    "for i in range(10):\n",
    "    df.loc[len(df)] = [None,None,None]"
   ]
  },
  {
   "cell_type": "code",
   "execution_count": 41,
   "id": "0d46305e-018a-4506-b6bf-78a1fc8a13e9",
   "metadata": {
    "tags": []
   },
   "outputs": [
    {
     "data": {
      "text/html": [
       "<div>\n",
       "<style scoped>\n",
       "    .dataframe tbody tr th:only-of-type {\n",
       "        vertical-align: middle;\n",
       "    }\n",
       "\n",
       "    .dataframe tbody tr th {\n",
       "        vertical-align: top;\n",
       "    }\n",
       "\n",
       "    .dataframe thead th {\n",
       "        text-align: right;\n",
       "    }\n",
       "</style>\n",
       "<table border=\"1\" class=\"dataframe\">\n",
       "  <thead>\n",
       "    <tr style=\"text-align: right;\">\n",
       "      <th></th>\n",
       "      <th>Name</th>\n",
       "      <th>CGPA</th>\n",
       "      <th>City</th>\n",
       "    </tr>\n",
       "  </thead>\n",
       "  <tbody>\n",
       "    <tr>\n",
       "      <th>0</th>\n",
       "      <td>Hari</td>\n",
       "      <td>8.0</td>\n",
       "      <td>Pdk</td>\n",
       "    </tr>\n",
       "    <tr>\n",
       "      <th>1</th>\n",
       "      <td>Dheepan</td>\n",
       "      <td>6.5</td>\n",
       "      <td>Salem</td>\n",
       "    </tr>\n",
       "    <tr>\n",
       "      <th>2</th>\n",
       "      <td>Hithesh</td>\n",
       "      <td>7.8</td>\n",
       "      <td>Chennai</td>\n",
       "    </tr>\n",
       "    <tr>\n",
       "      <th>3</th>\n",
       "      <td>Shree</td>\n",
       "      <td>9.0</td>\n",
       "      <td>Coimbatore</td>\n",
       "    </tr>\n",
       "    <tr>\n",
       "      <th>4</th>\n",
       "      <td>130</td>\n",
       "      <td>130.0</td>\n",
       "      <td>130</td>\n",
       "    </tr>\n",
       "    <tr>\n",
       "      <th>5</th>\n",
       "      <td>130</td>\n",
       "      <td>130.0</td>\n",
       "      <td>130</td>\n",
       "    </tr>\n",
       "    <tr>\n",
       "      <th>6</th>\n",
       "      <td>130</td>\n",
       "      <td>130.0</td>\n",
       "      <td>130</td>\n",
       "    </tr>\n",
       "    <tr>\n",
       "      <th>7</th>\n",
       "      <td>130</td>\n",
       "      <td>130.0</td>\n",
       "      <td>130</td>\n",
       "    </tr>\n",
       "    <tr>\n",
       "      <th>8</th>\n",
       "      <td>130</td>\n",
       "      <td>130.0</td>\n",
       "      <td>130</td>\n",
       "    </tr>\n",
       "    <tr>\n",
       "      <th>9</th>\n",
       "      <td>130</td>\n",
       "      <td>130.0</td>\n",
       "      <td>130</td>\n",
       "    </tr>\n",
       "    <tr>\n",
       "      <th>10</th>\n",
       "      <td>130</td>\n",
       "      <td>130.0</td>\n",
       "      <td>130</td>\n",
       "    </tr>\n",
       "    <tr>\n",
       "      <th>11</th>\n",
       "      <td>130</td>\n",
       "      <td>130.0</td>\n",
       "      <td>130</td>\n",
       "    </tr>\n",
       "    <tr>\n",
       "      <th>12</th>\n",
       "      <td>130</td>\n",
       "      <td>130.0</td>\n",
       "      <td>130</td>\n",
       "    </tr>\n",
       "    <tr>\n",
       "      <th>13</th>\n",
       "      <td>130</td>\n",
       "      <td>130.0</td>\n",
       "      <td>130</td>\n",
       "    </tr>\n",
       "  </tbody>\n",
       "</table>\n",
       "</div>"
      ],
      "text/plain": [
       "       Name   CGPA        City\n",
       "0      Hari    8.0         Pdk\n",
       "1   Dheepan    6.5       Salem\n",
       "2   Hithesh    7.8     Chennai\n",
       "3     Shree    9.0  Coimbatore\n",
       "4       130  130.0         130\n",
       "5       130  130.0         130\n",
       "6       130  130.0         130\n",
       "7       130  130.0         130\n",
       "8       130  130.0         130\n",
       "9       130  130.0         130\n",
       "10      130  130.0         130\n",
       "11      130  130.0         130\n",
       "12      130  130.0         130\n",
       "13      130  130.0         130"
      ]
     },
     "execution_count": 41,
     "metadata": {},
     "output_type": "execute_result"
    }
   ],
   "source": [
    "df.fillna(130) # We are not using inplace attribute"
   ]
  },
  {
   "cell_type": "code",
   "execution_count": 42,
   "id": "8089d7ab-b73a-4880-bd51-e38ab084fdeb",
   "metadata": {
    "tags": []
   },
   "outputs": [
    {
     "data": {
      "text/plain": [
       "0     8.0\n",
       "1     6.5\n",
       "2     7.8\n",
       "3     9.0\n",
       "4     5.0\n",
       "5     5.0\n",
       "6     5.0\n",
       "7     5.0\n",
       "8     5.0\n",
       "9     5.0\n",
       "10    5.0\n",
       "11    5.0\n",
       "12    5.0\n",
       "13    5.0\n",
       "Name: CGPA, dtype: float64"
      ]
     },
     "execution_count": 42,
     "metadata": {},
     "output_type": "execute_result"
    }
   ],
   "source": [
    "df[\"CGPA\"].fillna(5.0)"
   ]
  },
  {
   "cell_type": "code",
   "execution_count": 43,
   "id": "e7f6501a-1555-45dc-9341-4ca15a454dcb",
   "metadata": {
    "tags": []
   },
   "outputs": [
    {
     "data": {
      "text/html": [
       "<div>\n",
       "<style scoped>\n",
       "    .dataframe tbody tr th:only-of-type {\n",
       "        vertical-align: middle;\n",
       "    }\n",
       "\n",
       "    .dataframe tbody tr th {\n",
       "        vertical-align: top;\n",
       "    }\n",
       "\n",
       "    .dataframe thead th {\n",
       "        text-align: right;\n",
       "    }\n",
       "</style>\n",
       "<table border=\"1\" class=\"dataframe\">\n",
       "  <thead>\n",
       "    <tr style=\"text-align: right;\">\n",
       "      <th></th>\n",
       "      <th>Name</th>\n",
       "      <th>CGPA</th>\n",
       "      <th>City</th>\n",
       "    </tr>\n",
       "  </thead>\n",
       "  <tbody>\n",
       "    <tr>\n",
       "      <th>0</th>\n",
       "      <td>Hari</td>\n",
       "      <td>8.0</td>\n",
       "      <td>Pdk</td>\n",
       "    </tr>\n",
       "    <tr>\n",
       "      <th>1</th>\n",
       "      <td>Dheepan</td>\n",
       "      <td>6.5</td>\n",
       "      <td>Salem</td>\n",
       "    </tr>\n",
       "    <tr>\n",
       "      <th>2</th>\n",
       "      <td>Hithesh</td>\n",
       "      <td>7.8</td>\n",
       "      <td>Chennai</td>\n",
       "    </tr>\n",
       "    <tr>\n",
       "      <th>3</th>\n",
       "      <td>Shree</td>\n",
       "      <td>9.0</td>\n",
       "      <td>Coimbatore</td>\n",
       "    </tr>\n",
       "    <tr>\n",
       "      <th>4</th>\n",
       "      <td>Loki</td>\n",
       "      <td>8.0</td>\n",
       "      <td>Karur</td>\n",
       "    </tr>\n",
       "    <tr>\n",
       "      <th>5</th>\n",
       "      <td>Loki</td>\n",
       "      <td>8.0</td>\n",
       "      <td>Karur</td>\n",
       "    </tr>\n",
       "    <tr>\n",
       "      <th>6</th>\n",
       "      <td>Loki</td>\n",
       "      <td>8.0</td>\n",
       "      <td>Karur</td>\n",
       "    </tr>\n",
       "    <tr>\n",
       "      <th>7</th>\n",
       "      <td>Loki</td>\n",
       "      <td>8.0</td>\n",
       "      <td>Karur</td>\n",
       "    </tr>\n",
       "    <tr>\n",
       "      <th>8</th>\n",
       "      <td>Loki</td>\n",
       "      <td>8.0</td>\n",
       "      <td>Karur</td>\n",
       "    </tr>\n",
       "    <tr>\n",
       "      <th>9</th>\n",
       "      <td>Loki</td>\n",
       "      <td>8.0</td>\n",
       "      <td>Karur</td>\n",
       "    </tr>\n",
       "    <tr>\n",
       "      <th>10</th>\n",
       "      <td>Loki</td>\n",
       "      <td>8.0</td>\n",
       "      <td>Karur</td>\n",
       "    </tr>\n",
       "    <tr>\n",
       "      <th>11</th>\n",
       "      <td>Loki</td>\n",
       "      <td>8.0</td>\n",
       "      <td>Karur</td>\n",
       "    </tr>\n",
       "    <tr>\n",
       "      <th>12</th>\n",
       "      <td>Loki</td>\n",
       "      <td>8.0</td>\n",
       "      <td>Karur</td>\n",
       "    </tr>\n",
       "    <tr>\n",
       "      <th>13</th>\n",
       "      <td>Loki</td>\n",
       "      <td>8.0</td>\n",
       "      <td>Karur</td>\n",
       "    </tr>\n",
       "  </tbody>\n",
       "</table>\n",
       "</div>"
      ],
      "text/plain": [
       "       Name  CGPA        City\n",
       "0      Hari   8.0         Pdk\n",
       "1   Dheepan   6.5       Salem\n",
       "2   Hithesh   7.8     Chennai\n",
       "3     Shree   9.0  Coimbatore\n",
       "4      Loki   8.0       Karur\n",
       "5      Loki   8.0       Karur\n",
       "6      Loki   8.0       Karur\n",
       "7      Loki   8.0       Karur\n",
       "8      Loki   8.0       Karur\n",
       "9      Loki   8.0       Karur\n",
       "10     Loki   8.0       Karur\n",
       "11     Loki   8.0       Karur\n",
       "12     Loki   8.0       Karur\n",
       "13     Loki   8.0       Karur"
      ]
     },
     "execution_count": 43,
     "metadata": {},
     "output_type": "execute_result"
    }
   ],
   "source": [
    "df.fillna(value={\"Name\":\"Loki\",\"CGPA\":8.0,\"City\":\"Karur\"},inplace = True)\n",
    "df"
   ]
  },
  {
   "cell_type": "markdown",
   "id": "3d5725d7-2056-454d-a54d-f9d4d5a19116",
   "metadata": {
    "jp-MarkdownHeadingCollapsed": true,
    "tags": []
   },
   "source": [
    "### **Removing Duplicates**\n",
    "<code>DataFrame.drop_duplicates()</code>"
   ]
  },
  {
   "cell_type": "code",
   "execution_count": 44,
   "id": "b0215837-44dd-4ac9-afda-a6bd3a0633b7",
   "metadata": {
    "tags": []
   },
   "outputs": [
    {
     "data": {
      "text/html": [
       "<div>\n",
       "<style scoped>\n",
       "    .dataframe tbody tr th:only-of-type {\n",
       "        vertical-align: middle;\n",
       "    }\n",
       "\n",
       "    .dataframe tbody tr th {\n",
       "        vertical-align: top;\n",
       "    }\n",
       "\n",
       "    .dataframe thead th {\n",
       "        text-align: right;\n",
       "    }\n",
       "</style>\n",
       "<table border=\"1\" class=\"dataframe\">\n",
       "  <thead>\n",
       "    <tr style=\"text-align: right;\">\n",
       "      <th></th>\n",
       "      <th>Name</th>\n",
       "      <th>CGPA</th>\n",
       "      <th>City</th>\n",
       "    </tr>\n",
       "  </thead>\n",
       "  <tbody>\n",
       "    <tr>\n",
       "      <th>0</th>\n",
       "      <td>Hari</td>\n",
       "      <td>8.0</td>\n",
       "      <td>Pdk</td>\n",
       "    </tr>\n",
       "    <tr>\n",
       "      <th>1</th>\n",
       "      <td>Dheepan</td>\n",
       "      <td>6.5</td>\n",
       "      <td>Salem</td>\n",
       "    </tr>\n",
       "    <tr>\n",
       "      <th>2</th>\n",
       "      <td>Hithesh</td>\n",
       "      <td>7.8</td>\n",
       "      <td>Chennai</td>\n",
       "    </tr>\n",
       "    <tr>\n",
       "      <th>3</th>\n",
       "      <td>Shree</td>\n",
       "      <td>9.0</td>\n",
       "      <td>Coimbatore</td>\n",
       "    </tr>\n",
       "    <tr>\n",
       "      <th>4</th>\n",
       "      <td>Loki</td>\n",
       "      <td>8.0</td>\n",
       "      <td>Karur</td>\n",
       "    </tr>\n",
       "  </tbody>\n",
       "</table>\n",
       "</div>"
      ],
      "text/plain": [
       "      Name  CGPA        City\n",
       "0     Hari   8.0         Pdk\n",
       "1  Dheepan   6.5       Salem\n",
       "2  Hithesh   7.8     Chennai\n",
       "3    Shree   9.0  Coimbatore\n",
       "4     Loki   8.0       Karur"
      ]
     },
     "execution_count": 44,
     "metadata": {},
     "output_type": "execute_result"
    }
   ],
   "source": [
    "df.drop_duplicates()"
   ]
  },
  {
   "cell_type": "code",
   "execution_count": 46,
   "id": "c728762b-b8c9-4743-8831-b71e4b302750",
   "metadata": {
    "tags": []
   },
   "outputs": [
    {
     "data": {
      "text/html": [
       "<div>\n",
       "<style scoped>\n",
       "    .dataframe tbody tr th:only-of-type {\n",
       "        vertical-align: middle;\n",
       "    }\n",
       "\n",
       "    .dataframe tbody tr th {\n",
       "        vertical-align: top;\n",
       "    }\n",
       "\n",
       "    .dataframe thead th {\n",
       "        text-align: right;\n",
       "    }\n",
       "</style>\n",
       "<table border=\"1\" class=\"dataframe\">\n",
       "  <thead>\n",
       "    <tr style=\"text-align: right;\">\n",
       "      <th></th>\n",
       "      <th>Name</th>\n",
       "      <th>CGPA</th>\n",
       "      <th>City</th>\n",
       "    </tr>\n",
       "  </thead>\n",
       "  <tbody>\n",
       "    <tr>\n",
       "      <th>0</th>\n",
       "      <td>Hari</td>\n",
       "      <td>8.0</td>\n",
       "      <td>Pdk</td>\n",
       "    </tr>\n",
       "    <tr>\n",
       "      <th>1</th>\n",
       "      <td>Dheepan</td>\n",
       "      <td>6.5</td>\n",
       "      <td>Salem</td>\n",
       "    </tr>\n",
       "    <tr>\n",
       "      <th>2</th>\n",
       "      <td>Hithesh</td>\n",
       "      <td>7.8</td>\n",
       "      <td>Chennai</td>\n",
       "    </tr>\n",
       "    <tr>\n",
       "      <th>3</th>\n",
       "      <td>Shree</td>\n",
       "      <td>9.0</td>\n",
       "      <td>Coimbatore</td>\n",
       "    </tr>\n",
       "    <tr>\n",
       "      <th>4</th>\n",
       "      <td>Loki</td>\n",
       "      <td>8.0</td>\n",
       "      <td>Karur</td>\n",
       "    </tr>\n",
       "  </tbody>\n",
       "</table>\n",
       "</div>"
      ],
      "text/plain": [
       "      Name  CGPA        City\n",
       "0     Hari   8.0         Pdk\n",
       "1  Dheepan   6.5       Salem\n",
       "2  Hithesh   7.8     Chennai\n",
       "3    Shree   9.0  Coimbatore\n",
       "4     Loki   8.0       Karur"
      ]
     },
     "execution_count": 46,
     "metadata": {},
     "output_type": "execute_result"
    }
   ],
   "source": [
    "df.drop_duplicates(inplace =True)\n",
    "df"
   ]
  },
  {
   "cell_type": "markdown",
   "id": "ed905fa7-33c8-4163-81af-eb24766e1a01",
   "metadata": {
    "tags": []
   },
   "source": [
    "___\n",
    "## **To Print DataFrame in Console**"
   ]
  },
  {
   "cell_type": "code",
   "execution_count": null,
   "id": "467e5b63-d6e2-4f02-bc9b-979bbb3514e5",
   "metadata": {
    "tags": []
   },
   "outputs": [],
   "source": [
    "print(boston_df.to_string())"
   ]
  }
 ],
 "metadata": {
  "kernelspec": {
   "display_name": "Python 3 (ipykernel)",
   "language": "python",
   "name": "python3"
  },
  "language_info": {
   "codemirror_mode": {
    "name": "ipython",
    "version": 3
   },
   "file_extension": ".py",
   "mimetype": "text/x-python",
   "name": "python",
   "nbconvert_exporter": "python",
   "pygments_lexer": "ipython3",
   "version": "3.8.10"
  }
 },
 "nbformat": 4,
 "nbformat_minor": 5
}
