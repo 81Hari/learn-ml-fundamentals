{
 "cells": [
  {
   "attachments": {},
   "cell_type": "markdown",
   "id": "14bf66c0",
   "metadata": {},
   "source": [
    "# **NumPy - \"Numerical Python\"** (Lib)"
   ]
  },
  {
   "attachments": {},
   "cell_type": "markdown",
   "id": "7493c9d3",
   "metadata": {},
   "source": [
    "<div class=\"alert alert-block alert-danger\">\n",
    "    <b>Note:</b>If NumPy is not-installed then install using <code>pip install numpy</code>.\n",
    "</div>"
   ]
  },
  {
   "attachments": {},
   "cell_type": "markdown",
   "id": "617bde86",
   "metadata": {
    "jp-MarkdownHeadingCollapsed": true,
    "tags": []
   },
   "source": [
    "## **Import the NumPy Package**"
   ]
  },
  {
   "cell_type": "code",
   "execution_count": 1,
   "id": "529b627a",
   "metadata": {},
   "outputs": [],
   "source": [
    "import numpy as np"
   ]
  },
  {
   "attachments": {},
   "cell_type": "markdown",
   "id": "104ff6f9",
   "metadata": {
    "jp-MarkdownHeadingCollapsed": true,
    "tags": []
   },
   "source": [
    "***\n",
    "## **Numpy vs List (Time Taken)**"
   ]
  },
  {
   "cell_type": "code",
   "execution_count": null,
   "id": "f02fa63a",
   "metadata": {},
   "outputs": [],
   "source": [
    "from time import process_time"
   ]
  },
  {
   "cell_type": "code",
   "execution_count": null,
   "id": "1bf75ce2",
   "metadata": {},
   "outputs": [
    {
     "name": "stdout",
     "output_type": "stream",
     "text": [
      "0.00028313099999977\n"
     ]
    }
   ],
   "source": [
    "# Time taken by a list\n",
    "\n",
    "python_list = [x for x in range(10000)]\n",
    "\n",
    "start_time = process_time()\n",
    "\n",
    "python_list = [i+5 for i in python_list]\n",
    "\n",
    "end_time = process_time()\n",
    "\n",
    "list_time = end_time - start_time\n",
    "\n",
    "print(list_time)"
   ]
  },
  {
   "cell_type": "code",
   "execution_count": null,
   "id": "e1417484",
   "metadata": {},
   "outputs": [
    {
     "name": "stdout",
     "output_type": "stream",
     "text": [
      "0.00012524399999991331\n"
     ]
    }
   ],
   "source": [
    "# Time taken by a numPy\n",
    "\n",
    "python_numpy = np.array([x for x in range(10000)])\n",
    "\n",
    "start_time = process_time()\n",
    "\n",
    "python_numpy+=5\n",
    "\n",
    "end_time = process_time()\n",
    "\n",
    "numpy_time = end_time - start_time\n",
    "print(numpy_time)"
   ]
  },
  {
   "cell_type": "code",
   "execution_count": null,
   "id": "97272d16",
   "metadata": {},
   "outputs": [
    {
     "data": {
      "text/plain": [
       "0.00015788699999985667"
      ]
     },
     "execution_count": 13,
     "metadata": {},
     "output_type": "execute_result"
    }
   ],
   "source": [
    "diff = list_time - numpy_time\n",
    "diff"
   ]
  },
  {
   "cell_type": "code",
   "execution_count": null,
   "id": "6e2ae9e4",
   "metadata": {},
   "outputs": [
    {
     "data": {
      "text/plain": [
       "126.06352400112257"
      ]
     },
     "execution_count": 28,
     "metadata": {},
     "output_type": "execute_result"
    }
   ],
   "source": [
    "fast_percent = diff/numpy_time\n",
    "fast_percent*=100\n",
    "fast_percent # How much time numpy is faster than list"
   ]
  },
  {
   "cell_type": "code",
   "execution_count": null,
   "id": "55d329ac",
   "metadata": {},
   "outputs": [
    {
     "data": {
      "text/plain": [
       "True"
      ]
     },
     "execution_count": 27,
     "metadata": {},
     "output_type": "execute_result"
    }
   ],
   "source": [
    "(numpy_time*fast_percent/100 + numpy_time) == list_time"
   ]
  },
  {
   "attachments": {},
   "cell_type": "markdown",
   "id": "2434eb4b",
   "metadata": {
    "jp-MarkdownHeadingCollapsed": true,
    "tags": []
   },
   "source": [
    "***\n",
    "## **Basics**"
   ]
  },
  {
   "attachments": {},
   "cell_type": "markdown",
   "id": "858ed099",
   "metadata": {},
   "source": [
    "\"The array object in NumPy is called **ndarray**\"."
   ]
  },
  {
   "attachments": {},
   "cell_type": "markdown",
   "id": "448b7941",
   "metadata": {},
   "source": [
    "### 1-D Array"
   ]
  },
  {
   "attachments": {},
   "cell_type": "markdown",
   "id": "0b61957d",
   "metadata": {},
   "source": [
    "<code>np.array()</code>"
   ]
  },
  {
   "attachments": {},
   "cell_type": "markdown",
   "id": "16dfa329",
   "metadata": {},
   "source": [
    "<div class=\"alert alert-block alert-info\">\n",
    "    <li>\n",
    "        To create a array\n",
    "    </li>\n",
    "    <li>\n",
    "        To create an ndarray, we can pass a <b>list, tuple or any array-like object</b> into the array() method, and it will be converted into an ndarray.\n",
    "    </li>\n",
    "</div>"
   ]
  },
  {
   "cell_type": "code",
   "execution_count": null,
   "id": "38353fa5",
   "metadata": {},
   "outputs": [
    {
     "data": {
      "text/plain": [
       "array([1, 2, 3])"
      ]
     },
     "execution_count": 2,
     "metadata": {},
     "output_type": "execute_result"
    }
   ],
   "source": [
    "num1 = np.array([1,2,3])\n",
    "num1"
   ]
  },
  {
   "attachments": {},
   "cell_type": "markdown",
   "id": "ae98bb5e",
   "metadata": {},
   "source": [
    "### 2-D Array"
   ]
  },
  {
   "cell_type": "code",
   "execution_count": null,
   "id": "0b5d1a93",
   "metadata": {},
   "outputs": [
    {
     "data": {
      "text/plain": [
       "array([[1, 2, 3],\n",
       "       [4, 5, 6]])"
      ]
     },
     "execution_count": 3,
     "metadata": {},
     "output_type": "execute_result"
    }
   ],
   "source": [
    "num2 = np.array([[1,2,3],[4,5,6]])\n",
    "num2"
   ]
  },
  {
   "cell_type": "code",
   "execution_count": null,
   "id": "75ada0a3",
   "metadata": {},
   "outputs": [
    {
     "name": "stderr",
     "output_type": "stream",
     "text": [
      "/tmp/ipykernel_29248/793099250.py:1: VisibleDeprecationWarning: Creating an ndarray from ragged nested sequences (which is a list-or-tuple of lists-or-tuples-or ndarrays with different lengths or shapes) is deprecated. If you meant to do this, you must specify 'dtype=object' when creating the ndarray.\n",
      "  temp_num2 = np.array([[1,2],[2,3,4]])\n"
     ]
    }
   ],
   "source": [
    "temp_num2 = np.array([[1,2],[2,3,4]])\n",
    "# Each Dimension should have same number of Elements."
   ]
  },
  {
   "attachments": {},
   "cell_type": "markdown",
   "id": "efb931d1",
   "metadata": {},
   "source": [
    "### N-D Array"
   ]
  },
  {
   "attachments": {},
   "cell_type": "markdown",
   "id": "2d8b4809",
   "metadata": {},
   "source": [
    "<code>np.array(,ndmin=N)</code>\n",
    "<li>\n",
    "    To set the dimension of the array\n",
    "</li>"
   ]
  },
  {
   "cell_type": "code",
   "execution_count": null,
   "id": "076b60dd",
   "metadata": {},
   "outputs": [
    {
     "data": {
      "text/plain": [
       "array([[[[[[1, 2, 3, 4]]]]]])"
      ]
     },
     "execution_count": 5,
     "metadata": {},
     "output_type": "execute_result"
    }
   ],
   "source": [
    "numN = np.array([1,2,3,4],ndmin=6) #numN have 6 dimension's\n",
    "numN"
   ]
  },
  {
   "attachments": {},
   "cell_type": "markdown",
   "id": "dbfe414e",
   "metadata": {},
   "source": [
    "***"
   ]
  },
  {
   "attachments": {},
   "cell_type": "markdown",
   "id": "f1867b7c",
   "metadata": {},
   "source": [
    "### Get Dimension Of Array"
   ]
  },
  {
   "attachments": {},
   "cell_type": "markdown",
   "id": "5db49b80",
   "metadata": {},
   "source": [
    "<code>num.ndim</code>"
   ]
  },
  {
   "cell_type": "code",
   "execution_count": null,
   "id": "efe13083",
   "metadata": {},
   "outputs": [
    {
     "data": {
      "text/plain": [
       "1"
      ]
     },
     "execution_count": 6,
     "metadata": {},
     "output_type": "execute_result"
    }
   ],
   "source": [
    "num1.ndim"
   ]
  },
  {
   "cell_type": "code",
   "execution_count": null,
   "id": "190b811a",
   "metadata": {},
   "outputs": [],
   "source": [
    "num2.ndim"
   ]
  },
  {
   "cell_type": "code",
   "execution_count": null,
   "id": "80131c8b",
   "metadata": {},
   "outputs": [],
   "source": [
    "numN.ndim"
   ]
  },
  {
   "attachments": {},
   "cell_type": "markdown",
   "id": "948c3c3d",
   "metadata": {},
   "source": [
    "### Get Shape"
   ]
  },
  {
   "attachments": {},
   "cell_type": "markdown",
   "id": "ceb518ce",
   "metadata": {},
   "source": [
    "<code>num.shape</code>"
   ]
  },
  {
   "attachments": {},
   "cell_type": "markdown",
   "id": "7e08a16c",
   "metadata": {},
   "source": [
    "<div class=\"alert alert-block alert-info\">\n",
    "    Prints number of rows and column for <b>2-D Array.</b> and for <b>N-D Array</b>, prints the number of element in each dimension.\n",
    "</div>"
   ]
  },
  {
   "cell_type": "code",
   "execution_count": null,
   "id": "b0c7cb25",
   "metadata": {},
   "outputs": [],
   "source": [
    "num1.shape"
   ]
  },
  {
   "cell_type": "code",
   "execution_count": null,
   "id": "6ff985c1",
   "metadata": {},
   "outputs": [],
   "source": [
    "num2.shape"
   ]
  },
  {
   "cell_type": "code",
   "execution_count": null,
   "id": "221b0301",
   "metadata": {},
   "outputs": [],
   "source": [
    "numN.shape"
   ]
  },
  {
   "attachments": {},
   "cell_type": "markdown",
   "id": "5a6fd850",
   "metadata": {},
   "source": [
    "***"
   ]
  },
  {
   "attachments": {},
   "cell_type": "markdown",
   "id": "6d4e8606",
   "metadata": {},
   "source": [
    "### Get Type"
   ]
  },
  {
   "cell_type": "code",
   "execution_count": null,
   "id": "fbdf5840",
   "metadata": {},
   "outputs": [],
   "source": [
    "num1.dtype"
   ]
  },
  {
   "cell_type": "code",
   "execution_count": null,
   "id": "84f789a3",
   "metadata": {},
   "outputs": [],
   "source": [
    "num2.dtype"
   ]
  },
  {
   "attachments": {},
   "cell_type": "markdown",
   "id": "0482f862",
   "metadata": {},
   "source": [
    "***"
   ]
  },
  {
   "attachments": {},
   "cell_type": "markdown",
   "id": "ca110f59",
   "metadata": {},
   "source": [
    "### Declaring Data-Type While Creating Array"
   ]
  },
  {
   "attachments": {},
   "cell_type": "markdown",
   "id": "d845e2d8",
   "metadata": {},
   "source": [
    "<code>np.array([],dtype='')</code>"
   ]
  },
  {
   "cell_type": "code",
   "execution_count": null,
   "id": "bd1ef51e",
   "metadata": {},
   "outputs": [],
   "source": [
    "num1_16 = np.array([1,2,3],dtype='int16')\n",
    "num1"
   ]
  },
  {
   "cell_type": "code",
   "execution_count": null,
   "id": "40ad81f4",
   "metadata": {},
   "outputs": [],
   "source": [
    "num1_16.dtype"
   ]
  },
  {
   "cell_type": "code",
   "execution_count": null,
   "id": "b4429521",
   "metadata": {},
   "outputs": [],
   "source": [
    "num1_128 = np.array([1,2,3],dtype='int128')"
   ]
  },
  {
   "attachments": {},
   "cell_type": "markdown",
   "id": "a7349afb",
   "metadata": {},
   "source": [
    "<div class=\"alert alert-block alert-danger\">\n",
    "    <b>Note:</b> <code>dtype = 'int8' / 'int16' / 'int32' / 'int64'(default) </code>.\n",
    "</div>"
   ]
  },
  {
   "attachments": {},
   "cell_type": "markdown",
   "id": "bc638717",
   "metadata": {},
   "source": [
    "***"
   ]
  },
  {
   "attachments": {},
   "cell_type": "markdown",
   "id": "253d3b1f",
   "metadata": {},
   "source": [
    "### Get Size of the Element"
   ]
  },
  {
   "attachments": {},
   "cell_type": "markdown",
   "id": "50ff6b7c",
   "metadata": {},
   "source": [
    "<code>num.itemsize</code>"
   ]
  },
  {
   "attachments": {},
   "cell_type": "markdown",
   "id": "23465a32",
   "metadata": {},
   "source": [
    "<div class=\"alert alert-block alert-info\">\n",
    "    Print the size of individual element of array in <b>\"bytes\"</b>\n",
    "</div>"
   ]
  },
  {
   "cell_type": "code",
   "execution_count": null,
   "id": "907e3d7c",
   "metadata": {},
   "outputs": [],
   "source": [
    "num1.itemsize"
   ]
  },
  {
   "cell_type": "code",
   "execution_count": null,
   "id": "505ddb38",
   "metadata": {},
   "outputs": [],
   "source": [
    "num1_16.itemsize"
   ]
  },
  {
   "attachments": {},
   "cell_type": "markdown",
   "id": "02883804",
   "metadata": {},
   "source": [
    "***"
   ]
  },
  {
   "attachments": {},
   "cell_type": "markdown",
   "id": "bdaa804e",
   "metadata": {},
   "source": [
    "### Get Length of the Array"
   ]
  },
  {
   "attachments": {},
   "cell_type": "markdown",
   "id": "e499da4e",
   "metadata": {},
   "source": [
    "<code>num.size</code>"
   ]
  },
  {
   "attachments": {},
   "cell_type": "markdown",
   "id": "ffd28ab1",
   "metadata": {},
   "source": [
    "<div class=\"alert alert-block alert-info\">\n",
    "    Print the number of elements in the array.\n",
    "</div>"
   ]
  },
  {
   "cell_type": "code",
   "execution_count": null,
   "id": "fb7981d1",
   "metadata": {},
   "outputs": [],
   "source": [
    "num1.size"
   ]
  },
  {
   "cell_type": "code",
   "execution_count": null,
   "id": "dc35be19",
   "metadata": {},
   "outputs": [],
   "source": [
    "num2.size"
   ]
  },
  {
   "attachments": {},
   "cell_type": "markdown",
   "id": "20dee6c0",
   "metadata": {},
   "source": [
    "***"
   ]
  },
  {
   "attachments": {},
   "cell_type": "markdown",
   "id": "1565fc96",
   "metadata": {},
   "source": [
    "### Get Size of the Array"
   ]
  },
  {
   "attachments": {},
   "cell_type": "markdown",
   "id": "36359b54",
   "metadata": {},
   "source": [
    "<code>num.nbytes</code>"
   ]
  },
  {
   "attachments": {},
   "cell_type": "markdown",
   "id": "2e4ebbb9",
   "metadata": {},
   "source": [
    "<div class=\"alert alert-block alert-info\">\n",
    "    Print the Total size of the array in <b>\"bytes\"</b>\n",
    "</div>"
   ]
  },
  {
   "cell_type": "code",
   "execution_count": null,
   "id": "28361a19",
   "metadata": {},
   "outputs": [],
   "source": [
    "num1.nbytes"
   ]
  },
  {
   "attachments": {},
   "cell_type": "markdown",
   "id": "e45aed16",
   "metadata": {},
   "source": [
    "**\"OR\"**"
   ]
  },
  {
   "cell_type": "code",
   "execution_count": null,
   "id": "b274ad95",
   "metadata": {},
   "outputs": [],
   "source": [
    "num1.itemsize * num1.size"
   ]
  },
  {
   "attachments": {},
   "cell_type": "markdown",
   "id": "141be56e",
   "metadata": {
    "jp-MarkdownHeadingCollapsed": true,
    "tags": []
   },
   "source": [
    "***\n",
    "## **Accessing Elements**"
   ]
  },
  {
   "cell_type": "code",
   "execution_count": null,
   "id": "ca73fec3",
   "metadata": {},
   "outputs": [],
   "source": [
    "num = np.array([[1,2,3,4,5,6,7],[8,9,10,11,12,13,14]])\n",
    "num"
   ]
  },
  {
   "cell_type": "code",
   "execution_count": null,
   "id": "5df602cd",
   "metadata": {},
   "outputs": [],
   "source": [
    "num.shape"
   ]
  },
  {
   "attachments": {},
   "cell_type": "markdown",
   "id": "c6d0488a",
   "metadata": {},
   "source": [
    "### Get Specific Element"
   ]
  },
  {
   "attachments": {},
   "cell_type": "markdown",
   "id": "f18493e4",
   "metadata": {},
   "source": [
    "<code>[r,c]</code>"
   ]
  },
  {
   "cell_type": "code",
   "execution_count": null,
   "id": "e8047536",
   "metadata": {},
   "outputs": [],
   "source": [
    "num[1,2]"
   ]
  },
  {
   "cell_type": "code",
   "execution_count": null,
   "id": "1df6694d",
   "metadata": {},
   "outputs": [],
   "source": [
    "num[0,1]"
   ]
  },
  {
   "cell_type": "code",
   "execution_count": null,
   "id": "611ed49f",
   "metadata": {},
   "outputs": [],
   "source": [
    "num[2,1]\n",
    "## Index Error for Wrong out of Bound"
   ]
  },
  {
   "cell_type": "code",
   "execution_count": null,
   "id": "bc48fcc0",
   "metadata": {},
   "outputs": [],
   "source": [
    "num[-1]\n",
    "## Negative indexing works and you can mention the row number to print the row"
   ]
  },
  {
   "attachments": {},
   "cell_type": "markdown",
   "id": "d4d6b781",
   "metadata": {},
   "source": [
    "***"
   ]
  },
  {
   "attachments": {},
   "cell_type": "markdown",
   "id": "92525e03",
   "metadata": {},
   "source": [
    "### Get Specific Row"
   ]
  },
  {
   "attachments": {},
   "cell_type": "markdown",
   "id": "7cd7c669",
   "metadata": {},
   "source": [
    "<code>[r,:]</code>"
   ]
  },
  {
   "cell_type": "code",
   "execution_count": null,
   "id": "ce82f0c3",
   "metadata": {},
   "outputs": [],
   "source": [
    "# First Row [Note: We can print the whole row by not mentioning number of elements.]\n",
    "num[0,:]"
   ]
  },
  {
   "cell_type": "code",
   "execution_count": null,
   "id": "1c01f919",
   "metadata": {},
   "outputs": [],
   "source": [
    "# Second Row\n",
    "num[1,:]"
   ]
  },
  {
   "attachments": {},
   "cell_type": "markdown",
   "id": "83a585be",
   "metadata": {},
   "source": [
    "***"
   ]
  },
  {
   "attachments": {},
   "cell_type": "markdown",
   "id": "170447cf",
   "metadata": {},
   "source": [
    "### Get Specific Column"
   ]
  },
  {
   "attachments": {},
   "cell_type": "markdown",
   "id": "afa873c9",
   "metadata": {},
   "source": [
    "<code>[:,c]</code>"
   ]
  },
  {
   "cell_type": "code",
   "execution_count": null,
   "id": "785f628b",
   "metadata": {},
   "outputs": [],
   "source": [
    "# Second Column\n",
    "num[:,1]"
   ]
  },
  {
   "cell_type": "code",
   "execution_count": null,
   "id": "c3332580",
   "metadata": {},
   "outputs": [],
   "source": [
    "# First Column\n",
    "num[:,0]"
   ]
  },
  {
   "attachments": {},
   "cell_type": "markdown",
   "id": "fb15d91c",
   "metadata": {},
   "source": [
    "***"
   ]
  },
  {
   "attachments": {},
   "cell_type": "markdown",
   "id": "ee9c8fbf",
   "metadata": {},
   "source": [
    "### Slicing"
   ]
  },
  {
   "attachments": {},
   "cell_type": "markdown",
   "id": "439d2940",
   "metadata": {},
   "source": [
    "<code>[start_index : end_index : step_size]</code>"
   ]
  },
  {
   "attachments": {},
   "cell_type": "markdown",
   "id": "d1248d2e",
   "metadata": {},
   "source": [
    "<div class=\"alert alert-block alert-info\">\n",
    "    <b>By Default</b>\n",
    "    <ul>\n",
    "        <li>Start Index: 0</li>\n",
    "        <li>End Index: Length of Array</li>\n",
    "        <li>Step Size: 1 <b>(Stepsize can't zero)</b></li>\n",
    "    </ul>\n",
    "    <p>If we didn't mention any of the parameter, the default value will be taken</p>\n",
    "    <br>\n",
    "    <p>Two types of <b>Syntax</b></p>\n",
    "    <ul>\n",
    "        <li>\n",
    "            <code>[start_index : end_index : step_size]</code>\n",
    "        </li>\n",
    "        <li>\n",
    "            <code>[start_index : end_index]</code> (Step size will be 1)\n",
    "        </li>\n",
    "    </ul>\n",
    "</div>"
   ]
  },
  {
   "cell_type": "code",
   "execution_count": null,
   "id": "e9250ec0",
   "metadata": {
    "scrolled": true
   },
   "outputs": [],
   "source": [
    "# without mentioning Start Index, End Index, Step Size with two colon\n",
    "num[::]"
   ]
  },
  {
   "cell_type": "code",
   "execution_count": null,
   "id": "853a8b76",
   "metadata": {},
   "outputs": [],
   "source": [
    "# without mentioning Start Index, End Index, Step Size with one colon\n",
    "num[:]"
   ]
  },
  {
   "cell_type": "code",
   "execution_count": null,
   "id": "cd2e957e",
   "metadata": {},
   "outputs": [],
   "source": [
    "# Only Mentioning Start Index with two colon\n",
    "num[1::]"
   ]
  },
  {
   "cell_type": "code",
   "execution_count": null,
   "id": "2784ded4",
   "metadata": {},
   "outputs": [],
   "source": [
    "# Only Mentioning Start Index with one colon\n",
    "num[1:]"
   ]
  },
  {
   "cell_type": "code",
   "execution_count": null,
   "id": "8db84ca0",
   "metadata": {},
   "outputs": [],
   "source": [
    "# Both Start And End with two colon\n",
    "num[0,0:5:]"
   ]
  },
  {
   "cell_type": "code",
   "execution_count": null,
   "id": "f07c49de",
   "metadata": {},
   "outputs": [],
   "source": [
    "# Both Start And End with one colon\n",
    "num[0,0:5]"
   ]
  },
  {
   "cell_type": "code",
   "execution_count": null,
   "id": "5ad191ed",
   "metadata": {},
   "outputs": [],
   "source": [
    "#  Only End with two colon\n",
    "num[0,:3:]"
   ]
  },
  {
   "cell_type": "code",
   "execution_count": null,
   "id": "b00dc666",
   "metadata": {},
   "outputs": [],
   "source": [
    "#  Only End with one colon\n",
    "num[0,:3]"
   ]
  },
  {
   "cell_type": "code",
   "execution_count": null,
   "id": "2c8f1fc3",
   "metadata": {},
   "outputs": [],
   "source": [
    "# Only Step size\n",
    "num[0,::2]"
   ]
  },
  {
   "cell_type": "code",
   "execution_count": null,
   "id": "32de39f1",
   "metadata": {},
   "outputs": [],
   "source": [
    "# Start and Stepsize"
   ]
  },
  {
   "cell_type": "code",
   "execution_count": null,
   "id": "c832e2f1",
   "metadata": {},
   "outputs": [],
   "source": [
    "num[1,2::2]"
   ]
  },
  {
   "cell_type": "code",
   "execution_count": null,
   "id": "64ce5781",
   "metadata": {},
   "outputs": [],
   "source": [
    "# Start, End, Stepsize\n",
    "num[1,2:7:2]"
   ]
  },
  {
   "attachments": {},
   "cell_type": "markdown",
   "id": "1b3163b2",
   "metadata": {},
   "source": [
    "<div class=\"alert alert-block alert-info\">\n",
    "    <b>If Stepsize is Negative then By Default</b>\n",
    "    <ul>\n",
    "        <li>Start Index: -1</li>\n",
    "        <li>End Index: -(length of array+1)</li>\n",
    "        <li>Step Size: Negative Integer></li>\n",
    "    </ul>\n",
    "    <p>If we didn't mention any of the parameter, the default value will be taken</p>\n",
    "    <br>\n",
    "    <p>Two types of <b>Syntax</b></p>\n",
    "    <ul>\n",
    "        <li>\n",
    "            <code>[start_index : end_index : -i]</code>\n",
    "        </li>\n",
    "    </ul>\n",
    "</div>\n",
    "<b>Eg:</b>\n",
    "<img src=\"../images/Negative_Index_1.jpeg\" alt=\"How Negative Index Labelled\" title=\"Negative Indexing\"/>"
   ]
  },
  {
   "cell_type": "code",
   "execution_count": null,
   "id": "779d654b",
   "metadata": {},
   "outputs": [],
   "source": [
    "# Reverse Order\n",
    "num[0,::-1] # By default"
   ]
  },
  {
   "attachments": {},
   "cell_type": "markdown",
   "id": "d984a75c",
   "metadata": {},
   "source": [
    "**OR**"
   ]
  },
  {
   "cell_type": "code",
   "execution_count": null,
   "id": "afaf9cba",
   "metadata": {},
   "outputs": [],
   "source": [
    "num[0,-1:-(num[1].size+1):-1]"
   ]
  },
  {
   "cell_type": "code",
   "execution_count": null,
   "id": "af12b429",
   "metadata": {},
   "outputs": [],
   "source": [
    "# Reverse Order But Only 4 elements\n",
    "num[0,-1:-5:-1]"
   ]
  },
  {
   "cell_type": "code",
   "execution_count": null,
   "id": "be986a0d",
   "metadata": {},
   "outputs": [],
   "source": [
    "# Negative step size with positive Start Index or End Index\n",
    "num[0,5::-1]"
   ]
  },
  {
   "attachments": {},
   "cell_type": "markdown",
   "id": "e3b47a82",
   "metadata": {},
   "source": [
    "- When Step size is <b>Positive</b> and either or both of the <b>start and end index</b> is <b>Negative</b> then <b>start and end index</b> will be converted to equivalent <b>Positive Index </b>.\n",
    "\n",
    "    - In this code snippet <code> num[0,5::-1]</code> Negative Index Equivalent of 5 is -2. So elements from -2 to -8 will be printed\n",
    "    \n",
    "- When Step size is <b>Negative</b> and either or both of the <b>start and end index</b> is <b>Positive</b> then <b>start and end index</b> will be converted to equivalent <b>Negative Index </b>.\n",
    "\n",
    "<img src=\"../images/Negative_Index_2.jpeg\" alt=\"Reference Image for Negative Indexing\" title=\"Example For Positive Index Equivalent Negative Index \"/>"
   ]
  },
  {
   "attachments": {},
   "cell_type": "markdown",
   "id": "9adfc637",
   "metadata": {
    "jp-MarkdownHeadingCollapsed": true,
    "tags": []
   },
   "source": [
    "***\n",
    "### Modifying Elements"
   ]
  },
  {
   "cell_type": "code",
   "execution_count": null,
   "id": "7d38d6bf",
   "metadata": {},
   "outputs": [],
   "source": [
    "num"
   ]
  },
  {
   "cell_type": "code",
   "execution_count": null,
   "id": "7301f565",
   "metadata": {},
   "outputs": [],
   "source": [
    "num[1,5] = 20\n",
    "num[1]"
   ]
  },
  {
   "cell_type": "code",
   "execution_count": null,
   "id": "08cebaf1",
   "metadata": {},
   "outputs": [],
   "source": [
    "num[:,2] = 5\n",
    "num"
   ]
  },
  {
   "cell_type": "code",
   "execution_count": null,
   "id": "11eaff1a",
   "metadata": {},
   "outputs": [],
   "source": [
    "num[:,2] = [1,2]\n",
    "num"
   ]
  },
  {
   "cell_type": "code",
   "execution_count": null,
   "id": "bf3d8fe6",
   "metadata": {},
   "outputs": [],
   "source": [
    "num[1,:] = [x**2 for x in range(0,num[1].size)] # List comprehension\n",
    "num"
   ]
  },
  {
   "attachments": {},
   "cell_type": "markdown",
   "id": "2e392dfe",
   "metadata": {
    "tags": []
   },
   "source": [
    "***\n",
    "## **Initializing Different Types Of Array**"
   ]
  },
  {
   "attachments": {},
   "cell_type": "markdown",
   "id": "c79afe08",
   "metadata": {
    "jp-MarkdownHeadingCollapsed": true,
    "tags": []
   },
   "source": [
    "### Null / Zero Matrix"
   ]
  },
  {
   "attachments": {},
   "cell_type": "markdown",
   "id": "3481d93b",
   "metadata": {},
   "source": [
    "<code>np.zeros(dimension of array)</code>\n",
    "- To create a Array filled with **zero**"
   ]
  },
  {
   "cell_type": "code",
   "execution_count": null,
   "id": "dfe30407",
   "metadata": {},
   "outputs": [],
   "source": [
    "# 1-D Matrix with zero filled\n",
    "zero_matrix1 = np.zeros(5)\n",
    "zero_matrix"
   ]
  },
  {
   "cell_type": "code",
   "execution_count": null,
   "id": "fd2eb0e5",
   "metadata": {},
   "outputs": [],
   "source": [
    "# 2-D Matrix with zero filled\n",
    "zero_matrix2 = np.zeros((5,5))\n",
    "zero_matrix2"
   ]
  },
  {
   "cell_type": "code",
   "execution_count": null,
   "id": "01d31ac0",
   "metadata": {},
   "outputs": [],
   "source": [
    "# N-D Matrix with zero filled\n",
    "zero_matrixN = np.zeros((5,3,2,2))\n",
    "zero_matrixN"
   ]
  },
  {
   "attachments": {},
   "cell_type": "markdown",
   "id": "b6f37a42",
   "metadata": {},
   "source": [
    "***"
   ]
  },
  {
   "attachments": {},
   "cell_type": "markdown",
   "id": "87ff66d1",
   "metadata": {
    "jp-MarkdownHeadingCollapsed": true,
    "tags": []
   },
   "source": [
    "### One Matrix"
   ]
  },
  {
   "attachments": {},
   "cell_type": "markdown",
   "id": "cd1329df",
   "metadata": {},
   "source": [
    "<code>np.ones(dimension of array)</code>\n",
    "- To create a Array filled with **ones**"
   ]
  },
  {
   "cell_type": "code",
   "execution_count": null,
   "id": "64210310",
   "metadata": {},
   "outputs": [],
   "source": [
    "# N-D Matrix with one filled\n",
    "one_matrixN = np.ones((3,2,2),dtype='int16')\n",
    "one_matrixN"
   ]
  },
  {
   "attachments": {},
   "cell_type": "markdown",
   "id": "b2d39ceb",
   "metadata": {},
   "source": [
    "***"
   ]
  },
  {
   "attachments": {},
   "cell_type": "markdown",
   "id": "e167a9b4",
   "metadata": {
    "jp-MarkdownHeadingCollapsed": true,
    "tags": []
   },
   "source": [
    "### \"X\" Matrix ( x can be any number)"
   ]
  },
  {
   "attachments": {},
   "cell_type": "markdown",
   "id": "253e6afd",
   "metadata": {},
   "source": [
    "<code>np.full(dimension of array,x)</code>\n",
    "- To create a Array filled with **desired number**"
   ]
  },
  {
   "cell_type": "code",
   "execution_count": null,
   "id": "92c2aeec",
   "metadata": {},
   "outputs": [],
   "source": [
    "matrix2 = np.full((2,3),56,dtype='float32')\n",
    "matrix2"
   ]
  },
  {
   "attachments": {},
   "cell_type": "markdown",
   "id": "ae2df9a0",
   "metadata": {
    "jp-MarkdownHeadingCollapsed": true,
    "tags": []
   },
   "source": [
    "***\n",
    "### Creating a Matrix Similar To Another Matrix's Shape"
   ]
  },
  {
   "attachments": {},
   "cell_type": "markdown",
   "id": "49aea4c3",
   "metadata": {},
   "source": [
    "<code>np.full_like(array,x)</code>\n",
    "- To create a Array filled with **desired number** and **shape will be identical to the mentioned array.**"
   ]
  },
  {
   "cell_type": "code",
   "execution_count": null,
   "id": "42a7bedc",
   "metadata": {},
   "outputs": [],
   "source": [
    "temp_matrix = np.array([[1,2,3],[4,5,6],[7,8,9]])\n",
    "temp_matrix"
   ]
  },
  {
   "cell_type": "code",
   "execution_count": null,
   "id": "38d5d09d",
   "metadata": {},
   "outputs": [],
   "source": [
    "temp_matrix.shape"
   ]
  },
  {
   "cell_type": "code",
   "execution_count": null,
   "id": "fb7a8e97",
   "metadata": {},
   "outputs": [],
   "source": [
    "similar_matrix = np.full_like(temp_matrix,9,dtype='int16')\n",
    "similar_matrix"
   ]
  },
  {
   "cell_type": "code",
   "execution_count": null,
   "id": "25515e9f",
   "metadata": {},
   "outputs": [],
   "source": [
    "# Checking whether both matrix's shape is identical\n",
    "if similar_matrix.shape == temp_matrix.shape:\n",
    "    print(\"Shape of the matrix is identical\")"
   ]
  },
  {
   "attachments": {},
   "cell_type": "markdown",
   "id": "998f56c7",
   "metadata": {
    "jp-MarkdownHeadingCollapsed": true,
    "tags": []
   },
   "source": [
    "***\n",
    "### Intializing Array With Random Numbers Between 0 and 1"
   ]
  },
  {
   "attachments": {},
   "cell_type": "markdown",
   "id": "d68089de",
   "metadata": {},
   "source": [
    "<code>np.random.rand(dimension of array)</code>\n",
    "- It creates array with **random numbers** between **0 and 1**"
   ]
  },
  {
   "cell_type": "code",
   "execution_count": null,
   "id": "7219e244",
   "metadata": {},
   "outputs": [],
   "source": [
    "rand_matrix = np.random.rand(3,3)\n",
    "rand_matrix"
   ]
  },
  {
   "attachments": {},
   "cell_type": "markdown",
   "id": "addccfdd",
   "metadata": {},
   "source": [
    "***\n",
    "<code>np.random.random_sample(array.shape)</code>\n",
    "- It creates array with **random numbers** between **0 and 1** and shape will be similar to the passed array."
   ]
  },
  {
   "cell_type": "code",
   "execution_count": null,
   "id": "fa068d66",
   "metadata": {},
   "outputs": [],
   "source": [
    "rand_matrix1 = np.random.random_sample(rand_matrix.shape)\n",
    "rand_matrix1"
   ]
  },
  {
   "attachments": {},
   "cell_type": "markdown",
   "id": "ff3139eb",
   "metadata": {},
   "source": [
    "***\n",
    "### Intializing Array With Random Numbers Between x and y\n",
    "<code>np.random.randint(start_index,end_index,size=())</code>"
   ]
  },
  {
   "cell_type": "code",
   "execution_count": null,
   "id": "7e3976c7",
   "metadata": {},
   "outputs": [],
   "source": [
    "rand_matrix2 = np.random.randint(7,100,size=(4,3))\n",
    "rand_matrix2"
   ]
  },
  {
   "attachments": {},
   "cell_type": "markdown",
   "id": "ccf2d38a",
   "metadata": {},
   "source": [
    "***\n",
    "### Identity Matrix\n",
    "<code>np.identity()</code>"
   ]
  },
  {
   "cell_type": "code",
   "execution_count": null,
   "id": "c58544e9",
   "metadata": {},
   "outputs": [
    {
     "data": {
      "text/plain": [
       "array([[1., 0., 0., 0., 0., 0.],\n",
       "       [0., 1., 0., 0., 0., 0.],\n",
       "       [0., 0., 1., 0., 0., 0.],\n",
       "       [0., 0., 0., 1., 0., 0.],\n",
       "       [0., 0., 0., 0., 1., 0.],\n",
       "       [0., 0., 0., 0., 0., 1.]])"
      ]
     },
     "execution_count": 29,
     "metadata": {},
     "output_type": "execute_result"
    }
   ],
   "source": [
    "iden_matrix = np.identity(6)\n",
    "iden_matrix"
   ]
  },
  {
   "cell_type": "code",
   "execution_count": null,
   "id": "f0207b9f",
   "metadata": {},
   "outputs": [
    {
     "data": {
      "text/plain": [
       "array([[1., 0., 0., 0., 0.],\n",
       "       [0., 1., 0., 0., 0.],\n",
       "       [0., 0., 1., 0., 0.],\n",
       "       [0., 0., 0., 1., 0.],\n",
       "       [0., 0., 0., 0., 1.]])"
      ]
     },
     "execution_count": 31,
     "metadata": {},
     "output_type": "execute_result"
    }
   ],
   "source": [
    "iden_matrix = np.eye(5) # Another Syntax to create identity matrix\n",
    "iden_matrix"
   ]
  },
  {
   "attachments": {},
   "cell_type": "markdown",
   "id": "7bf9816b",
   "metadata": {},
   "source": [
    "***\n",
    "### Repeating Array\n",
    "<code>np.repeat(array,number_of_times,axis)</code>"
   ]
  },
  {
   "cell_type": "code",
   "execution_count": null,
   "id": "d17da41f",
   "metadata": {},
   "outputs": [],
   "source": [
    "arr = np.array([[x**3 for x in range(4)]])\n",
    "r1 = np.repeat(arr,3) # without axis\n",
    "r1"
   ]
  },
  {
   "attachments": {},
   "cell_type": "markdown",
   "id": "dbc6518b",
   "metadata": {},
   "source": [
    "<div class=\"alert alert-block alert-info\">\n",
    "    <h4>For 2-D Array,</h4>\n",
    "    <ul>\n",
    "        <li>\n",
    "            axis = 0 makes to repeat in y-axis and\n",
    "        </li>\n",
    "        <li>\n",
    "            axis = 1 makes to repeat in x-axis\n",
    "        </li>\n",
    "    </ul>\n",
    "</div>\n",
    "\n",
    "<div class=\"alert alert-block alert-info\">\n",
    "    <h4>For 3-D Array,</h4>\n",
    "    <ul>\n",
    "        <li>\n",
    "            axis = 0 makes to repeat in z-axis,\n",
    "        </li>\n",
    "        <li>\n",
    "            axis = 1 makes to repeat in y-axis, and\n",
    "        </li>\n",
    "        <li>\n",
    "            axis = 2 makes to repeat in x-axis\n",
    "        </li>\n",
    "    </ul>\n",
    "</div>\n",
    "\n",
    "\n",
    "\n",
    "\n",
    "\n"
   ]
  },
  {
   "cell_type": "code",
   "execution_count": null,
   "id": "96a1f04f",
   "metadata": {},
   "outputs": [],
   "source": [
    "r2 = np.repeat(arr,2,axis=0)\n",
    "r2"
   ]
  },
  {
   "attachments": {},
   "cell_type": "markdown",
   "id": "00269cb4",
   "metadata": {},
   "source": [
    "### Evenly Spaced Array\n",
    "\n",
    "a<sub>n</sub> = a<sub>1</sub> + (n-1)*d\n",
    "\n",
    "- n --> Number of Term\n",
    "- d --> Common Difference\n",
    "\n",
    "<code>np.linspace(x,y,n)</code> For this syntax Number of terms is used to create a array\n",
    "\n",
    "Gives 'n' values between 'x' and 'y'. Values will be in Arithmatic Progression"
   ]
  },
  {
   "cell_type": "code",
   "execution_count": null,
   "id": "1f53d6d8",
   "metadata": {},
   "outputs": [
    {
     "data": {
      "text/plain": [
       "array([10, 12, 14, 16, 18, 20, 22, 24, 26, 28, 30], dtype=int32)"
      ]
     },
     "execution_count": 39,
     "metadata": {},
     "output_type": "execute_result"
    }
   ],
   "source": [
    "evenly_spaced = np.linspace(10,30,11,dtype='i')\n",
    "evenly_spaced"
   ]
  },
  {
   "attachments": {},
   "cell_type": "markdown",
   "id": "fc3aa780",
   "metadata": {},
   "source": [
    "<code>np.arange(x,y,d)</code>\n",
    "\n",
    "Gives  values between 'x' and 'y' with a difference 'd'"
   ]
  },
  {
   "cell_type": "code",
   "execution_count": null,
   "id": "b5172e07",
   "metadata": {},
   "outputs": [
    {
     "data": {
      "text/plain": [
       "array([10, 18, 26], dtype=int32)"
      ]
     },
     "execution_count": 40,
     "metadata": {},
     "output_type": "execute_result"
    }
   ],
   "source": [
    "evenly_spaced = np.arange(10,30,8,dtype='i')\n",
    "evenly_spaced"
   ]
  },
  {
   "attachments": {},
   "cell_type": "markdown",
   "id": "9d5cd12f",
   "metadata": {},
   "source": [
    "### Converting List to Array"
   ]
  },
  {
   "cell_type": "code",
   "execution_count": null,
   "id": "0d582785",
   "metadata": {},
   "outputs": [],
   "source": [
    "list = [1,2,3]\n",
    "list_to_num = np.array(list)\n"
   ]
  },
  {
   "cell_type": "code",
   "execution_count": null,
   "id": "156639df",
   "metadata": {},
   "outputs": [
    {
     "data": {
      "text/plain": [
       "array([1, 2, 3])"
      ]
     },
     "execution_count": 57,
     "metadata": {},
     "output_type": "execute_result"
    }
   ],
   "source": [
    "#OR\n",
    "list_to_num = np.asarray(list)\n",
    "list_to_num"
   ]
  },
  {
   "attachments": {},
   "cell_type": "markdown",
   "id": "0bc6b578",
   "metadata": {
    "jp-MarkdownHeadingCollapsed": true,
    "tags": []
   },
   "source": [
    "---\n",
    "## **Problem - 1**\n",
    "\n",
    "<img src=\"../images/Problem_1.png\" alt=\"Matrix\" title=\"problem-1\" height=\"250px\" width=\"250px\"/><br>\n",
    "**Create the above matrix using learned methods**"
   ]
  },
  {
   "cell_type": "code",
   "execution_count": null,
   "id": "5bf2b12b",
   "metadata": {},
   "outputs": [],
   "source": [
    "output = np.ones((5,5))\n",
    "print(output)\n",
    "\"\"\"\n",
    "My Solution\n",
    "zero_array3 = np.zeros((3))\n",
    "output[1,1:4] = zero_array3\n",
    "print(output)\n",
    "output[1:4,1] = zero_array3\n",
    "output[3,1:4] = zero_array3\n",
    "output[1:4,3] = zero_array3\n",
    "output[2,2] = 9\n",
    "\n",
    "\"\"\"\n",
    "#Efficient Solution\n",
    "temp_zero = np.zeros((3,3))\n",
    "temp_zero[1,1] = 9\n",
    "print(temp_zero)\n",
    "\n",
    "output[1:4,1:4] = temp_zero "
   ]
  },
  {
   "cell_type": "code",
   "execution_count": null,
   "id": "608a6945",
   "metadata": {},
   "outputs": [],
   "source": [
    "output"
   ]
  },
  {
   "attachments": {},
   "cell_type": "markdown",
   "id": "661c398f",
   "metadata": {},
   "source": [
    "***\n",
    "### How to copy a array?"
   ]
  },
  {
   "cell_type": "code",
   "execution_count": null,
   "id": "239a2dd7",
   "metadata": {},
   "outputs": [],
   "source": [
    "arr1 = np.array([1,2,3])\n",
    "arr2 = arr1 # reference is copied\n",
    "arr3 = arr1.copy() # proper way to copy\n",
    "arr1"
   ]
  },
  {
   "cell_type": "code",
   "execution_count": null,
   "id": "4fbcbf6e",
   "metadata": {},
   "outputs": [],
   "source": [
    "arr2[1] = 5\n",
    "print(arr1)"
   ]
  },
  {
   "cell_type": "code",
   "execution_count": null,
   "id": "6bbd45ad",
   "metadata": {},
   "outputs": [],
   "source": [
    "arr3[0] = 10\n",
    "arr3"
   ]
  },
  {
   "cell_type": "code",
   "execution_count": null,
   "id": "57b6c875",
   "metadata": {},
   "outputs": [],
   "source": [
    "arr1\n",
    "# When we change elements from arr2, arr1 is affected but\n",
    "# when we change elements from arr3, arr1 is not affected"
   ]
  },
  {
   "cell_type": "code",
   "execution_count": null,
   "id": "8c61eb8e",
   "metadata": {
    "scrolled": true
   },
   "outputs": [],
   "source": [
    "print(arr2.base)\n",
    "print(arr3.base)"
   ]
  },
  {
   "cell_type": "code",
   "execution_count": null,
   "id": "2bc46721",
   "metadata": {},
   "outputs": [],
   "source": [
    "arr2 = arr1.view()\n",
    "print(arr2.base)\n",
    "print(arr3.base)"
   ]
  },
  {
   "attachments": {},
   "cell_type": "markdown",
   "id": "f74c1ede",
   "metadata": {},
   "source": [
    "<div class=\"alert alert-block alert-danger\">\n",
    "    <h4>Doubt Difference b/w below three intialization</h4>\n",
    "    <b>arr1 = arr2 <br> arr1 = arr2.view()<br> arr2 = arr1.copy()</b> \n",
    "</div>"
   ]
  },
  {
   "attachments": {},
   "cell_type": "markdown",
   "id": "d0c562e1",
   "metadata": {},
   "source": [
    "***\n",
    "### Converting Data Type on Existing Arrays\n",
    "\n",
    "<code>array.astype('data_type')</code>\n",
    "<h4>List of Data Types</h4>\n",
    "\n",
    "- i - integer\n",
    "- b - boolean\n",
    "- u - unsigned integer\n",
    "- f - float\n",
    "- c - complex float\n",
    "- m - timedelta\n",
    "- M - datetime\n",
    "- O - object\n",
    "- S - string\n",
    "- U - unicode string\n",
    "- V - fixed chunk of memory for other type ( void )"
   ]
  },
  {
   "cell_type": "code",
   "execution_count": null,
   "id": "680978fd",
   "metadata": {},
   "outputs": [],
   "source": [
    "arr_float = np.array([1.5, 2.21,3.141], dtype='f')\n",
    "arr_float\n",
    "# dtype helps to intialize the data_type while creating a array and it's not compulsory"
   ]
  },
  {
   "cell_type": "code",
   "execution_count": null,
   "id": "5f530889",
   "metadata": {},
   "outputs": [],
   "source": [
    "arr_int = arr_float.astype('i2') #i2 means integer 2 bytes\n",
    "arr_int"
   ]
  },
  {
   "attachments": {},
   "cell_type": "markdown",
   "id": "7d2584b7",
   "metadata": {
    "jp-MarkdownHeadingCollapsed": true,
    "tags": []
   },
   "source": [
    "***\n",
    "## **Mathematics**"
   ]
  },
  {
   "cell_type": "code",
   "execution_count": null,
   "id": "63f1827c",
   "metadata": {},
   "outputs": [
    {
     "data": {
      "text/plain": [
       "array([51, 79, 27, 84, 95, 31])"
      ]
     },
     "execution_count": 56,
     "metadata": {},
     "output_type": "execute_result"
    }
   ],
   "source": [
    "# Creating a Random Array for Testing Mathematics\n",
    "A = np.random.randint(100,size=(6))\n",
    "A"
   ]
  },
  {
   "cell_type": "code",
   "execution_count": null,
   "id": "0ea33d32",
   "metadata": {},
   "outputs": [
    {
     "data": {
      "text/plain": [
       "array([51, 44, 66, 74, 12, 58])"
      ]
     },
     "execution_count": 50,
     "metadata": {},
     "output_type": "execute_result"
    }
   ],
   "source": [
    "B = np.random.randint(100,size=(6))\n",
    "B"
   ]
  },
  {
   "attachments": {},
   "cell_type": "markdown",
   "id": "9672ed5a",
   "metadata": {},
   "source": [
    "### Arithmetic"
   ]
  },
  {
   "cell_type": "code",
   "execution_count": null,
   "id": "ea4c921a",
   "metadata": {},
   "outputs": [
    {
     "data": {
      "text/plain": [
       "array([4, 5, 6])"
      ]
     },
     "execution_count": 51,
     "metadata": {},
     "output_type": "execute_result"
    }
   ],
   "source": [
    "A+3"
   ]
  },
  {
   "cell_type": "code",
   "execution_count": null,
   "id": "c1f29aa1",
   "metadata": {},
   "outputs": [
    {
     "data": {
      "text/plain": [
       "array([-2, -1,  0])"
      ]
     },
     "execution_count": 52,
     "metadata": {},
     "output_type": "execute_result"
    }
   ],
   "source": [
    "A-3"
   ]
  },
  {
   "cell_type": "code",
   "execution_count": null,
   "id": "9f0571b6",
   "metadata": {},
   "outputs": [
    {
     "data": {
      "text/plain": [
       "array([2, 4, 6])"
      ]
     },
     "execution_count": 53,
     "metadata": {},
     "output_type": "execute_result"
    }
   ],
   "source": [
    "A*2"
   ]
  },
  {
   "cell_type": "code",
   "execution_count": null,
   "id": "f6f7f91b",
   "metadata": {},
   "outputs": [
    {
     "data": {
      "text/plain": [
       "array([0.5, 1. , 1.5])"
      ]
     },
     "execution_count": 54,
     "metadata": {},
     "output_type": "execute_result"
    }
   ],
   "source": [
    "A/2"
   ]
  },
  {
   "cell_type": "code",
   "execution_count": null,
   "id": "0d80fdb9",
   "metadata": {},
   "outputs": [
    {
     "data": {
      "text/plain": [
       "array([102, 123,  93, 158, 107,  89])"
      ]
     },
     "execution_count": 59,
     "metadata": {},
     "output_type": "execute_result"
    }
   ],
   "source": [
    "A + B"
   ]
  },
  {
   "cell_type": "code",
   "execution_count": null,
   "id": "e724de32",
   "metadata": {},
   "outputs": [
    {
     "data": {
      "text/plain": [
       "array([102, 123,  93, 158, 107,  89])"
      ]
     },
     "execution_count": 65,
     "metadata": {},
     "output_type": "execute_result"
    }
   ],
   "source": [
    "#OR\n",
    "np.add(A,B)"
   ]
  },
  {
   "cell_type": "code",
   "execution_count": null,
   "id": "a88242ad",
   "metadata": {},
   "outputs": [
    {
     "name": "stdout",
     "output_type": "stream",
     "text": [
      "[  0  35 -39  10  83 -27]\n",
      "[2601 3476 1782 6216 1140 1798]\n",
      "[1.         1.79545455 0.40909091 1.13513514 7.91666667 0.53448276]\n"
     ]
    }
   ],
   "source": [
    "print(np.subtract(A,B))\n",
    "print(np.multiply(A,B))\n",
    "print(np.divide(A,B))"
   ]
  },
  {
   "attachments": {},
   "cell_type": "markdown",
   "id": "d67bfea2",
   "metadata": {},
   "source": [
    "***\n",
    "### Trignometry"
   ]
  },
  {
   "cell_type": "code",
   "execution_count": null,
   "id": "bcd4b2c6",
   "metadata": {},
   "outputs": [],
   "source": [
    "np.sin(A)"
   ]
  },
  {
   "cell_type": "code",
   "execution_count": null,
   "id": "1f334ec4",
   "metadata": {},
   "outputs": [],
   "source": [
    "np.cos(B)"
   ]
  },
  {
   "attachments": {},
   "cell_type": "markdown",
   "id": "8b5ebfd0",
   "metadata": {},
   "source": [
    "***\n",
    "### Linear Algebra\n",
    "- Matrix Multiplication\n",
    "- Determinant\n",
    "- Trace\n",
    "- Inverse\n",
    "- EigenValues\n",
    "- Matrix Norm\n",
    "- Inverse"
   ]
  },
  {
   "cell_type": "code",
   "execution_count": null,
   "id": "1fce0dde",
   "metadata": {},
   "outputs": [],
   "source": [
    "matA = np.random.randint(6,100,size=(2,3)) #Elements will be in the range(6,100)\n",
    "print(matA)\n",
    "matB = np.random.randint(100,size=(3,2))\n",
    "print(matB)"
   ]
  },
  {
   "cell_type": "code",
   "execution_count": null,
   "id": "e8b6f7d8",
   "metadata": {},
   "outputs": [],
   "source": [
    "# Matrix Multiplication\n",
    "\n",
    "matC = np.matmul(matA,matB)\n",
    "matC"
   ]
  },
  {
   "cell_type": "code",
   "execution_count": null,
   "id": "badd6780",
   "metadata": {},
   "outputs": [],
   "source": [
    "# Find the determinant\n",
    "det_matC = np.linalg.det(matC)\n",
    "det_matC"
   ]
  },
  {
   "attachments": {},
   "cell_type": "markdown",
   "id": "8b2887be",
   "metadata": {},
   "source": [
    "***\n",
    "### Statistics"
   ]
  },
  {
   "cell_type": "code",
   "execution_count": null,
   "id": "853b64bb",
   "metadata": {},
   "outputs": [],
   "source": [
    "print(matA)\n",
    "np.min(matA) # Minimum Value from the matrix"
   ]
  },
  {
   "cell_type": "code",
   "execution_count": null,
   "id": "8bad83f6",
   "metadata": {},
   "outputs": [],
   "source": [
    "np.max(matA)"
   ]
  },
  {
   "cell_type": "code",
   "execution_count": null,
   "id": "59d7d10e",
   "metadata": {},
   "outputs": [],
   "source": [
    "np.min(matA,axis=0) # returns the minimum value from each column"
   ]
  },
  {
   "cell_type": "code",
   "execution_count": null,
   "id": "5c6ca555",
   "metadata": {},
   "outputs": [],
   "source": [
    "np.min(matA,axis=1) # returns the minimum value from each row"
   ]
  },
  {
   "cell_type": "code",
   "execution_count": null,
   "id": "310ab173",
   "metadata": {},
   "outputs": [],
   "source": [
    "np.sum(matA) # Sum of the array"
   ]
  },
  {
   "cell_type": "code",
   "execution_count": null,
   "id": "18e60fb3",
   "metadata": {},
   "outputs": [],
   "source": [
    "np.sum(matA,axis=0) # Sum of each column"
   ]
  },
  {
   "cell_type": "code",
   "execution_count": null,
   "id": "6b085fc5",
   "metadata": {},
   "outputs": [],
   "source": [
    "np.sum(matA,axis=1) # Sum of each row"
   ]
  },
  {
   "attachments": {},
   "cell_type": "markdown",
   "id": "3ed69ef9",
   "metadata": {
    "jp-MarkdownHeadingCollapsed": true,
    "tags": []
   },
   "source": [
    "***\n",
    "## **Reorganizing Array**"
   ]
  },
  {
   "cell_type": "code",
   "execution_count": null,
   "id": "b5534023",
   "metadata": {},
   "outputs": [
    {
     "name": "stdout",
     "output_type": "stream",
     "text": [
      "[[82 47 77]\n",
      " [43 89 97]\n",
      " [84 82 81]\n",
      " [98 49 95]]\n"
     ]
    },
    {
     "data": {
      "text/plain": [
       "(4, 3)"
      ]
     },
     "execution_count": 71,
     "metadata": {},
     "output_type": "execute_result"
    }
   ],
   "source": [
    "initial = np.random.randint(100,size=(4,3))\n",
    "print(initial)\n",
    "initial.shape"
   ]
  },
  {
   "cell_type": "code",
   "execution_count": null,
   "id": "4fe2b9e4",
   "metadata": {},
   "outputs": [
    {
     "data": {
      "text/plain": [
       "array([[82, 47, 77, 43, 89, 97],\n",
       "       [84, 82, 81, 98, 49, 95]])"
      ]
     },
     "execution_count": 72,
     "metadata": {},
     "output_type": "execute_result"
    }
   ],
   "source": [
    "# Reshaping a Array\n",
    "final = initial.reshape((2,6))\n",
    "final\n",
    "# it is only possible product of inital_dimension is equal to product of final dimension\n",
    "# or\n",
    "# number of elemnts in intial should fit into the final array"
   ]
  },
  {
   "cell_type": "code",
   "execution_count": null,
   "id": "ed7779e7",
   "metadata": {},
   "outputs": [
    {
     "name": "stdout",
     "output_type": "stream",
     "text": [
      "[[82 84]\n",
      " [47 82]\n",
      " [77 81]\n",
      " [43 98]\n",
      " [89 49]\n",
      " [97 95]]\n"
     ]
    },
    {
     "data": {
      "text/plain": [
       "(6, 2)"
      ]
     },
     "execution_count": 76,
     "metadata": {},
     "output_type": "execute_result"
    }
   ],
   "source": [
    "# Transpose Of Matrix\n",
    "transpose = np.transpose(final)\n",
    "print(transpose)\n",
    "transpose.shape"
   ]
  },
  {
   "cell_type": "code",
   "execution_count": null,
   "id": "a983c5e5",
   "metadata": {},
   "outputs": [
    {
     "data": {
      "text/plain": [
       "array([[82, 84],\n",
       "       [47, 82],\n",
       "       [77, 81],\n",
       "       [43, 98],\n",
       "       [89, 49],\n",
       "       [97, 95]])"
      ]
     },
     "execution_count": 78,
     "metadata": {},
     "output_type": "execute_result"
    }
   ],
   "source": [
    "transpose1 = final.T\n",
    "transpose1"
   ]
  },
  {
   "cell_type": "code",
   "execution_count": null,
   "id": "11a7fe6c",
   "metadata": {},
   "outputs": [],
   "source": [
    "final.shape"
   ]
  },
  {
   "cell_type": "code",
   "execution_count": null,
   "id": "68b60823",
   "metadata": {},
   "outputs": [],
   "source": [
    "final2 = initial.reshape((2,2,3))\n",
    "final2"
   ]
  },
  {
   "cell_type": "code",
   "execution_count": null,
   "id": "ddb6c649",
   "metadata": {},
   "outputs": [],
   "source": [
    "# Vertical Stack\n",
    "a1 = np.random.randint(20,size=(6))\n",
    "a2 = np.random.randint(20,size=(6))\n",
    "print(a1)\n",
    "print(a2)"
   ]
  },
  {
   "cell_type": "code",
   "execution_count": null,
   "id": "c6405194",
   "metadata": {},
   "outputs": [],
   "source": [
    "np.vstack([a1,a2])"
   ]
  },
  {
   "cell_type": "code",
   "execution_count": null,
   "id": "509a6048",
   "metadata": {},
   "outputs": [],
   "source": [
    "np.vstack([a1,a2,a1,a2])"
   ]
  },
  {
   "cell_type": "code",
   "execution_count": null,
   "id": "d44284d8",
   "metadata": {},
   "outputs": [],
   "source": [
    "a3 = np.random.randint(20,size=(5))\n",
    "a3"
   ]
  },
  {
   "cell_type": "code",
   "execution_count": null,
   "id": "654b5ca3",
   "metadata": {},
   "outputs": [],
   "source": [
    "np.vstack([a1,a3]) #Error "
   ]
  },
  {
   "cell_type": "code",
   "execution_count": null,
   "id": "4109c3f0",
   "metadata": {},
   "outputs": [],
   "source": [
    "# Horizontal Stack\n",
    "print(a1)\n",
    "print(a2)\n",
    "np.hstack([a1,a2])"
   ]
  },
  {
   "attachments": {},
   "cell_type": "markdown",
   "id": "1519dbf7",
   "metadata": {
    "jp-MarkdownHeadingCollapsed": true,
    "tags": []
   },
   "source": [
    "***\n",
    "## **Load Data From Files**"
   ]
  },
  {
   "cell_type": "code",
   "execution_count": null,
   "id": "ca0df342",
   "metadata": {},
   "outputs": [],
   "source": [
    "filedata = np.genfromtxt('../data/test.txt',delimiter=',')\n",
    "filedata.astype('i2')\n",
    "filedata"
   ]
  },
  {
   "attachments": {},
   "cell_type": "markdown",
   "id": "6e957c07",
   "metadata": {
    "jp-MarkdownHeadingCollapsed": true,
    "tags": []
   },
   "source": [
    "***\n",
    "## **Boolean Masking and Advance Indexing**"
   ]
  },
  {
   "cell_type": "code",
   "execution_count": null,
   "id": "f0aa12d0",
   "metadata": {},
   "outputs": [],
   "source": [
    "filedata > 10"
   ]
  },
  {
   "cell_type": "code",
   "execution_count": null,
   "id": "acff07d6",
   "metadata": {},
   "outputs": [],
   "source": [
    "filedata[filedata >10] # Listing value greater than 10"
   ]
  },
  {
   "cell_type": "code",
   "execution_count": null,
   "id": "56438738",
   "metadata": {},
   "outputs": [],
   "source": [
    "filedata"
   ]
  },
  {
   "cell_type": "code",
   "execution_count": null,
   "id": "d5227b90",
   "metadata": {},
   "outputs": [],
   "source": [
    "filedata1 = filedata.reshape((-1)).astype('i2')\n",
    "filedata1 \n",
    "# you can mention -1, when yoy don't know the no of eleemnts.\n",
    "# When there are multiple dimension, you can only mention -1 for any one dimension."
   ]
  },
  {
   "cell_type": "code",
   "execution_count": null,
   "id": "53cdf9cb",
   "metadata": {},
   "outputs": [],
   "source": [
    "filedata1[[1,2,6]] # Passing index as a List\n",
    "\n",
    "# printing the elemnts at index : 1, 2, 6"
   ]
  },
  {
   "cell_type": "code",
   "execution_count": null,
   "id": "749a4d40",
   "metadata": {},
   "outputs": [],
   "source": [
    "print(filedata)\n",
    "np.any(filedata>3,axis=0) # checking at each column any value is greater than 3"
   ]
  },
  {
   "cell_type": "code",
   "execution_count": null,
   "id": "e0cdce46",
   "metadata": {},
   "outputs": [],
   "source": [
    "print(filedata)\n",
    "np.all(filedata>3,axis=0) # checking at each column all value is greater than 3"
   ]
  },
  {
   "cell_type": "code",
   "execution_count": null,
   "id": "0c95c59b",
   "metadata": {},
   "outputs": [],
   "source": [
    "((filedata > 3) & (filedata < 43))"
   ]
  },
  {
   "cell_type": "code",
   "execution_count": null,
   "id": "72cf3c07",
   "metadata": {},
   "outputs": [],
   "source": [
    "~((filedata > 3) & (filedata < 43))"
   ]
  },
  {
   "attachments": {},
   "cell_type": "markdown",
   "id": "537e5d84",
   "metadata": {
    "jp-MarkdownHeadingCollapsed": true,
    "tags": []
   },
   "source": [
    "***\n",
    "## **Problem 2**\n",
    "<img src=\"../images/Problem_2.png\" alt=\"Problem\" title=\"problem\" height=350px width=350px/>"
   ]
  },
  {
   "cell_type": "code",
   "execution_count": null,
   "id": "0b99123b",
   "metadata": {},
   "outputs": [],
   "source": [
    "input = np.array([x for x in range(1,31)])\n",
    "input[[1,5]]"
   ]
  },
  {
   "cell_type": "code",
   "execution_count": null,
   "id": "94cb3097",
   "metadata": {},
   "outputs": [],
   "source": [
    "input = input.reshape((6,5))\n",
    "input"
   ]
  },
  {
   "cell_type": "code",
   "execution_count": null,
   "id": "decff338",
   "metadata": {},
   "outputs": [],
   "source": [
    "input[2:4,0:2]"
   ]
  },
  {
   "cell_type": "code",
   "execution_count": null,
   "id": "298908cd",
   "metadata": {},
   "outputs": [],
   "source": [
    "input[[0,1,2,3],[1,2,3,4]]\n",
    "# First list first element will be paired with second list's first element\n",
    "#(0,1),(1,2),(2,3),(3,4)"
   ]
  },
  {
   "cell_type": "code",
   "execution_count": null,
   "id": "aff72225",
   "metadata": {},
   "outputs": [],
   "source": [
    "input[[0,4,5],3:]"
   ]
  },
  {
   "attachments": {},
   "cell_type": "markdown",
   "id": "1ac55790",
   "metadata": {},
   "source": [
    "***"
   ]
  }
 ],
 "metadata": {
  "kernelspec": {
   "display_name": "Python 3 (ipykernel)",
   "language": "python",
   "name": "python3"
  },
  "language_info": {
   "codemirror_mode": {
    "name": "ipython",
    "version": 3
   },
   "file_extension": ".py",
   "mimetype": "text/x-python",
   "name": "python",
   "nbconvert_exporter": "python",
   "pygments_lexer": "ipython3",
   "version": "3.10.4"
  }
 },
 "nbformat": 4,
 "nbformat_minor": 5
}
