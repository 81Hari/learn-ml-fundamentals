{
 "cells": [
  {
   "cell_type": "markdown",
   "id": "586f8973",
   "metadata": {
    "tags": []
   },
   "source": [
    "# **Python Basics**"
   ]
  },
  {
   "cell_type": "markdown",
   "id": "cb4ed814",
   "metadata": {
    "jp-MarkdownHeadingCollapsed": true,
    "tags": []
   },
   "source": [
    "***\n",
    "## **Introduction**"
   ]
  },
  {
   "cell_type": "code",
   "execution_count": 1,
   "id": "c5e4d3b7",
   "metadata": {},
   "outputs": [
    {
     "name": "stdout",
     "output_type": "stream",
     "text": [
      "23\n"
     ]
    }
   ],
   "source": [
    "print(23)"
   ]
  },
  {
   "cell_type": "code",
   "execution_count": 2,
   "id": "b6fc7e46",
   "metadata": {},
   "outputs": [
    {
     "name": "stdout",
     "output_type": "stream",
     "text": [
      "String\n"
     ]
    }
   ],
   "source": [
    "print(\"String\")"
   ]
  },
  {
   "cell_type": "code",
   "execution_count": 3,
   "id": "3f713cb3",
   "metadata": {},
   "outputs": [
    {
     "name": "stdout",
     "output_type": "stream",
     "text": [
      "Hello\n"
     ]
    }
   ],
   "source": [
    "print('Hello')"
   ]
  },
  {
   "cell_type": "code",
   "execution_count": 4,
   "id": "89e731a8",
   "metadata": {},
   "outputs": [
    {
     "name": "stdout",
     "output_type": "stream",
     "text": [
      "Hello World\n"
     ]
    }
   ],
   "source": [
    "print(\"Hello \" + \"World\")"
   ]
  },
  {
   "cell_type": "code",
   "execution_count": 2,
   "id": "6695cbd7-f36c-4443-bdd7-bfdcb612387c",
   "metadata": {
    "tags": []
   },
   "outputs": [
    {
     "name": "stdout",
     "output_type": "stream",
     "text": [
      "11\n"
     ]
    }
   ],
   "source": [
    "print(8+3)"
   ]
  },
  {
   "cell_type": "code",
   "execution_count": null,
   "id": "ae4d768a-5fb1-4739-a809-5f7d28408f0e",
   "metadata": {},
   "outputs": [],
   "source": [
    "# Comment\n",
    "\n",
    "\"\"\"\n",
    "Multi-Line-Comment\n",
    "\"\"\"\n",
    "#---\n",
    "#Multi-Line Comment\n",
    "#---"
   ]
  },
  {
   "cell_type": "markdown",
   "id": "1dbc6a28-51cd-4649-9257-3e23bb12ca73",
   "metadata": {
    "jp-MarkdownHeadingCollapsed": true,
    "tags": []
   },
   "source": [
    "***\n",
    "## **Basic Data-Types**\n",
    "1. int (Integer)\n",
    "2. float (Floating Point)\n",
    "3. str (String)\n",
    "4. complex (Complex) \n",
    "5. bool (Boolean)\n",
    "6. None (NoneType)\n",
    " "
   ]
  },
  {
   "cell_type": "code",
   "execution_count": 2,
   "id": "075ddd8d",
   "metadata": {
    "tags": []
   },
   "outputs": [],
   "source": [
    "i = 1 # Integer\n",
    "f = 5.5 # Float\n",
    "s = \"String\"# String"
   ]
  },
  {
   "cell_type": "code",
   "execution_count": 3,
   "id": "335da6ef",
   "metadata": {
    "tags": []
   },
   "outputs": [
    {
     "name": "stdout",
     "output_type": "stream",
     "text": [
      "1\n"
     ]
    },
    {
     "data": {
      "text/plain": [
       "int"
      ]
     },
     "execution_count": 3,
     "metadata": {},
     "output_type": "execute_result"
    }
   ],
   "source": [
    "print(i)\n",
    "type(i)"
   ]
  },
  {
   "cell_type": "code",
   "execution_count": 4,
   "id": "751d5cd7",
   "metadata": {
    "tags": []
   },
   "outputs": [
    {
     "name": "stdout",
     "output_type": "stream",
     "text": [
      "5.5\n"
     ]
    },
    {
     "data": {
      "text/plain": [
       "float"
      ]
     },
     "execution_count": 4,
     "metadata": {},
     "output_type": "execute_result"
    }
   ],
   "source": [
    "print(f)\n",
    "type(f)"
   ]
  },
  {
   "cell_type": "code",
   "execution_count": 5,
   "id": "c5ae738a",
   "metadata": {
    "tags": []
   },
   "outputs": [
    {
     "name": "stdout",
     "output_type": "stream",
     "text": [
      "String\n"
     ]
    },
    {
     "data": {
      "text/plain": [
       "str"
      ]
     },
     "execution_count": 5,
     "metadata": {},
     "output_type": "execute_result"
    }
   ],
   "source": [
    "print(s)\n",
    "type(s)"
   ]
  },
  {
   "cell_type": "code",
   "execution_count": 6,
   "id": "355fa916-3b42-4e85-ace6-f411efe5d8cc",
   "metadata": {
    "tags": []
   },
   "outputs": [
    {
     "name": "stdout",
     "output_type": "stream",
     "text": [
      "StringStringStringStringString\n",
      "StringString\n"
     ]
    }
   ],
   "source": [
    "print(s*5) #prints the s for 5 times\n",
    "print(s+s)"
   ]
  },
  {
   "cell_type": "code",
   "execution_count": 36,
   "id": "fb89392b-8925-4478-8de3-aa2579005678",
   "metadata": {
    "tags": []
   },
   "outputs": [],
   "source": [
    "str1 = \" Sri Hari \""
   ]
  },
  {
   "cell_type": "code",
   "execution_count": 31,
   "id": "3fca58f7-20be-46b0-8e56-81be01182043",
   "metadata": {
    "tags": []
   },
   "outputs": [],
   "source": [
    "substr1=\"Hari\""
   ]
  },
  {
   "cell_type": "markdown",
   "id": "94902c9a-ba29-446a-8916-6fc8008fd7dd",
   "metadata": {
    "jp-MarkdownHeadingCollapsed": true,
    "tags": []
   },
   "source": [
    "#### **Membership Operator**\n",
    "- Returns True if a sequence with the specified value is present in the object"
   ]
  },
  {
   "cell_type": "code",
   "execution_count": 10,
   "id": "1574b629-9e67-4b7d-b8f3-d9a40351bdce",
   "metadata": {
    "tags": []
   },
   "outputs": [
    {
     "data": {
      "text/plain": [
       "True"
      ]
     },
     "execution_count": 10,
     "metadata": {},
     "output_type": "execute_result"
    }
   ],
   "source": [
    "substr1 in str1"
   ]
  },
  {
   "cell_type": "code",
   "execution_count": 11,
   "id": "35de997b-946b-46c6-b6bc-8103750a508b",
   "metadata": {
    "tags": []
   },
   "outputs": [
    {
     "data": {
      "text/plain": [
       "False"
      ]
     },
     "execution_count": 11,
     "metadata": {},
     "output_type": "execute_result"
    }
   ],
   "source": [
    "s in str1"
   ]
  },
  {
   "cell_type": "code",
   "execution_count": 13,
   "id": "a8a7cc8a-438f-4f6b-9c81-b6a438f8ed17",
   "metadata": {
    "tags": []
   },
   "outputs": [
    {
     "data": {
      "text/plain": [
       "True"
      ]
     },
     "execution_count": 13,
     "metadata": {},
     "output_type": "execute_result"
    }
   ],
   "source": [
    "s not in str1"
   ]
  },
  {
   "cell_type": "markdown",
   "id": "162cb494-f0ea-4f8b-a809-c4f03edd872c",
   "metadata": {
    "jp-MarkdownHeadingCollapsed": true,
    "tags": []
   },
   "source": [
    "#### **Identity Operators**\n",
    "- Identity operators are used to compare the objects, not if they are equal, but if they are actually the same object, with the same memory location"
   ]
  },
  {
   "cell_type": "code",
   "execution_count": 37,
   "id": "b57e2b48-6a24-4c20-bbb3-16de3b2b8277",
   "metadata": {
    "tags": []
   },
   "outputs": [],
   "source": [
    "str2 = \" Sri Hari \""
   ]
  },
  {
   "cell_type": "code",
   "execution_count": 27,
   "id": "5278e958-cb29-458f-a5bb-d505aef1b480",
   "metadata": {
    "tags": []
   },
   "outputs": [
    {
     "data": {
      "text/plain": [
       "False"
      ]
     },
     "execution_count": 27,
     "metadata": {},
     "output_type": "execute_result"
    }
   ],
   "source": [
    "str1 is substr1"
   ]
  },
  {
   "cell_type": "code",
   "execution_count": 28,
   "id": "6bdc4651-a8aa-44a9-ac3b-5659f23f0fef",
   "metadata": {
    "tags": []
   },
   "outputs": [
    {
     "data": {
      "text/plain": [
       "False"
      ]
     },
     "execution_count": 28,
     "metadata": {},
     "output_type": "execute_result"
    }
   ],
   "source": [
    "str1 is str2"
   ]
  },
  {
   "cell_type": "code",
   "execution_count": 29,
   "id": "a9c255b7-fe1a-4bdf-ad15-16eb5ab0e47d",
   "metadata": {
    "tags": []
   },
   "outputs": [
    {
     "data": {
      "text/plain": [
       "True"
      ]
     },
     "execution_count": 29,
     "metadata": {},
     "output_type": "execute_result"
    }
   ],
   "source": [
    "str1 is not substr1"
   ]
  },
  {
   "cell_type": "markdown",
   "id": "3148c6e5-fc53-45fc-8c97-fbcca0830814",
   "metadata": {
    "jp-MarkdownHeadingCollapsed": true,
    "tags": []
   },
   "source": [
    "#### **String Slicing**\n",
    "\n",
    "**Syntax-1:** [start_index:end_index:step]<br>\n",
    "**Syntax-2:** [start_index:end_index]\n",
    "\n",
    "**By-Default**\n",
    "\n",
    "- Start_Index: 0\n",
    "- End_Index: Length_Of_String\n",
    "- Step: 1\n",
    "\n",
    "**When Step is -1, By-Default:**\n",
    "\n",
    "- Start_Index: -1\n",
    "- End_Index: (Length_Of_String + 1)*(-1)\n",
    "- Step: (-i) \n",
    "\n",
    "**Note:**\n",
    "- When Step is negative, start index and end index must be negative if not the given index will be converted to equivalent negative index.\n",
    "- Same When Step is positive\n"
   ]
  },
  {
   "cell_type": "code",
   "execution_count": 42,
   "id": "497ca035-60a9-4ac6-a754-3283f5f522a4",
   "metadata": {
    "tags": []
   },
   "outputs": [
    {
     "data": {
      "text/plain": [
       "'String'"
      ]
     },
     "execution_count": 42,
     "metadata": {},
     "output_type": "execute_result"
    }
   ],
   "source": [
    "s[:]"
   ]
  },
  {
   "cell_type": "code",
   "execution_count": 44,
   "id": "6cb1de32-f5ae-4862-a791-d29a77bc5e13",
   "metadata": {
    "tags": []
   },
   "outputs": [
    {
     "data": {
      "text/plain": [
       "'tring'"
      ]
     },
     "execution_count": 44,
     "metadata": {},
     "output_type": "execute_result"
    }
   ],
   "source": [
    "s[1:]"
   ]
  },
  {
   "cell_type": "code",
   "execution_count": 45,
   "id": "a0ce3057-fa2c-4fbc-b2ff-ab532d635918",
   "metadata": {
    "tags": []
   },
   "outputs": [
    {
     "data": {
      "text/plain": [
       "'Stri'"
      ]
     },
     "execution_count": 45,
     "metadata": {},
     "output_type": "execute_result"
    }
   ],
   "source": [
    "s[:4]"
   ]
  },
  {
   "cell_type": "code",
   "execution_count": 46,
   "id": "be68c5a3-ab40-4dfb-a319-464b6e8390fc",
   "metadata": {
    "tags": []
   },
   "outputs": [
    {
     "data": {
      "text/plain": [
       "'tri'"
      ]
     },
     "execution_count": 46,
     "metadata": {},
     "output_type": "execute_result"
    }
   ],
   "source": [
    "s[1:4]"
   ]
  },
  {
   "cell_type": "code",
   "execution_count": 48,
   "id": "08fa3176-4130-454c-8a1c-fc6a6fe8fe32",
   "metadata": {
    "tags": []
   },
   "outputs": [
    {
     "data": {
      "text/plain": [
       "'Srn'"
      ]
     },
     "execution_count": 48,
     "metadata": {},
     "output_type": "execute_result"
    }
   ],
   "source": [
    "s[::2]"
   ]
  },
  {
   "cell_type": "code",
   "execution_count": 50,
   "id": "63453beb-277a-42af-9a36-532b6115b9c0",
   "metadata": {
    "tags": []
   },
   "outputs": [
    {
     "data": {
      "text/plain": [
       "'tig'"
      ]
     },
     "execution_count": 50,
     "metadata": {},
     "output_type": "execute_result"
    }
   ],
   "source": [
    "s[1::2]"
   ]
  },
  {
   "cell_type": "code",
   "execution_count": 52,
   "id": "ed7bd8d5-9ff8-4a60-8aa3-ea2300218d9b",
   "metadata": {
    "tags": []
   },
   "outputs": [
    {
     "data": {
      "text/plain": [
       "'ti'"
      ]
     },
     "execution_count": 52,
     "metadata": {},
     "output_type": "execute_result"
    }
   ],
   "source": [
    "s[1:5:2]"
   ]
  },
  {
   "cell_type": "code",
   "execution_count": 54,
   "id": "56d39ece-2b02-46a9-8a14-139d32c2987a",
   "metadata": {
    "tags": []
   },
   "outputs": [
    {
     "data": {
      "text/plain": [
       "'gnirtS'"
      ]
     },
     "execution_count": 54,
     "metadata": {},
     "output_type": "execute_result"
    }
   ],
   "source": [
    "s[::-1]"
   ]
  },
  {
   "cell_type": "code",
   "execution_count": 62,
   "id": "9e469991-d2fe-4d24-b094-fda785dba69b",
   "metadata": {
    "tags": []
   },
   "outputs": [
    {
     "data": {
      "text/plain": [
       "'gn'"
      ]
     },
     "execution_count": 62,
     "metadata": {},
     "output_type": "execute_result"
    }
   ],
   "source": [
    "s[5:3:-1]"
   ]
  },
  {
   "cell_type": "code",
   "execution_count": 58,
   "id": "59313980-6500-4a74-ab4a-f7afdf58d03d",
   "metadata": {
    "tags": []
   },
   "outputs": [
    {
     "data": {
      "text/plain": [
       "'gnir'"
      ]
     },
     "execution_count": 58,
     "metadata": {},
     "output_type": "execute_result"
    }
   ],
   "source": [
    "s[-1:-5:-1]"
   ]
  },
  {
   "cell_type": "code",
   "execution_count": 61,
   "id": "4ffaebf9-78dc-4d95-b23c-f82e08feab05",
   "metadata": {
    "tags": []
   },
   "outputs": [
    {
     "data": {
      "text/plain": [
       "''"
      ]
     },
     "execution_count": 61,
     "metadata": {},
     "output_type": "execute_result"
    }
   ],
   "source": [
    "s[-1:6:-1]"
   ]
  },
  {
   "cell_type": "markdown",
   "id": "113a8901-d146-4b8a-a919-1989c0fc8d37",
   "metadata": {
    "jp-MarkdownHeadingCollapsed": true,
    "tags": []
   },
   "source": [
    "#### **Modiyfing String**"
   ]
  },
  {
   "cell_type": "code",
   "execution_count": 38,
   "id": "c2e92107-0f0a-41b5-a26d-a86d62e94973",
   "metadata": {
    "tags": []
   },
   "outputs": [
    {
     "data": {
      "text/plain": [
       "' SRI HARI '"
      ]
     },
     "execution_count": 38,
     "metadata": {},
     "output_type": "execute_result"
    }
   ],
   "source": [
    "str1.upper()"
   ]
  },
  {
   "cell_type": "code",
   "execution_count": 39,
   "id": "a172dc6e-963b-4212-8dea-a5c8246999b4",
   "metadata": {
    "tags": []
   },
   "outputs": [
    {
     "data": {
      "text/plain": [
       "' sri hari '"
      ]
     },
     "execution_count": 39,
     "metadata": {},
     "output_type": "execute_result"
    }
   ],
   "source": [
    "str1.lower()"
   ]
  },
  {
   "cell_type": "code",
   "execution_count": 40,
   "id": "949f1bbd-5a23-46c9-a25c-f40f50e8d9de",
   "metadata": {
    "tags": []
   },
   "outputs": [
    {
     "data": {
      "text/plain": [
       "' sri hari '"
      ]
     },
     "execution_count": 40,
     "metadata": {},
     "output_type": "execute_result"
    }
   ],
   "source": [
    "str1.capitalize()"
   ]
  },
  {
   "cell_type": "code",
   "execution_count": 41,
   "id": "8532f04e-fd6c-4b5f-b802-6be5c4424f36",
   "metadata": {
    "tags": []
   },
   "outputs": [
    {
     "data": {
      "text/plain": [
       "'Sri Hari'"
      ]
     },
     "execution_count": 41,
     "metadata": {},
     "output_type": "execute_result"
    }
   ],
   "source": [
    "str1.strip()"
   ]
  },
  {
   "cell_type": "code",
   "execution_count": 42,
   "id": "4473190e-6511-4714-8541-9615b7c023a7",
   "metadata": {
    "tags": []
   },
   "outputs": [
    {
     "data": {
      "text/plain": [
       "' Sr3 Har3 '"
      ]
     },
     "execution_count": 42,
     "metadata": {},
     "output_type": "execute_result"
    }
   ],
   "source": [
    "str1.replace('i','3')"
   ]
  },
  {
   "cell_type": "code",
   "execution_count": 43,
   "id": "f7391bee-675d-4cec-9a47-f47265f622fd",
   "metadata": {
    "tags": []
   },
   "outputs": [
    {
     "data": {
      "text/plain": [
       "['Sri', 'Hari']"
      ]
     },
     "execution_count": 43,
     "metadata": {},
     "output_type": "execute_result"
    }
   ],
   "source": [
    "str1.strip().split(\" \")"
   ]
  },
  {
   "cell_type": "markdown",
   "id": "b3c55b05-1554-40fa-996e-91dd78694721",
   "metadata": {
    "jp-MarkdownHeadingCollapsed": true,
    "tags": []
   },
   "source": [
    "#### **String Format**\n",
    "- The <code>format()</code> method takes unlimited number of arguments, and are placed into the respective placeholders"
   ]
  },
  {
   "cell_type": "code",
   "execution_count": 44,
   "id": "a94664ed-e552-4712-bd2f-441ee59dbaf4",
   "metadata": {
    "tags": []
   },
   "outputs": [
    {
     "data": {
      "text/plain": [
       "'Mean is 7.7'"
      ]
     },
     "execution_count": 44,
     "metadata": {},
     "output_type": "execute_result"
    }
   ],
   "source": [
    "txt = \"Mean is {}\"\n",
    "m =7.7\n",
    "out = txt.format(m)\n",
    "out"
   ]
  },
  {
   "cell_type": "code",
   "execution_count": 53,
   "id": "2c4e4dd4-de10-4c5c-b686-9af1da0a8a85",
   "metadata": {
    "tags": []
   },
   "outputs": [
    {
     "name": "stdout",
     "output_type": "stream",
     "text": [
      "\n",
      "Total: 80\n",
      "Mean: 7.7\n",
      "\n"
     ]
    }
   ],
   "source": [
    "txt = \"\"\"\n",
    "Total: {}\n",
    "Mean: {}\n",
    "\"\"\"\n",
    "t= 80\n",
    "out = txt.format(t,m)\n",
    "print(out)"
   ]
  },
  {
   "cell_type": "markdown",
   "id": "30e21844-199f-4884-8804-1161c2e85820",
   "metadata": {},
   "source": [
    "- You can use index numbers {0} to be sure the arguments are placed in the correct placeholders"
   ]
  },
  {
   "cell_type": "code",
   "execution_count": 55,
   "id": "db62f773-13af-40ff-9702-0a15b407bf12",
   "metadata": {
    "tags": []
   },
   "outputs": [
    {
     "name": "stdout",
     "output_type": "stream",
     "text": [
      "\n",
      "Total: 80\n",
      "Mean: 7.7\n",
      "\n"
     ]
    }
   ],
   "source": [
    "txt = \"\"\"\n",
    "Total: {1}\n",
    "Mean: {0}\n",
    "\"\"\"\n",
    "out = txt.format(m,t)\n",
    "print(out)"
   ]
  },
  {
   "cell_type": "markdown",
   "id": "d7dc6629-172b-4811-be09-60e1b577b253",
   "metadata": {
    "jp-MarkdownHeadingCollapsed": true,
    "tags": []
   },
   "source": [
    "#### **Conversion**"
   ]
  },
  {
   "cell_type": "code",
   "execution_count": 23,
   "id": "464424a9-fa30-4d52-8ffd-b3a9ef925710",
   "metadata": {
    "tags": []
   },
   "outputs": [
    {
     "data": {
      "text/plain": [
       "5"
      ]
     },
     "execution_count": 23,
     "metadata": {},
     "output_type": "execute_result"
    }
   ],
   "source": [
    "# conversion from float to int\n",
    "int(f)"
   ]
  },
  {
   "cell_type": "code",
   "execution_count": 24,
   "id": "c9ea800b-7caa-425f-9fa7-be5fcf44e539",
   "metadata": {
    "tags": []
   },
   "outputs": [
    {
     "data": {
      "text/plain": [
       "1.0"
      ]
     },
     "execution_count": 24,
     "metadata": {},
     "output_type": "execute_result"
    }
   ],
   "source": [
    "# conversion from int to float\n",
    "float(i)"
   ]
  },
  {
   "cell_type": "markdown",
   "id": "906e387c-d62e-4a17-af20-b571fa4cd5cf",
   "metadata": {
    "tags": []
   },
   "source": [
    "#### **Complex, Boolean, None**"
   ]
  },
  {
   "cell_type": "code",
   "execution_count": 26,
   "id": "81c0dc18-cd91-445a-bb1e-c0d446891d9d",
   "metadata": {
    "tags": []
   },
   "outputs": [
    {
     "name": "stdout",
     "output_type": "stream",
     "text": [
      "(1+3j)\n"
     ]
    },
    {
     "data": {
      "text/plain": [
       "complex"
      ]
     },
     "execution_count": 26,
     "metadata": {},
     "output_type": "execute_result"
    }
   ],
   "source": [
    "#Complex Number\n",
    "c = 1 + 3j\n",
    "print(c)\n",
    "type(c)"
   ]
  },
  {
   "cell_type": "code",
   "execution_count": 28,
   "id": "979366ac-30e2-4de3-a812-f6c8056f766b",
   "metadata": {
    "tags": []
   },
   "outputs": [
    {
     "data": {
      "text/plain": [
       "(1+0j)"
      ]
     },
     "execution_count": 28,
     "metadata": {},
     "output_type": "execute_result"
    }
   ],
   "source": [
    "# Conversion of integer to complex vice versa is not possible\n",
    "complex(i)"
   ]
  },
  {
   "cell_type": "code",
   "execution_count": 31,
   "id": "c49f5eb4-8f55-4559-90e7-b47ea0e371f9",
   "metadata": {
    "tags": []
   },
   "outputs": [
    {
     "name": "stdout",
     "output_type": "stream",
     "text": [
      "True\n",
      "False\n"
     ]
    }
   ],
   "source": [
    "# Boolean\n",
    "t = True\n",
    "f = False\n",
    "print(t)\n",
    "print(f)"
   ]
  },
  {
   "cell_type": "code",
   "execution_count": 33,
   "id": "0e984938-aecd-448b-b8df-554c43246b56",
   "metadata": {
    "tags": []
   },
   "outputs": [
    {
     "data": {
      "text/plain": [
       "bool"
      ]
     },
     "execution_count": 33,
     "metadata": {},
     "output_type": "execute_result"
    }
   ],
   "source": [
    "type(t)\n",
    "type(f)"
   ]
  },
  {
   "cell_type": "code",
   "execution_count": 38,
   "id": "29c2e328-8839-43f5-ab00-97d52e534bb7",
   "metadata": {
    "tags": []
   },
   "outputs": [
    {
     "data": {
      "text/plain": [
       "True"
      ]
     },
     "execution_count": 38,
     "metadata": {},
     "output_type": "execute_result"
    }
   ],
   "source": [
    "a=5\n",
    "b=6\n",
    "r = a<b\n",
    "r"
   ]
  },
  {
   "cell_type": "code",
   "execution_count": 60,
   "id": "677caf5d-ebbb-4f6f-a080-9aa34856460a",
   "metadata": {
    "tags": []
   },
   "outputs": [
    {
     "name": "stdout",
     "output_type": "stream",
     "text": [
      "True\n",
      "True\n",
      "True\n"
     ]
    }
   ],
   "source": [
    "# When we convert to bool, Most values are true\n",
    "print(bool(\"Hello\"))\n",
    "print(bool(15))\n",
    "print(bool([\"apple\", \"cherry\", \"banana\"]))"
   ]
  },
  {
   "cell_type": "code",
   "execution_count": 62,
   "id": "ab4d1432-fc65-4631-912c-e4ea4a904d5b",
   "metadata": {
    "tags": []
   },
   "outputs": [
    {
     "data": {
      "text/plain": [
       "False"
      ]
     },
     "execution_count": 62,
     "metadata": {},
     "output_type": "execute_result"
    }
   ],
   "source": [
    "# Some values are false\n",
    "bool(False)\n",
    "bool(None)\n",
    "bool(0)\n",
    "bool(\"\")\n",
    "bool(())\n",
    "bool([])\n",
    "bool({})"
   ]
  },
  {
   "cell_type": "code",
   "execution_count": 64,
   "id": "bc80b272-f7e4-4003-85a0-7aa32b7e2d8e",
   "metadata": {
    "tags": []
   },
   "outputs": [
    {
     "name": "stdout",
     "output_type": "stream",
     "text": [
      "False\n"
     ]
    }
   ],
   "source": [
    "\"\"\"\n",
    "One more value, or object in this case, evaluates to False, \n",
    "and that is if you have an object that is made from a \n",
    "class with a __len__ function that returns 0 or False:\n",
    "\"\"\"\n",
    "class myclass():\n",
    "  def __len__(self):\n",
    "    return 0\n",
    "\n",
    "myobj = myclass()\n",
    "print(bool(myobj))"
   ]
  },
  {
   "cell_type": "code",
   "execution_count": 34,
   "id": "d6b456ad-6a7b-446e-8f4f-460e6996bceb",
   "metadata": {
    "tags": []
   },
   "outputs": [
    {
     "name": "stdout",
     "output_type": "stream",
     "text": [
      "None\n"
     ]
    },
    {
     "data": {
      "text/plain": [
       "NoneType"
      ]
     },
     "execution_count": 34,
     "metadata": {},
     "output_type": "execute_result"
    }
   ],
   "source": [
    "N = None\n",
    "print(N)\n",
    "type(N)"
   ]
  },
  {
   "cell_type": "markdown",
   "id": "b1df3eae-85d4-4e15-95cb-32c6a39de796",
   "metadata": {
    "jp-MarkdownHeadingCollapsed": true,
    "tags": []
   },
   "source": [
    "***\n",
    "## **Variable**"
   ]
  },
  {
   "cell_type": "code",
   "execution_count": 10,
   "id": "bb57d2e7-2e90-44d4-997f-c99d192797d9",
   "metadata": {
    "tags": []
   },
   "outputs": [],
   "source": [
    "v1,v2,v3 = 1,2.5,'Hari'"
   ]
  },
  {
   "cell_type": "code",
   "execution_count": 11,
   "id": "38b3c1f2-0323-4654-8680-3b85b4f45468",
   "metadata": {
    "tags": []
   },
   "outputs": [],
   "source": [
    "a = b = c= 0"
   ]
  },
  {
   "cell_type": "markdown",
   "id": "e58914bb-18af-4f38-a613-6bbaf994de92",
   "metadata": {
    "jp-MarkdownHeadingCollapsed": true,
    "tags": []
   },
   "source": [
    "***\n",
    "## **Input**"
   ]
  },
  {
   "cell_type": "code",
   "execution_count": 13,
   "id": "8bab45fd-f324-43e6-9671-6d54a9bab507",
   "metadata": {
    "tags": []
   },
   "outputs": [
    {
     "name": "stdin",
     "output_type": "stream",
     "text": [
      " 1\n"
     ]
    }
   ],
   "source": [
    "inp = input()"
   ]
  },
  {
   "cell_type": "code",
   "execution_count": 12,
   "id": "2f4a937d-b4ff-494c-afd0-80e2661bf769",
   "metadata": {
    "tags": []
   },
   "outputs": [
    {
     "name": "stdin",
     "output_type": "stream",
     "text": [
      "Enter the String s1\n"
     ]
    }
   ],
   "source": [
    "inp1 = input(\"Enter the String\")"
   ]
  },
  {
   "cell_type": "code",
   "execution_count": 14,
   "id": "7ad5c1d0-1d97-4701-8e77-1df84dfd07f7",
   "metadata": {
    "tags": []
   },
   "outputs": [
    {
     "name": "stdin",
     "output_type": "stream",
     "text": [
      "Enter the number 2\n"
     ]
    }
   ],
   "source": [
    "inp2 = int(input(\"Enter the number\"))"
   ]
  },
  {
   "cell_type": "code",
   "execution_count": 16,
   "id": "70c8482f-0218-45a7-ade0-a531fbb72589",
   "metadata": {
    "tags": []
   },
   "outputs": [
    {
     "name": "stdin",
     "output_type": "stream",
     "text": [
      "Enter the decimal number 2.5\n"
     ]
    }
   ],
   "source": [
    "inp3 = float(input(\"Enter the decimal number\"))"
   ]
  },
  {
   "cell_type": "code",
   "execution_count": 17,
   "id": "3c782289-e9a0-4ec2-ae07-c2e6f71c3d5b",
   "metadata": {
    "tags": []
   },
   "outputs": [
    {
     "data": {
      "text/plain": [
       "'1s1'"
      ]
     },
     "execution_count": 17,
     "metadata": {},
     "output_type": "execute_result"
    }
   ],
   "source": [
    "inp + inp1 # concatnation"
   ]
  },
  {
   "cell_type": "code",
   "execution_count": 18,
   "id": "a22120c7-2388-437c-a5ac-41300c8e785f",
   "metadata": {
    "tags": []
   },
   "outputs": [
    {
     "data": {
      "text/plain": [
       "4.5"
      ]
     },
     "execution_count": 18,
     "metadata": {},
     "output_type": "execute_result"
    }
   ],
   "source": [
    "inp2 + inp3"
   ]
  },
  {
   "cell_type": "markdown",
   "id": "03b90032-d054-442b-b291-bb32960d398d",
   "metadata": {
    "jp-MarkdownHeadingCollapsed": true,
    "tags": []
   },
   "source": [
    "***\n",
    "## **Types Of Objects**\n",
    "1. Mutable Objects\n",
    "    - Value can be changed after it's created\n",
    "2. Immutable Objects\n",
    "    - Value cannot be changed after it's created\n",
    "\n",
    "### **Immutable Objects**\n",
    "1. int\n",
    "2. float\n",
    "3. string\n",
    "4. bool\n",
    "5. complex\n",
    "6. tuple\n",
    "\n",
    "***Note:** The **int, string, float** are **immutable** but still it can be changed because when you change the value of the object, old one get deleted and new object is created.* \n",
    "\n",
    "### **Mutable Objects**\n",
    "1. List\n",
    "2. Set\n",
    "3. Dictionary\n",
    "\n",
    "## **Basic In-built-Collections (Data-Structures)**\n",
    "1. List\n",
    "2. Tuple\n",
    "3. Set\n",
    "4. Dictionary"
   ]
  },
  {
   "cell_type": "markdown",
   "id": "7614a580-0739-43fa-8231-128dbfd5d088",
   "metadata": {
    "jp-MarkdownHeadingCollapsed": true,
    "tags": []
   },
   "source": [
    "### **List (Mutable)**\n",
    "- **List creation syntax:** \n",
    "    - [  ]\n",
    "    - list() constructor method.\n",
    "- List can have multiple *\"**data_type**\"*.\n",
    "- List is **Ordered**.\n",
    "- List can have **duplicate values**.\n",
    "- **Changeable**"
   ]
  },
  {
   "cell_type": "markdown",
   "id": "b853f25c-e30c-40ed-815d-79a1f3b81cd3",
   "metadata": {
    "jp-MarkdownHeadingCollapsed": true,
    "tags": []
   },
   "source": [
    "#### **List Creation-1**"
   ]
  },
  {
   "cell_type": "code",
   "execution_count": 103,
   "id": "ae5a0c98-2576-4caa-b8f6-17ed4e8ba65a",
   "metadata": {
    "tags": []
   },
   "outputs": [
    {
     "data": {
      "text/plain": [
       "[1, 2, 3, 4]"
      ]
     },
     "execution_count": 103,
     "metadata": {},
     "output_type": "execute_result"
    }
   ],
   "source": [
    "#List Creation-1\n",
    "list1 = [1,2,3,4]\n",
    "list1"
   ]
  },
  {
   "cell_type": "code",
   "execution_count": 138,
   "id": "b6a95595-52f3-487c-9f14-060092f4b59c",
   "metadata": {
    "tags": []
   },
   "outputs": [
    {
     "data": {
      "text/plain": [
       "[1, 'hari', 3.5, True]"
      ]
     },
     "execution_count": 138,
     "metadata": {},
     "output_type": "execute_result"
    }
   ],
   "source": [
    "# List Creation-2 (constructor method)\n",
    "list2 = list((1,\"hari\",3.5,True)) # Multiple Data type\n",
    "list2"
   ]
  },
  {
   "cell_type": "code",
   "execution_count": 105,
   "id": "a52afff8-5453-41c4-81c0-fb487bfe73ec",
   "metadata": {
    "tags": []
   },
   "outputs": [
    {
     "data": {
      "text/plain": [
       "list"
      ]
     },
     "execution_count": 105,
     "metadata": {},
     "output_type": "execute_result"
    }
   ],
   "source": [
    "type(list1)"
   ]
  },
  {
   "cell_type": "code",
   "execution_count": 106,
   "id": "0c71b262-ce06-48e3-87d2-7c6dfeda5eeb",
   "metadata": {
    "tags": []
   },
   "outputs": [
    {
     "data": {
      "text/plain": [
       "4"
      ]
     },
     "execution_count": 106,
     "metadata": {},
     "output_type": "execute_result"
    }
   ],
   "source": [
    "len(list1)"
   ]
  },
  {
   "cell_type": "markdown",
   "id": "579502f9-30ad-42a4-be42-c8c45f76e156",
   "metadata": {
    "jp-MarkdownHeadingCollapsed": true,
    "tags": []
   },
   "source": [
    "#### **In-Built Functions For List**"
   ]
  },
  {
   "cell_type": "code",
   "execution_count": 107,
   "id": "724af931-402e-4803-a44e-0a41c3a8a12a",
   "metadata": {
    "tags": []
   },
   "outputs": [
    {
     "name": "stdout",
     "output_type": "stream",
     "text": [
      "[1, 'hari', 3.5, True]\n"
     ]
    },
    {
     "data": {
      "text/plain": [
       "[1, 'hari', 3.5, True, 21]"
      ]
     },
     "execution_count": 107,
     "metadata": {},
     "output_type": "execute_result"
    }
   ],
   "source": [
    "print(list2)\n",
    "list2.append(21)\n",
    "list2"
   ]
  },
  {
   "cell_type": "code",
   "execution_count": 108,
   "id": "c8363b3e-ce3e-4d30-a8c8-f5773ac52d63",
   "metadata": {
    "tags": []
   },
   "outputs": [
    {
     "data": {
      "text/plain": [
       "[1, 23, 'hari', 3.5, True, 21]"
      ]
     },
     "execution_count": 108,
     "metadata": {},
     "output_type": "execute_result"
    }
   ],
   "source": [
    "list2.insert(1,23)\n",
    "list2"
   ]
  },
  {
   "cell_type": "code",
   "execution_count": 109,
   "id": "47137998-51d5-4db4-8875-33b5b1ef00e1",
   "metadata": {
    "tags": []
   },
   "outputs": [
    {
     "data": {
      "text/plain": [
       "'hari'"
      ]
     },
     "execution_count": 109,
     "metadata": {},
     "output_type": "execute_result"
    }
   ],
   "source": [
    "list2[2]"
   ]
  },
  {
   "cell_type": "code",
   "execution_count": 110,
   "id": "88a310e9-8515-4a9f-9eed-48727e2a2762",
   "metadata": {
    "tags": []
   },
   "outputs": [
    {
     "data": {
      "text/plain": [
       "[1, 'hari', 3.5, True, 21]"
      ]
     },
     "execution_count": 110,
     "metadata": {},
     "output_type": "execute_result"
    }
   ],
   "source": [
    "list2.remove(23)\n",
    "list2"
   ]
  },
  {
   "cell_type": "code",
   "execution_count": 111,
   "id": "fe298d1f-24c8-46b9-8b4c-f7f77373eed6",
   "metadata": {
    "tags": []
   },
   "outputs": [
    {
     "data": {
      "text/plain": [
       "3.5"
      ]
     },
     "execution_count": 111,
     "metadata": {},
     "output_type": "execute_result"
    }
   ],
   "source": [
    "list2.pop(2)"
   ]
  },
  {
   "cell_type": "code",
   "execution_count": 112,
   "id": "120c9e80-4309-4b60-b2ec-64a292472155",
   "metadata": {
    "tags": []
   },
   "outputs": [
    {
     "data": {
      "text/plain": [
       "21"
      ]
     },
     "execution_count": 112,
     "metadata": {},
     "output_type": "execute_result"
    }
   ],
   "source": [
    "list2.pop()"
   ]
  },
  {
   "cell_type": "code",
   "execution_count": 113,
   "id": "4489e1a8-d7aa-4c4a-aef7-bcfd6bb95dfd",
   "metadata": {
    "tags": []
   },
   "outputs": [],
   "source": [
    "list1.clear() # delete all the elements from the list"
   ]
  },
  {
   "cell_type": "code",
   "execution_count": 114,
   "id": "5cda6b57-eced-43d8-9972-8510b14106ce",
   "metadata": {
    "tags": []
   },
   "outputs": [
    {
     "name": "stdout",
     "output_type": "stream",
     "text": [
      "[]\n"
     ]
    }
   ],
   "source": [
    "print(list1)\n",
    "del list1 ## To delete a entire list"
   ]
  },
  {
   "cell_type": "code",
   "execution_count": 115,
   "id": "d9b7809c-1bd7-4358-86a9-3203d57c6f3e",
   "metadata": {
    "tags": []
   },
   "outputs": [
    {
     "name": "stdout",
     "output_type": "stream",
     "text": [
      "[1, 'hari', True]\n",
      "[1, 'hari']\n"
     ]
    }
   ],
   "source": [
    "print(list2)\n",
    "del list2[2] #to delete element in a list\n",
    "print(list2)"
   ]
  },
  {
   "cell_type": "code",
   "execution_count": 116,
   "id": "2026aebd-fba0-426b-9ff3-5dadd9b97a8a",
   "metadata": {
    "tags": []
   },
   "outputs": [
    {
     "name": "stdout",
     "output_type": "stream",
     "text": [
      "[2, 34, 44, 1, 'hari']\n"
     ]
    },
    {
     "data": {
      "text/plain": [
       "[2, 34, 44, 2, 34, 44, 1, 'hari']"
      ]
     },
     "execution_count": 116,
     "metadata": {},
     "output_type": "execute_result"
    }
   ],
   "source": [
    "list3 = [2,34,44]\n",
    "list4 = list3 + list2 #Concatnation\n",
    "print(list4)\n",
    "# OR\n",
    "list3.extend(list4) #concatnation way -2 \n",
    "list3"
   ]
  },
  {
   "cell_type": "code",
   "execution_count": 91,
   "id": "8ee94e87-f532-4253-8060-51bc3dc29696",
   "metadata": {
    "tags": []
   },
   "outputs": [
    {
     "data": {
      "text/plain": [
       "True"
      ]
     },
     "execution_count": 91,
     "metadata": {},
     "output_type": "execute_result"
    }
   ],
   "source": [
    "2 in list3 # Search in a list"
   ]
  },
  {
   "cell_type": "code",
   "execution_count": 84,
   "id": "7aeac18d-7437-4778-af4e-daf6483c9b7f",
   "metadata": {
    "tags": []
   },
   "outputs": [
    {
     "name": "stdout",
     "output_type": "stream",
     "text": [
      "[2, 34, 44]\n"
     ]
    },
    {
     "data": {
      "text/plain": [
       "[2, 1, 2]"
      ]
     },
     "execution_count": 84,
     "metadata": {},
     "output_type": "execute_result"
    }
   ],
   "source": [
    "print(list3)\n",
    "list3[1:3] = [1,2] # changing range of elements\n",
    "list3"
   ]
  },
  {
   "cell_type": "code",
   "execution_count": 81,
   "id": "6d8ddfdd-bdb2-426e-8bfe-03fb595554a1",
   "metadata": {
    "tags": []
   },
   "outputs": [
    {
     "data": {
      "text/plain": [
       "[44, 1, 'hari', True, 21]"
      ]
     },
     "execution_count": 81,
     "metadata": {},
     "output_type": "execute_result"
    }
   ],
   "source": [
    "list4[2:] # List support Slicing"
   ]
  },
  {
   "cell_type": "code",
   "execution_count": 82,
   "id": "e4a9c83b-bc90-4faa-8c4f-0ce0a2d48e0f",
   "metadata": {
    "tags": []
   },
   "outputs": [
    {
     "data": {
      "text/plain": [
       "[0,\n",
       " 2,\n",
       " 4,\n",
       " 6,\n",
       " 8,\n",
       " 10,\n",
       " 12,\n",
       " 14,\n",
       " 16,\n",
       " 18,\n",
       " 20,\n",
       " 22,\n",
       " 24,\n",
       " 26,\n",
       " 28,\n",
       " 30,\n",
       " 32,\n",
       " 34,\n",
       " 36,\n",
       " 38,\n",
       " 40,\n",
       " 42,\n",
       " 44,\n",
       " 46,\n",
       " 48,\n",
       " 50,\n",
       " 52,\n",
       " 54,\n",
       " 56,\n",
       " 58,\n",
       " 60,\n",
       " 62,\n",
       " 64,\n",
       " 66,\n",
       " 68,\n",
       " 70,\n",
       " 72,\n",
       " 74,\n",
       " 76,\n",
       " 78,\n",
       " 80,\n",
       " 82,\n",
       " 84,\n",
       " 86,\n",
       " 88,\n",
       " 90,\n",
       " 92,\n",
       " 94,\n",
       " 96,\n",
       " 98]"
      ]
     },
     "execution_count": 82,
     "metadata": {},
     "output_type": "execute_result"
    }
   ],
   "source": [
    "# newlist = [expression for item in iterable if condition == True]\n",
    "\n",
    "list5 = [x for x in range(100) if x%2 == 0] #List Comprehension\n",
    "list5"
   ]
  },
  {
   "cell_type": "markdown",
   "id": "f8208a88-312a-4f33-80fd-b4f82bff8f9e",
   "metadata": {
    "jp-MarkdownHeadingCollapsed": true,
    "tags": []
   },
   "source": [
    "####  **Defining 2-D List**"
   ]
  },
  {
   "cell_type": "code",
   "execution_count": 83,
   "id": "7832794a-e9ea-4108-8e46-2ce60ac160d8",
   "metadata": {
    "tags": []
   },
   "outputs": [
    {
     "data": {
      "text/plain": [
       "[[0, 0, 0, 0],\n",
       " [0, 0, 0, 0],\n",
       " [0, 0, 0, 0],\n",
       " [0, 0, 0, 0],\n",
       " [0, 0, 0, 0],\n",
       " [0, 0, 0, 0]]"
      ]
     },
     "execution_count": 83,
     "metadata": {},
     "output_type": "execute_result"
    }
   ],
   "source": [
    "\n",
    "column = 4\n",
    "row = 6\n",
    "matrix = [[0]*column for i in range(row)] #list comprehension\n",
    "matrix"
   ]
  },
  {
   "cell_type": "code",
   "execution_count": 133,
   "id": "455e1b75-d167-4800-97a7-2ad4caac967e",
   "metadata": {
    "tags": []
   },
   "outputs": [
    {
     "data": {
      "text/plain": [
       "[[0, 0, 0, 0],\n",
       " [0, 0, 2, 0],\n",
       " [0, 0, 0, 0],\n",
       " [0, 0, 0, 0],\n",
       " [0, 0, 0, 0],\n",
       " [0, 0, 0, 0]]"
      ]
     },
     "execution_count": 133,
     "metadata": {},
     "output_type": "execute_result"
    }
   ],
   "source": [
    "matrix[1][2] = 2\n",
    "matrix"
   ]
  },
  {
   "cell_type": "markdown",
   "id": "6e9dd9fb-acdb-4071-955a-f72f88f6e125",
   "metadata": {
    "tags": []
   },
   "source": [
    "#### **Copy a list**"
   ]
  },
  {
   "cell_type": "code",
   "execution_count": 136,
   "id": "275cd3bb-fec1-46ea-9153-97a2e4dd939f",
   "metadata": {
    "tags": []
   },
   "outputs": [
    {
     "data": {
      "text/plain": [
       "[1, 2, 3]"
      ]
     },
     "execution_count": 136,
     "metadata": {},
     "output_type": "execute_result"
    }
   ],
   "source": [
    "\n",
    "list1 =[1,2,3]\n",
    "list2 = list1 # Wrong way because refernce is copied in this.\n",
    "\n",
    "list2 = list1.copy()\n",
    "list2"
   ]
  },
  {
   "cell_type": "markdown",
   "id": "fc8ea491-d926-4082-8b90-f119af18520e",
   "metadata": {
    "jp-MarkdownHeadingCollapsed": true,
    "tags": []
   },
   "source": [
    "### **Tuple (Immutable)**\n",
    "- **Tuple creation syntax:** \n",
    "    - (  )\n",
    "    - tuple() constructor method.\n",
    "- List can have multiple *\"**data_type**\"*.\n",
    "- List is **Ordered**.\n",
    "- List can have **duplicate values**.\n",
    "- **Not Changeable**"
   ]
  },
  {
   "cell_type": "code",
   "execution_count": 122,
   "id": "e945d93f-7fa4-4c3c-9d23-59389c0412f5",
   "metadata": {
    "tags": []
   },
   "outputs": [
    {
     "name": "stdout",
     "output_type": "stream",
     "text": [
      "<class 'tuple'>\n"
     ]
    },
    {
     "data": {
      "text/plain": [
       "(1, 2, 3)"
      ]
     },
     "execution_count": 122,
     "metadata": {},
     "output_type": "execute_result"
    }
   ],
   "source": [
    "tuple1 = (1,2,3)\n",
    "print(type(tuple1))\n",
    "tuple1"
   ]
  },
  {
   "cell_type": "code",
   "execution_count": 121,
   "id": "37274d3b-a702-49ea-a63d-22d662accd63",
   "metadata": {
    "tags": []
   },
   "outputs": [
    {
     "name": "stdout",
     "output_type": "stream",
     "text": [
      "<class 'tuple'>\n"
     ]
    },
    {
     "data": {
      "text/plain": [
       "(1, 'Hari', 3.3)"
      ]
     },
     "execution_count": 121,
     "metadata": {},
     "output_type": "execute_result"
    }
   ],
   "source": [
    "#tuple creation (constructor method)\n",
    "tuple2 = tuple((1,\"Hari\",3.3)) # Multiple Data-types \n",
    "print(type(tuple2))\n",
    "tuple2"
   ]
  },
  {
   "cell_type": "code",
   "execution_count": 120,
   "id": "a32d1ee8-d8d3-4182-91b0-481e6996e491",
   "metadata": {
    "tags": []
   },
   "outputs": [
    {
     "name": "stdout",
     "output_type": "stream",
     "text": [
      "<class 'int'>\n",
      "<class 'tuple'>\n"
     ]
    }
   ],
   "source": [
    "# tuple with one element\n",
    "tuple3 = (1)\n",
    "print(type(tuple3))\n",
    "tuple3 = (1,)\n",
    "print(type(tuple3))"
   ]
  },
  {
   "cell_type": "code",
   "execution_count": 125,
   "id": "30d2cfa4-78b5-47b4-9925-32e9dc4e54f3",
   "metadata": {
    "tags": []
   },
   "outputs": [
    {
     "data": {
      "text/plain": [
       "(1, 1)"
      ]
     },
     "execution_count": 125,
     "metadata": {},
     "output_type": "execute_result"
    }
   ],
   "source": [
    "# Allow Duplicates\n",
    "tuple3 = tuple((1,1)) \n",
    "tuple3"
   ]
  },
  {
   "cell_type": "code",
   "execution_count": 127,
   "id": "69bdb8b8-2c69-4ff1-ac74-fad8c12b15da",
   "metadata": {
    "tags": []
   },
   "outputs": [
    {
     "name": "stdout",
     "output_type": "stream",
     "text": [
      "[1, 2, 3, 4, 5]\n",
      "(1, 2, 3, 4, 5)\n"
     ]
    }
   ],
   "source": [
    "# List to Tuple\n",
    "\n",
    "list1 = list((1,2,3,4,5))\n",
    "print(list1)\n",
    "tuple4 = tuple(list1)\n",
    "print(tuple4)"
   ]
  },
  {
   "cell_type": "code",
   "execution_count": 128,
   "id": "ef18e324-c20a-44d2-ae38-a23d32256501",
   "metadata": {},
   "outputs": [],
   "source": [
    "# Cannot Add/Remove Elements From Tuple\n",
    "\n",
    "#But you can add or remove element by converting it to a list\n",
    "# After modification you can change back to tuple"
   ]
  },
  {
   "cell_type": "code",
   "execution_count": 129,
   "id": "22ec6166-b612-4248-85c8-58c1d380c2ba",
   "metadata": {
    "tags": []
   },
   "outputs": [
    {
     "data": {
      "text/plain": [
       "5"
      ]
     },
     "execution_count": 129,
     "metadata": {},
     "output_type": "execute_result"
    }
   ],
   "source": [
    "len(tuple4)"
   ]
  },
  {
   "cell_type": "code",
   "execution_count": 134,
   "id": "c90ffbb4-c9f1-4e86-8389-6a515fe356c2",
   "metadata": {
    "tags": []
   },
   "outputs": [
    {
     "data": {
      "text/plain": [
       "2"
      ]
     },
     "execution_count": 134,
     "metadata": {},
     "output_type": "execute_result"
    }
   ],
   "source": [
    "tuple4[1] #tuple also support slicing"
   ]
  },
  {
   "cell_type": "markdown",
   "id": "83ce1610-5e23-4bbf-b430-891f3d32567c",
   "metadata": {},
   "source": [
    "#### **Unpacking Tuple**\n",
    "- Note: The number of variables must match the number of values in the tuple, if not, you must use an asterisk to collect the remaining values as a list.\n",
    "\n"
   ]
  },
  {
   "cell_type": "code",
   "execution_count": 133,
   "id": "61567949-f30f-4280-8f10-c07c809b8ef5",
   "metadata": {
    "tags": []
   },
   "outputs": [
    {
     "name": "stdout",
     "output_type": "stream",
     "text": [
      "1\n",
      "2\n",
      "3\n"
     ]
    }
   ],
   "source": [
    "(a,b,c,d,e) = tuple4\n",
    "print(a)\n",
    "print(b)\n",
    "print(c)"
   ]
  },
  {
   "cell_type": "code",
   "execution_count": 137,
   "id": "50d0dcd2-8ece-427a-8762-20a154bd84da",
   "metadata": {
    "tags": []
   },
   "outputs": [
    {
     "data": {
      "text/plain": [
       "(1, 2, 3, 1, 'Hari', 3.3)"
      ]
     },
     "execution_count": 137,
     "metadata": {},
     "output_type": "execute_result"
    }
   ],
   "source": [
    "# join tuples\n",
    "tuple5 = tuple1 + tuple2\n",
    "tuple5"
   ]
  },
  {
   "cell_type": "markdown",
   "id": "beb9cbc4-3ed6-4aff-9bc7-352021f69b60",
   "metadata": {
    "jp-MarkdownHeadingCollapsed": true,
    "tags": []
   },
   "source": [
    "### **Set (Mutable)**\n",
    "- **Set creation syntax:** \n",
    "    - {  }\n",
    "    - set() Constructor method.\n",
    "- Set can have multiple *\"**data_type**\"*.\n",
    "- Set is **Not Ordered**\n",
    "    - Set doesn't support **indexing**.\n",
    "- Set **doesn't allow duplicate values.**\n",
    "- Once a set is created, you cannot change its items, but you can remove items and add new items."
   ]
  },
  {
   "cell_type": "code",
   "execution_count": 145,
   "id": "4ee13fe3-680f-4b60-8e9e-816962631ea7",
   "metadata": {},
   "outputs": [
    {
     "name": "stdout",
     "output_type": "stream",
     "text": [
      "{1, 2, 3, 4}\n",
      "<class 'set'>\n",
      "{'hari', 3, 5, 6}\n",
      "<class 'set'>\n"
     ]
    }
   ],
   "source": [
    "set1 = {1,2,3,4} #Set creation\n",
    "set2 = set((3,\"hari\",5,6)) # set creation using constructor\n",
    "\n",
    "print(set1)\n",
    "print(type(set1))\n",
    "\n",
    "print(set2)\n",
    "print(type(set2))"
   ]
  },
  {
   "cell_type": "code",
   "execution_count": 146,
   "id": "951a6b25-4802-4dfd-bb90-aa797979f18a",
   "metadata": {
    "tags": []
   },
   "outputs": [
    {
     "data": {
      "text/plain": [
       "4"
      ]
     },
     "execution_count": 146,
     "metadata": {},
     "output_type": "execute_result"
    }
   ],
   "source": [
    "len(set1)"
   ]
  },
  {
   "cell_type": "markdown",
   "id": "8f53076c-d35b-4b89-9d69-5f993e1d1b95",
   "metadata": {
    "jp-MarkdownHeadingCollapsed": true,
    "tags": []
   },
   "source": [
    "#### **Conversion to Set**"
   ]
  },
  {
   "cell_type": "code",
   "execution_count": 156,
   "id": "8e53c474-b30d-4886-ae2a-6d0ff92f2799",
   "metadata": {
    "tags": []
   },
   "outputs": [
    {
     "data": {
      "text/plain": [
       "{11, 34, 5, 'h'}"
      ]
     },
     "execution_count": 156,
     "metadata": {},
     "output_type": "execute_result"
    }
   ],
   "source": [
    "list_1 = [11,34,5,\"h\",11]\n",
    "set3 = set(list_1)\n",
    "set3\n",
    "# Duplicate values are removed (In List there are two '11' but in set there is only one 11)"
   ]
  },
  {
   "cell_type": "markdown",
   "id": "6d9a540c-0679-4077-9a79-8e68565cf1c4",
   "metadata": {
    "jp-MarkdownHeadingCollapsed": true,
    "tags": []
   },
   "source": [
    "#### **Printing Elements of Set**"
   ]
  },
  {
   "cell_type": "code",
   "execution_count": 157,
   "id": "84474024-4113-468f-a071-18c7fea64df2",
   "metadata": {
    "tags": []
   },
   "outputs": [
    {
     "name": "stdout",
     "output_type": "stream",
     "text": [
      "h\n",
      "34\n",
      "11\n",
      "5\n"
     ]
    }
   ],
   "source": [
    "for i in set3:\n",
    "    print(i)"
   ]
  },
  {
   "cell_type": "code",
   "execution_count": 158,
   "id": "082ed0fd-75da-414c-a58e-90745ecbe48b",
   "metadata": {
    "tags": []
   },
   "outputs": [
    {
     "data": {
      "text/plain": [
       "True"
      ]
     },
     "execution_count": 158,
     "metadata": {},
     "output_type": "execute_result"
    }
   ],
   "source": [
    "'h' in set3"
   ]
  },
  {
   "cell_type": "markdown",
   "id": "e28196c8-1a52-4445-b5d9-48940d02abc2",
   "metadata": {
    "jp-MarkdownHeadingCollapsed": true,
    "tags": []
   },
   "source": [
    "#### **Add/Delete Elements from the set** "
   ]
  },
  {
   "cell_type": "code",
   "execution_count": 182,
   "id": "dc49db33-db78-4cd3-aca1-2fbb52e1135b",
   "metadata": {
    "tags": []
   },
   "outputs": [
    {
     "name": "stdout",
     "output_type": "stream",
     "text": [
      "{1, 3}\n",
      "{1, 3, '4'}\n"
     ]
    }
   ],
   "source": [
    "set4 = {1,3,3}\n",
    "print(set4)\n",
    "set4.add('4')\n",
    "print(set4)"
   ]
  },
  {
   "cell_type": "code",
   "execution_count": 183,
   "id": "5aabefb1-769e-46eb-90fd-f06532fa4c59",
   "metadata": {
    "tags": []
   },
   "outputs": [
    {
     "data": {
      "text/plain": [
       "{1, 11, 3, 34, '4', 5, 'h'}"
      ]
     },
     "execution_count": 183,
     "metadata": {},
     "output_type": "execute_result"
    }
   ],
   "source": [
    "set4.update(set3)\n",
    "#OR\n",
    "set4.union(set3)\n",
    "set4"
   ]
  },
  {
   "cell_type": "code",
   "execution_count": 167,
   "id": "62294d12-4733-4245-94eb-6f98479ad2f0",
   "metadata": {
    "tags": []
   },
   "outputs": [
    {
     "data": {
      "text/plain": [
       "{0, 1, 11, 2, 3, 34, 4, '4', 5, 6, 7, 8, 9, 'h'}"
      ]
     },
     "execution_count": 167,
     "metadata": {},
     "output_type": "execute_result"
    }
   ],
   "source": [
    "list_2 = [i for i in range(10)]\n",
    "set4.update(list_2)\n",
    "set4"
   ]
  },
  {
   "cell_type": "code",
   "execution_count": 186,
   "id": "e72631b6-98b4-4e4f-b890-ccd9faa68c7e",
   "metadata": {
    "tags": []
   },
   "outputs": [
    {
     "data": {
      "text/plain": [
       "{2, 3}"
      ]
     },
     "execution_count": 186,
     "metadata": {},
     "output_type": "execute_result"
    }
   ],
   "source": [
    "#Intersection\n",
    "SetA = {1,2,3}\n",
    "SetB = {2,3,4}\n",
    "\n",
    "SetA.intersection_update(SetB)\n",
    "SetA "
   ]
  },
  {
   "cell_type": "code",
   "execution_count": 190,
   "id": "2803c2a0-0c5c-4061-a925-91d71bbae8c6",
   "metadata": {
    "tags": []
   },
   "outputs": [
    {
     "data": {
      "text/plain": [
       "{2, 3}"
      ]
     },
     "execution_count": 190,
     "metadata": {},
     "output_type": "execute_result"
    }
   ],
   "source": [
    "#Intersection\n",
    "SetA = {1,2,3}\n",
    "SetB = {2,3,4}\n",
    "\n",
    "SetC = SetA.intersection(SetB)\n",
    "SetC"
   ]
  },
  {
   "cell_type": "code",
   "execution_count": 191,
   "id": "f7f816be-cb3d-4844-8d7d-1ed56356a42e",
   "metadata": {
    "tags": []
   },
   "outputs": [
    {
     "data": {
      "text/plain": [
       "{1, 4}"
      ]
     },
     "execution_count": 191,
     "metadata": {},
     "output_type": "execute_result"
    }
   ],
   "source": [
    "#Difference\n",
    "SetA = {1,2,3}\n",
    "SetB = {2,3,4}\n",
    "\n",
    "SetA.symmetric_difference_update(SetB)\n",
    "SetA"
   ]
  },
  {
   "cell_type": "code",
   "execution_count": 189,
   "id": "27461ef9-167d-4f26-bd5f-0ba2d260f4dc",
   "metadata": {
    "tags": []
   },
   "outputs": [
    {
     "data": {
      "text/plain": [
       "{1, 4}"
      ]
     },
     "execution_count": 189,
     "metadata": {},
     "output_type": "execute_result"
    }
   ],
   "source": [
    "#Difference\n",
    "SetA = {1,2,3}\n",
    "SetB = {2,3,4}\n",
    "\n",
    "SetC = SetA.symmetric_difference(SetB)\n",
    "SetC"
   ]
  },
  {
   "cell_type": "code",
   "execution_count": 170,
   "id": "6d593fca-bfdb-496e-a6f9-fe82cbaef782",
   "metadata": {
    "tags": []
   },
   "outputs": [
    {
     "name": "stdout",
     "output_type": "stream",
     "text": [
      "{0, 1, 2, 3, 4, 5, 6, 7, 8, 9}\n",
      "{0, 2, 3, 4, 5, 6, 7, 8, 9}\n"
     ]
    },
    {
     "ename": "KeyError",
     "evalue": "1",
     "output_type": "error",
     "traceback": [
      "\u001b[0;31m---------------------------------------------------------------------------\u001b[0m",
      "\u001b[0;31mKeyError\u001b[0m                                  Traceback (most recent call last)",
      "Cell \u001b[0;32mIn[170], line 5\u001b[0m\n\u001b[1;32m      3\u001b[0m set5\u001b[38;5;241m.\u001b[39mremove(\u001b[38;5;241m1\u001b[39m)\n\u001b[1;32m      4\u001b[0m \u001b[38;5;28mprint\u001b[39m(set5)\n\u001b[0;32m----> 5\u001b[0m \u001b[43mset5\u001b[49m\u001b[38;5;241;43m.\u001b[39;49m\u001b[43mremove\u001b[49m\u001b[43m(\u001b[49m\u001b[38;5;241;43m1\u001b[39;49m\u001b[43m)\u001b[49m \n\u001b[1;32m      6\u001b[0m \u001b[38;5;124;03m\"\"\"\u001b[39;00m\n\u001b[1;32m      7\u001b[0m \u001b[38;5;124;03mNote: If the item to remove does not exist, \u001b[39;00m\n\u001b[1;32m      8\u001b[0m \u001b[38;5;124;03mremove() will raise an error.\u001b[39;00m\n\u001b[1;32m      9\u001b[0m \u001b[38;5;124;03m\"\"\"\u001b[39;00m\n",
      "\u001b[0;31mKeyError\u001b[0m: 1"
     ]
    }
   ],
   "source": [
    "set5 = set([i for i in range(10)])\n",
    "print(set5)\n",
    "set5.remove(1)\n",
    "print(set5)\n",
    "set5.remove(1) \n",
    "\"\"\"\n",
    "Note: If the item to remove does not exist, \n",
    "remove() will raise an error.\n",
    "\"\"\""
   ]
  },
  {
   "cell_type": "code",
   "execution_count": 172,
   "id": "1159f363-21df-4c90-a237-4e175e246aa1",
   "metadata": {
    "tags": []
   },
   "outputs": [
    {
     "name": "stdout",
     "output_type": "stream",
     "text": [
      "{0, 1, 2, 3, 4, 5, 6, 7, 8, 9}\n",
      "{0, 2, 3, 4, 5, 6, 7, 8, 9}\n"
     ]
    }
   ],
   "source": [
    "set5 = set([i for i in range(10)])\n",
    "print(set5)\n",
    "set5.discard(1)\n",
    "print(set5)\n",
    "\"\"\"\n",
    "Note: If the item to remove does not exist,\n",
    "discard() will NOT raise an error.\n",
    "\"\"\"\n",
    "set5.discard(1) \n"
   ]
  },
  {
   "cell_type": "code",
   "execution_count": 177,
   "id": "2395c033-7ecb-4524-9470-98b8a9a765ce",
   "metadata": {
    "tags": []
   },
   "outputs": [
    {
     "name": "stdout",
     "output_type": "stream",
     "text": [
      "{0, 1, 2, 3, 4, 5, 6, 7, 8, 9}\n",
      "{1, 2, 3, 4, 5, 6, 7, 8, 9}\n"
     ]
    }
   ],
   "source": [
    "set5 = set([i for i in range(10)])\n",
    "print(set5)\n",
    "set5.pop()\n",
    "\"\"\"\n",
    "You can also use the pop() method to remove an item,\n",
    "but this method will remove a random item, \n",
    "so you cannot be sure what item that gets removed.\n",
    "\"\"\"\n",
    "print(set5)"
   ]
  },
  {
   "cell_type": "code",
   "execution_count": 178,
   "id": "77e8f2b2-a957-44b1-b991-8b367b9398d8",
   "metadata": {
    "tags": []
   },
   "outputs": [
    {
     "name": "stdout",
     "output_type": "stream",
     "text": [
      "{0, 1, 2, 3, 4, 5, 6, 7, 8, 9}\n",
      "set()\n"
     ]
    }
   ],
   "source": [
    "set5 = set([i for i in range(10)])\n",
    "print(set5)\n",
    "\n",
    "set5.clear()\n",
    "#The clear() method empties the set\n",
    "\n",
    "print(set5)"
   ]
  },
  {
   "cell_type": "code",
   "execution_count": 180,
   "id": "36bbd473-62c4-4492-92e2-db0e9a3dbeb0",
   "metadata": {
    "tags": []
   },
   "outputs": [
    {
     "ename": "NameError",
     "evalue": "name 'set5' is not defined",
     "output_type": "error",
     "traceback": [
      "\u001b[0;31m---------------------------------------------------------------------------\u001b[0m",
      "\u001b[0;31mNameError\u001b[0m                                 Traceback (most recent call last)",
      "Cell \u001b[0;32mIn[180], line 1\u001b[0m\n\u001b[0;32m----> 1\u001b[0m \u001b[38;5;28;01mdel\u001b[39;00m set5 \u001b[38;5;66;03m# The del keyword will delete the set completely\u001b[39;00m\n\u001b[1;32m      2\u001b[0m \u001b[38;5;28mprint\u001b[39m(set5)\n",
      "\u001b[0;31mNameError\u001b[0m: name 'set5' is not defined"
     ]
    }
   ],
   "source": [
    "del set5 # The del keyword will delete the set completely\n",
    "print(set5)"
   ]
  },
  {
   "cell_type": "markdown",
   "id": "71385695-ab11-4a83-a441-4a4c412f71a5",
   "metadata": {
    "tags": []
   },
   "source": [
    "### **Dictionary (Mutable)**\n",
    "- \"Key-Value Pair\"\n",
    "- **Dictionary creation syntax:** \n",
    "    - {\"key\":value}\n",
    "    - (key=value) Constructor method.\n",
    "- **Changeable**\n",
    "- Doesn't not allow **duplicates** in key\n",
    "- **Ordered** (Key:value)"
   ]
  },
  {
   "cell_type": "code",
   "execution_count": 305,
   "id": "f778e7b8-faf8-4588-9247-c43a534f9bc2",
   "metadata": {
    "tags": []
   },
   "outputs": [
    {
     "name": "stdout",
     "output_type": "stream",
     "text": [
      "{'Name': 'Hari', 'Roll_No': 19435, 'Course': 'CS'}\n",
      "<class 'dict'>\n"
     ]
    }
   ],
   "source": [
    "dict1 = {\n",
    "    \"Name\":\"Hari\",\n",
    "    \"Roll_No\":19435,\n",
    "    \"Course\":\"CS\"\n",
    "}\n",
    "print(dict1)\n",
    "print(type(dict1))"
   ]
  },
  {
   "cell_type": "code",
   "execution_count": 270,
   "id": "25b3cd4f-4b23-4ac1-89e7-4f0737aabd45",
   "metadata": {
    "tags": []
   },
   "outputs": [
    {
     "name": "stdout",
     "output_type": "stream",
     "text": [
      "{'Jan': 31, 'Feb': 28, 'Mar': 31, 'Apr': 30}\n",
      "<class 'dict'>\n"
     ]
    }
   ],
   "source": [
    "dict2 = dict(Jan=31,Feb=28,Mar=31,Apr=30) #constructor method\n",
    "print(dict2)\n",
    "print(type(dict2))"
   ]
  },
  {
   "cell_type": "markdown",
   "id": "ab07fe4c-0dd9-441f-a346-2e13f4295d86",
   "metadata": {},
   "source": [
    "#### **Indexing**"
   ]
  },
  {
   "cell_type": "code",
   "execution_count": 271,
   "id": "42c99323-ae96-4f34-bb30-3ba4ab83f4fa",
   "metadata": {
    "tags": []
   },
   "outputs": [
    {
     "name": "stdout",
     "output_type": "stream",
     "text": [
      "Hari\n",
      "19435\n",
      "CS\n"
     ]
    }
   ],
   "source": [
    "print(dict1[\"Name\"])\n",
    "print(dict1[\"Roll_No\"])\n",
    "print(dict1[\"Course\"])"
   ]
  },
  {
   "cell_type": "code",
   "execution_count": 272,
   "id": "570cba58-2775-4c7a-af87-ee852cb3d37a",
   "metadata": {
    "tags": []
   },
   "outputs": [
    {
     "data": {
      "text/plain": [
       "31"
      ]
     },
     "execution_count": 272,
     "metadata": {},
     "output_type": "execute_result"
    }
   ],
   "source": [
    "dict2.get(\"Jan\")"
   ]
  },
  {
   "cell_type": "markdown",
   "id": "7b1aa90c-1488-4bbc-80cf-05c8962969fa",
   "metadata": {
    "jp-MarkdownHeadingCollapsed": true,
    "tags": []
   },
   "source": [
    "#### **Duplicate Keys are \"Not Allowed\" But Duplicate Values are \"Allowed\"**"
   ]
  },
  {
   "cell_type": "code",
   "execution_count": 273,
   "id": "5dcec28f-39b3-46de-8499-079b3536e540",
   "metadata": {
    "tags": []
   },
   "outputs": [
    {
     "name": "stdout",
     "output_type": "stream",
     "text": [
      "{'key1': 1, 'key2': 1}\n"
     ]
    }
   ],
   "source": [
    "dict3 = {\"key1\":1,\"key2\":1}\n",
    "print(dict3)"
   ]
  },
  {
   "cell_type": "code",
   "execution_count": 274,
   "id": "f09369ad-2dcf-4736-b1f4-e8acf42de926",
   "metadata": {
    "tags": []
   },
   "outputs": [
    {
     "name": "stdout",
     "output_type": "stream",
     "text": [
      "{'key1': 1}\n"
     ]
    }
   ],
   "source": [
    "dict4 = {\"key1\":1,\"key1\":1}\n",
    "print(dict4) #Duplicate values are removed"
   ]
  },
  {
   "cell_type": "code",
   "execution_count": 275,
   "id": "b2f48afc-043d-424a-8424-59db48ccb700",
   "metadata": {
    "tags": []
   },
   "outputs": [
    {
     "name": "stdout",
     "output_type": "stream",
     "text": [
      "{'key1': 2}\n"
     ]
    }
   ],
   "source": [
    "dict4 = {\"key1\":1,\"key1\":2}\n",
    "print(dict4) #The Last initialzation overwritten previous intialization"
   ]
  },
  {
   "cell_type": "markdown",
   "id": "77aa4967-af0d-4826-b846-9048d9e7c5af",
   "metadata": {
    "jp-MarkdownHeadingCollapsed": true,
    "tags": []
   },
   "source": [
    "#### **Inbuilt Functions**"
   ]
  },
  {
   "cell_type": "code",
   "execution_count": 276,
   "id": "0a87dbda-0dd1-40d0-963a-61b4dae39a6c",
   "metadata": {
    "tags": []
   },
   "outputs": [
    {
     "data": {
      "text/plain": [
       "dict_keys(['Name', 'Roll_No', 'Course'])"
      ]
     },
     "execution_count": 276,
     "metadata": {},
     "output_type": "execute_result"
    }
   ],
   "source": [
    "dict1.keys()"
   ]
  },
  {
   "cell_type": "code",
   "execution_count": 277,
   "id": "8cb50f72-3972-4ff6-87b4-aa0cb254ccb9",
   "metadata": {
    "tags": []
   },
   "outputs": [
    {
     "data": {
      "text/plain": [
       "dict_values(['Hari', 19435, 'CS'])"
      ]
     },
     "execution_count": 277,
     "metadata": {},
     "output_type": "execute_result"
    }
   ],
   "source": [
    "dict1.values()"
   ]
  },
  {
   "cell_type": "code",
   "execution_count": 278,
   "id": "710952dc-0a13-4e98-9fc2-000842b5999d",
   "metadata": {
    "tags": []
   },
   "outputs": [
    {
     "data": {
      "text/plain": [
       "dict_items([('Name', 'Hari'), ('Roll_No', 19435), ('Course', 'CS')])"
      ]
     },
     "execution_count": 278,
     "metadata": {},
     "output_type": "execute_result"
    }
   ],
   "source": [
    "dict1.items()"
   ]
  },
  {
   "cell_type": "code",
   "execution_count": 306,
   "id": "24434faa-a912-4a6a-b711-3dfc242e797d",
   "metadata": {
    "tags": []
   },
   "outputs": [],
   "source": [
    "dict3 = dict1.copy()"
   ]
  },
  {
   "cell_type": "code",
   "execution_count": 279,
   "id": "79bbf606-2ed4-48cf-926d-4830cab30469",
   "metadata": {
    "tags": []
   },
   "outputs": [
    {
     "data": {
      "text/plain": [
       "True"
      ]
     },
     "execution_count": 279,
     "metadata": {},
     "output_type": "execute_result"
    }
   ],
   "source": [
    "\"Name\" in dict1"
   ]
  },
  {
   "cell_type": "code",
   "execution_count": 280,
   "id": "1c3facb0-4dfd-4ead-854b-14264dd9868f",
   "metadata": {
    "tags": []
   },
   "outputs": [
    {
     "data": {
      "text/plain": [
       "{'Name': 'Sri Hari', 'Roll_No': 19435, 'Course': 'CS'}"
      ]
     },
     "execution_count": 280,
     "metadata": {},
     "output_type": "execute_result"
    }
   ],
   "source": [
    "dict1[\"Name\"] = \"Sri Hari\" #Changing value of existing Key\n",
    "dict1"
   ]
  },
  {
   "cell_type": "code",
   "execution_count": 281,
   "id": "72591c80-e381-423b-9ce8-cb40497d4519",
   "metadata": {
    "tags": []
   },
   "outputs": [
    {
     "data": {
      "text/plain": [
       "{'Name': 'Sri Hari', 'Roll_No': 19435, 'Course': 'EEE'}"
      ]
     },
     "execution_count": 281,
     "metadata": {},
     "output_type": "execute_result"
    }
   ],
   "source": [
    "dict1.update({\"Course\":\"EEE\"}) #Changing value of existing Key\n",
    "dict1"
   ]
  },
  {
   "cell_type": "code",
   "execution_count": 282,
   "id": "37f8fb14-7e43-4a78-8698-4bd376382b1b",
   "metadata": {
    "tags": []
   },
   "outputs": [
    {
     "data": {
      "text/plain": [
       "{'Name': 'Sri Hari', 'Roll_No': 19435, 'Course': 'EEE', 'year': 2019}"
      ]
     },
     "execution_count": 282,
     "metadata": {},
     "output_type": "execute_result"
    }
   ],
   "source": [
    "dict1[\"year\"] = 2019 #Adding new key-value pairChanging value of existing Key\n",
    "dict1"
   ]
  },
  {
   "cell_type": "code",
   "execution_count": 283,
   "id": "64d54372-bee9-421e-8f3f-e552726c96cb",
   "metadata": {
    "tags": []
   },
   "outputs": [
    {
     "data": {
      "text/plain": [
       "{'Name': 'Sri Hari',\n",
       " 'Roll_No': 19435,\n",
       " 'Course': 'EEE',\n",
       " 'year': 2019,\n",
       " 'Sex': 'Male'}"
      ]
     },
     "execution_count": 283,
     "metadata": {},
     "output_type": "execute_result"
    }
   ],
   "source": [
    "dict1.update({\"Sex\":\"Male\"}) #Adding new key-value pairChanging value of existing Key\n",
    "\n",
    "dict1"
   ]
  },
  {
   "cell_type": "code",
   "execution_count": 284,
   "id": "7f6e84cf-0382-4566-bc6f-b65014952d9c",
   "metadata": {
    "tags": []
   },
   "outputs": [
    {
     "data": {
      "text/plain": [
       "{'Name': 'Sri Hari', 'Roll_No': 19435, 'Course': 'EEE', 'year': 2019}"
      ]
     },
     "execution_count": 284,
     "metadata": {},
     "output_type": "execute_result"
    }
   ],
   "source": [
    "dict1.pop(\"Sex\") #Deleting Key-Value pair\n",
    "dict1"
   ]
  },
  {
   "cell_type": "code",
   "execution_count": 285,
   "id": "61245356-eb80-42fd-9ced-8bf13787cfb8",
   "metadata": {
    "tags": []
   },
   "outputs": [
    {
     "data": {
      "text/plain": [
       "{'Name': 'Sri Hari', 'Roll_No': 19435, 'Course': 'EEE'}"
      ]
     },
     "execution_count": 285,
     "metadata": {},
     "output_type": "execute_result"
    }
   ],
   "source": [
    "dict1.popitem() # Removes the last inserted Key-Value pair\n",
    "dict1"
   ]
  },
  {
   "cell_type": "code",
   "execution_count": 286,
   "id": "65d63d26-93e8-4b71-aa1e-30c7354f99b3",
   "metadata": {
    "tags": []
   },
   "outputs": [
    {
     "data": {
      "text/plain": [
       "{'Name': 'Sri Hari', 'Roll_No': 19435}"
      ]
     },
     "execution_count": 286,
     "metadata": {},
     "output_type": "execute_result"
    }
   ],
   "source": [
    "del dict1[\"Course\"]\n",
    "dict1"
   ]
  },
  {
   "cell_type": "code",
   "execution_count": 292,
   "id": "b1aaa16c-6cd0-4d66-ab4c-8c77bf666c41",
   "metadata": {
    "tags": []
   },
   "outputs": [
    {
     "name": "stdout",
     "output_type": "stream",
     "text": [
      "{}\n"
     ]
    },
    {
     "ename": "NameError",
     "evalue": "name 'dict1' is not defined",
     "output_type": "error",
     "traceback": [
      "\u001b[0;31m---------------------------------------------------------------------------\u001b[0m",
      "\u001b[0;31mNameError\u001b[0m                                 Traceback (most recent call last)",
      "Cell \u001b[0;32mIn[292], line 4\u001b[0m\n\u001b[1;32m      2\u001b[0m \u001b[38;5;28mprint\u001b[39m(dict1)\n\u001b[1;32m      3\u001b[0m \u001b[38;5;28;01mdel\u001b[39;00m dict1\n\u001b[0;32m----> 4\u001b[0m \u001b[43mdict1\u001b[49m\n",
      "\u001b[0;31mNameError\u001b[0m: name 'dict1' is not defined"
     ]
    }
   ],
   "source": [
    "dict1.clear()\n",
    "print(dict1)\n",
    "del dict1\n",
    "dict1"
   ]
  },
  {
   "cell_type": "markdown",
   "id": "025cf3b5-0c81-42bb-81a0-07768816a9ea",
   "metadata": {},
   "source": [
    "#### **Looping**"
   ]
  },
  {
   "cell_type": "code",
   "execution_count": 295,
   "id": "921a2017-0c1c-4b6f-90c1-797ff5af988c",
   "metadata": {
    "tags": []
   },
   "outputs": [
    {
     "name": "stdout",
     "output_type": "stream",
     "text": [
      "Jan 31\n",
      "Feb 28\n",
      "Mar 31\n",
      "Apr 30\n"
     ]
    }
   ],
   "source": [
    "for key, value in dict2.items():\n",
    "  print(key, value)"
   ]
  },
  {
   "cell_type": "code",
   "execution_count": 301,
   "id": "49e2d59b-da78-4002-a8cc-e4f83c2da066",
   "metadata": {
    "tags": []
   },
   "outputs": [
    {
     "name": "stdout",
     "output_type": "stream",
     "text": [
      "Jan\n",
      "Feb\n",
      "Mar\n",
      "Apr\n",
      "\n",
      "Jan\n",
      "Feb\n",
      "Mar\n",
      "Apr\n"
     ]
    }
   ],
   "source": [
    "for key in dict2.keys():\n",
    "  print(key)\n",
    "print()\n",
    "for key in dict2:\n",
    "  print(key)"
   ]
  },
  {
   "cell_type": "code",
   "execution_count": 303,
   "id": "7beeb78d-d89a-49b9-8c1f-a82a26141983",
   "metadata": {
    "tags": []
   },
   "outputs": [
    {
     "name": "stdout",
     "output_type": "stream",
     "text": [
      "31\n",
      "28\n",
      "31\n",
      "30\n",
      "\n",
      "31\n",
      "28\n",
      "31\n",
      "30\n"
     ]
    }
   ],
   "source": [
    "for value in dict2.values():\n",
    "  print(value)\n",
    "print()\n",
    "for key in dict2:\n",
    "  print(dict2[key])"
   ]
  },
  {
   "cell_type": "markdown",
   "id": "d2986812-f00e-4951-8deb-473b026f20a4",
   "metadata": {
    "jp-MarkdownHeadingCollapsed": true,
    "tags": []
   },
   "source": [
    "***\n",
    "## **Operators**\n",
    "\n",
    "1. Arithmetic Operators\n",
    "2. Assignment Operators\n",
    "3. Comparison Operators\n",
    "4. Logical Operators\n",
    "5. Identity Operators\n",
    "6. Membership Operators\n"
   ]
  },
  {
   "cell_type": "markdown",
   "id": "46ac5aef-9fcc-4ed3-b76b-a4c632915146",
   "metadata": {
    "jp-MarkdownHeadingCollapsed": true,
    "tags": []
   },
   "source": [
    "### Arithmetic"
   ]
  },
  {
   "cell_type": "code",
   "execution_count": 309,
   "id": "b85fb5c1-1888-4f41-b085-a36618a545e7",
   "metadata": {
    "tags": []
   },
   "outputs": [
    {
     "name": "stdout",
     "output_type": "stream",
     "text": [
      "5\n",
      "-1\n",
      "6\n",
      "0.6666666666666666\n",
      "1\n",
      "2\n",
      "8\n"
     ]
    }
   ],
   "source": [
    "a = 2\n",
    "b = 3\n",
    "\n",
    "print(a+b) #Addition\n",
    "print(a-b) #Subraction\n",
    "print(a*b) #Multiplication\n",
    "print(a/b) #Divison\n",
    "print(b//a) #Integer Divison \n",
    "print(a%b) #Remainder\n",
    "print(a**b) #power"
   ]
  },
  {
   "cell_type": "markdown",
   "id": "0f8e60dd-7db9-4cee-b40d-9fd1c8a084c4",
   "metadata": {
    "jp-MarkdownHeadingCollapsed": true,
    "tags": []
   },
   "source": [
    "### Assignment Operator"
   ]
  },
  {
   "cell_type": "code",
   "execution_count": 312,
   "id": "7ffa999f-6104-4c7a-814d-b152fc65846f",
   "metadata": {
    "tags": []
   },
   "outputs": [
    {
     "name": "stdout",
     "output_type": "stream",
     "text": [
      "5\n",
      "10\n",
      "9\n",
      "18\n",
      "9.0\n",
      "3.0\n"
     ]
    },
    {
     "data": {
      "text/plain": [
       "9.0"
      ]
     },
     "execution_count": 312,
     "metadata": {},
     "output_type": "execute_result"
    }
   ],
   "source": [
    "a = 5\n",
    "print(a)\n",
    "a += 5\n",
    "print(a)\n",
    "a -= 1\n",
    "print(a)\n",
    "a *= 2\n",
    "print(a)\n",
    "a /= 2\n",
    "print(a)\n",
    "a //= 3\n",
    "print(a)\n",
    "a **= 2\n",
    "a"
   ]
  },
  {
   "cell_type": "markdown",
   "id": "874cd227-35f2-4cdf-9484-e9fb41e4507b",
   "metadata": {
    "jp-MarkdownHeadingCollapsed": true,
    "tags": []
   },
   "source": [
    "### Comparison Operator"
   ]
  },
  {
   "cell_type": "code",
   "execution_count": 316,
   "id": "765ffdbc-631f-4090-8eaf-ff6405d95b18",
   "metadata": {
    "tags": []
   },
   "outputs": [
    {
     "name": "stdout",
     "output_type": "stream",
     "text": [
      "False\n",
      "True\n",
      "False\n",
      "True\n",
      "True\n",
      "False\n"
     ]
    }
   ],
   "source": [
    "a = 5\n",
    "b = 10\n",
    "\n",
    "print( a == b ) \n",
    "print( a != b ) \n",
    "print(a > b) \n",
    "print( a<b )\n",
    "print( a <= b )\n",
    "print( a>=b )"
   ]
  },
  {
   "cell_type": "markdown",
   "id": "76eba850-45ca-49aa-8908-e0ddc9d13792",
   "metadata": {
    "tags": []
   },
   "source": [
    "### Logical Operator"
   ]
  },
  {
   "cell_type": "code",
   "execution_count": 318,
   "id": "28993d8a-d07e-4ad5-8328-8b3f522dad8e",
   "metadata": {
    "tags": []
   },
   "outputs": [
    {
     "data": {
      "text/plain": [
       "True"
      ]
     },
     "execution_count": 318,
     "metadata": {},
     "output_type": "execute_result"
    }
   ],
   "source": [
    "a= 5\n",
    "\n",
    "a>1 and a<6"
   ]
  },
  {
   "cell_type": "code",
   "execution_count": 319,
   "id": "2f7a82b5-3574-4c71-aa48-eb32153b0bca",
   "metadata": {
    "tags": []
   },
   "outputs": [
    {
     "data": {
      "text/plain": [
       "True"
      ]
     },
     "execution_count": 319,
     "metadata": {},
     "output_type": "execute_result"
    }
   ],
   "source": [
    "a>1 or a>6"
   ]
  },
  {
   "cell_type": "code",
   "execution_count": 320,
   "id": "665eda93-0973-4c43-b374-aa54f6035527",
   "metadata": {
    "tags": []
   },
   "outputs": [
    {
     "data": {
      "text/plain": [
       "False"
      ]
     },
     "execution_count": 320,
     "metadata": {},
     "output_type": "execute_result"
    }
   ],
   "source": [
    "not (a>1)"
   ]
  },
  {
   "cell_type": "markdown",
   "id": "489684a0-84d4-4e3d-a16b-4fb52fc0f318",
   "metadata": {},
   "source": [
    "### Identity Operator"
   ]
  },
  {
   "cell_type": "code",
   "execution_count": 321,
   "id": "c09ec1f7-79ba-4412-9b43-939847511b47",
   "metadata": {
    "tags": []
   },
   "outputs": [
    {
     "data": {
      "text/plain": [
       "False"
      ]
     },
     "execution_count": 321,
     "metadata": {},
     "output_type": "execute_result"
    }
   ],
   "source": [
    "a = 5\n",
    "b = 6\n",
    "\n",
    "a is b"
   ]
  },
  {
   "cell_type": "code",
   "execution_count": 322,
   "id": "ec560bc2-0888-4588-a809-9332164e0081",
   "metadata": {
    "tags": []
   },
   "outputs": [
    {
     "data": {
      "text/plain": [
       "True"
      ]
     },
     "execution_count": 322,
     "metadata": {},
     "output_type": "execute_result"
    }
   ],
   "source": [
    "a is not b"
   ]
  },
  {
   "cell_type": "markdown",
   "id": "96305d43-9230-4311-8edf-7dc4a1e3d5b7",
   "metadata": {},
   "source": [
    "### Membership Operator"
   ]
  },
  {
   "cell_type": "code",
   "execution_count": 324,
   "id": "ba7a0cca-06d4-42c5-bcc9-c973093b62bb",
   "metadata": {
    "tags": []
   },
   "outputs": [
    {
     "data": {
      "text/plain": [
       "True"
      ]
     },
     "execution_count": 324,
     "metadata": {},
     "output_type": "execute_result"
    }
   ],
   "source": [
    "a = 2\n",
    "l = [2,5,6]\n",
    "a in l"
   ]
  },
  {
   "cell_type": "code",
   "execution_count": 325,
   "id": "b5f881f4-eef3-4e7a-b5e1-f9da8842b172",
   "metadata": {
    "tags": []
   },
   "outputs": [
    {
     "data": {
      "text/plain": [
       "False"
      ]
     },
     "execution_count": 325,
     "metadata": {},
     "output_type": "execute_result"
    }
   ],
   "source": [
    "a = 3\n",
    "a in l"
   ]
  },
  {
   "cell_type": "markdown",
   "id": "37755b5c-9a7e-4155-9e26-5d8e2476624d",
   "metadata": {
    "jp-MarkdownHeadingCollapsed": true,
    "tags": []
   },
   "source": [
    "***\n",
    "## **Loop**"
   ]
  },
  {
   "cell_type": "code",
   "execution_count": 328,
   "id": "09008d6c-8f88-4834-a830-59bfefc52a49",
   "metadata": {
    "tags": []
   },
   "outputs": [
    {
     "name": "stdout",
     "output_type": "stream",
     "text": [
      "0\n",
      "2\n",
      "4\n",
      "6\n",
      "8\n"
     ]
    }
   ],
   "source": [
    "start = 0\n",
    "end = 10\n",
    "step = 2\n",
    "for i in range(start,end,step):\n",
    "    print(i)"
   ]
  },
  {
   "cell_type": "markdown",
   "id": "2f47fc1d-58fe-4b8b-8859-f5af9314fcac",
   "metadata": {
    "jp-MarkdownHeadingCollapsed": true,
    "tags": []
   },
   "source": [
    "***\n",
    "## **Functions**"
   ]
  },
  {
   "cell_type": "code",
   "execution_count": 334,
   "id": "be3c76be-bb1f-43a7-9dbe-0036bbf139ae",
   "metadata": {
    "tags": []
   },
   "outputs": [
    {
     "data": {
      "text/plain": [
       "3"
      ]
     },
     "execution_count": 334,
     "metadata": {},
     "output_type": "execute_result"
    }
   ],
   "source": [
    "def sum(x,y):\n",
    "    return x+y\n",
    "\n",
    "sum(1,2)"
   ]
  },
  {
   "cell_type": "markdown",
   "id": "34a9585a-07f1-4491-8ce5-b97be9d7493e",
   "metadata": {},
   "source": [
    "### Function Annotations\n",
    "- Function annotation do nothing.\n",
    "- it just a info"
   ]
  },
  {
   "cell_type": "code",
   "execution_count": 337,
   "id": "f2dca449-9de2-4168-ba59-6ee55035e10d",
   "metadata": {
    "tags": []
   },
   "outputs": [
    {
     "name": "stdout",
     "output_type": "stream",
     "text": [
      "3\n",
      "{'x': <class 'int'>, 'y': <class 'int'>, 'return': <class 'int'>}\n"
     ]
    }
   ],
   "source": [
    "def sum(x:int,y:int)->int:\n",
    "    return x+y\n",
    "\n",
    "print(sum(1,2))\n",
    "print(sum.__annotations__)\n",
    "\n"
   ]
  },
  {
   "cell_type": "markdown",
   "id": "6efd647b-b8a8-4b10-9f4b-3daa57db0f69",
   "metadata": {
    "jp-MarkdownHeadingCollapsed": true,
    "tags": []
   },
   "source": [
    "***\n",
    "## **Python DocStrings**\n",
    "- The doc string line should begin with a capital letter and end with a period.\n",
    "- The first line should be a short description.\n",
    "- If there are more lines in the documentation string, the second line should be blank, visually separating the summary from the rest of the description.\n",
    "- The following lines should be one or more paragraphs describing the object’s calling conventions, its side effects, etc.\n"
   ]
  },
  {
   "cell_type": "code",
   "execution_count": 347,
   "id": "c3942353-ba0d-433c-8be6-ab5c4ef44202",
   "metadata": {
    "tags": []
   },
   "outputs": [
    {
     "name": "stdout",
     "output_type": "stream",
     "text": [
      "\n",
      "    Summary line.\n",
      "  \n",
      "    Extended description of function.\n",
      "    \n",
      "    Parameters:\n",
      "        arg1 (int): Description of arg1\n",
      "        arg2 (int): Description of arg2\n",
      "    \n",
      "    Returns:\n",
      "        (Non-Return Type Function)\n",
      "    \n",
      "\n",
      "{'arg1': <class 'int'>, 'arg2': <class 'str'>}\n"
     ]
    }
   ],
   "source": [
    "def myfunction(arg1:int,arg2:str):\n",
    "    \"\"\"\n",
    "    Summary line.\n",
    "  \n",
    "    Extended description of function.\n",
    "    \n",
    "    Parameters:\n",
    "        arg1 (int): Description of arg1\n",
    "        arg2 (int): Description of arg2\n",
    "    \n",
    "    Returns:\n",
    "        (Non-Return Type Function)\n",
    "    \"\"\"\n",
    "    pass # When function is empty\n",
    "\n",
    "print(myfunction.__doc__)\n",
    "print()\n",
    "print(myfunction.__annotations__)"
   ]
  },
  {
   "cell_type": "markdown",
   "id": "e45c45bd-189d-4a67-a080-bffeebea593d",
   "metadata": {
    "jp-MarkdownHeadingCollapsed": true,
    "tags": []
   },
   "source": [
    "***\n",
    "## **Standard way to write python program** \n",
    "\n",
    "- <p><b>__name__ guard</b> protects user from accidentally invoking the script when they didn't intend to.</p>\n",
    "### **How It Protects?**\n",
    "\n",
    "#### When Your Module Is the **Main Program**\n",
    "- <code>python main.py</code>\n",
    "- The interpreter will assign the hard-coded string \"__main__\" to the __name__ variable, \n",
    "    - <p><code> __name__ = \"__main__\" </code></p>\n",
    "\n",
    "#### When Your Module Is **Imported By Another**\n",
    "- <code>import main</code>\n",
    "- The interpreter will search for your main.py file (along with searching for a few other variants), and prior to executing that module, it will assign the name \"main\" from the import statement to the __name__ variable\n",
    "    - <p><code>__name__ = \"main\"</code></p>\n",
    "- <p>So when we import, __name __ guard will not allow to run the main on it's own</p> "
   ]
  },
  {
   "cell_type": "code",
   "execution_count": 353,
   "id": "2b28c8b6-3e96-4084-862a-5c454da32cc1",
   "metadata": {
    "tags": []
   },
   "outputs": [
    {
     "name": "stdout",
     "output_type": "stream",
     "text": [
      "Program Runned Successfully\n"
     ]
    }
   ],
   "source": [
    "# Assume main.py is file name\n",
    "def main():\n",
    "    \"\"\"\n",
    "    To demonstrate Standard way to write program\n",
    "    \n",
    "    \"\"\"\n",
    "    print(\"Program Runned Successfully\")\n",
    "\n",
    "if __name__ == '__main__':\n",
    "    main()"
   ]
  },
  {
   "cell_type": "markdown",
   "id": "2ab287fd",
   "metadata": {
    "jp-MarkdownHeadingCollapsed": true,
    "tags": []
   },
   "source": [
    "## **System Information**"
   ]
  },
  {
   "cell_type": "markdown",
   "id": "ffe560f1",
   "metadata": {},
   "source": [
    "### CPU Information"
   ]
  },
  {
   "cell_type": "code",
   "execution_count": 5,
   "id": "4d806e8f",
   "metadata": {},
   "outputs": [
    {
     "name": "stdout",
     "output_type": "stream",
     "text": [
      "processor\t: 0\n",
      "vendor_id\t: AuthenticAMD\n",
      "cpu family\t: 23\n",
      "model\t\t: 104\n",
      "model name\t: AMD Ryzen 7 5700U with Radeon Graphics\n",
      "stepping\t: 1\n",
      "microcode\t: 0x8608103\n",
      "cpu MHz\t\t: 1400.000\n",
      "cache size\t: 512 KB\n",
      "physical id\t: 0\n",
      "siblings\t: 16\n",
      "core id\t\t: 0\n",
      "cpu cores\t: 8\n",
      "apicid\t\t: 0\n",
      "initial apicid\t: 0\n",
      "fpu\t\t: yes\n",
      "fpu_exception\t: yes\n",
      "cpuid level\t: 16\n",
      "wp\t\t: yes\n",
      "flags\t\t: fpu vme de pse tsc msr pae mce cx8 apic sep mtrr pge mca cmov pat pse36 clflush mmx fxsr sse sse2 ht syscall nx mmxext fxsr_opt pdpe1gb rdtscp lm constant_tsc rep_good nopl nonstop_tsc cpuid extd_apicid aperfmperf pni pclmulqdq monitor ssse3 fma cx16 sse4_1 sse4_2 movbe popcnt aes xsave avx f16c rdrand lahf_lm cmp_legacy svm extapic cr8_legacy abm sse4a misalignsse 3dnowprefetch osvw ibs skinit wdt tce topoext perfctr_core perfctr_nb bpext perfctr_llc mwaitx cpb cat_l3 cdp_l3 hw_pstate ssbd mba ibrs ibpb stibp vmmcall fsgsbase bmi1 avx2 smep bmi2 cqm rdt_a rdseed adx smap clflushopt clwb sha_ni xsaveopt xsavec xgetbv1 xsaves cqm_llc cqm_occup_llc cqm_mbm_total cqm_mbm_local clzero irperf xsaveerptr rdpru wbnoinvd arat npt lbrv svm_lock nrip_save tsc_scale vmcb_clean flushbyasid decodeassists pausefilter pfthreshold avic v_vmsave_vmload vgif v_spec_ctrl umip rdpid overflow_recov succor smca\n",
      "bugs\t\t: sysret_ss_attrs spectre_v1 spectre_v2 spec_store_bypass\n",
      "bogomips\t: 3593.11\n",
      "TLB size\t: 3072 4K pages\n",
      "clflush size\t: 64\n",
      "cache_alignment\t: 64\n",
      "address sizes\t: 48 bits physical, 48 bits virtual\n",
      "power management: ts ttp tm hwpstate cpb eff_freq_ro [13] [14]\n",
      "\n",
      "processor\t: 1\n",
      "vendor_id\t: AuthenticAMD\n",
      "cpu family\t: 23\n",
      "model\t\t: 104\n",
      "model name\t: AMD Ryzen 7 5700U with Radeon Graphics\n",
      "stepping\t: 1\n",
      "microcode\t: 0x8608103\n",
      "cpu MHz\t\t: 1362.703\n",
      "cache size\t: 512 KB\n",
      "physical id\t: 0\n",
      "siblings\t: 16\n",
      "core id\t\t: 0\n",
      "cpu cores\t: 8\n",
      "apicid\t\t: 1\n",
      "initial apicid\t: 1\n",
      "fpu\t\t: yes\n",
      "fpu_exception\t: yes\n",
      "cpuid level\t: 16\n",
      "wp\t\t: yes\n",
      "flags\t\t: fpu vme de pse tsc msr pae mce cx8 apic sep mtrr pge mca cmov pat pse36 clflush mmx fxsr sse sse2 ht syscall nx mmxext fxsr_opt pdpe1gb rdtscp lm constant_tsc rep_good nopl nonstop_tsc cpuid extd_apicid aperfmperf pni pclmulqdq monitor ssse3 fma cx16 sse4_1 sse4_2 movbe popcnt aes xsave avx f16c rdrand lahf_lm cmp_legacy svm extapic cr8_legacy abm sse4a misalignsse 3dnowprefetch osvw ibs skinit wdt tce topoext perfctr_core perfctr_nb bpext perfctr_llc mwaitx cpb cat_l3 cdp_l3 hw_pstate ssbd mba ibrs ibpb stibp vmmcall fsgsbase bmi1 avx2 smep bmi2 cqm rdt_a rdseed adx smap clflushopt clwb sha_ni xsaveopt xsavec xgetbv1 xsaves cqm_llc cqm_occup_llc cqm_mbm_total cqm_mbm_local clzero irperf xsaveerptr rdpru wbnoinvd arat npt lbrv svm_lock nrip_save tsc_scale vmcb_clean flushbyasid decodeassists pausefilter pfthreshold avic v_vmsave_vmload vgif v_spec_ctrl umip rdpid overflow_recov succor smca\n",
      "bugs\t\t: sysret_ss_attrs spectre_v1 spectre_v2 spec_store_bypass\n",
      "bogomips\t: 3593.11\n",
      "TLB size\t: 3072 4K pages\n",
      "clflush size\t: 64\n",
      "cache_alignment\t: 64\n",
      "address sizes\t: 48 bits physical, 48 bits virtual\n",
      "power management: ts ttp tm hwpstate cpb eff_freq_ro [13] [14]\n",
      "\n",
      "processor\t: 2\n",
      "vendor_id\t: AuthenticAMD\n",
      "cpu family\t: 23\n",
      "model\t\t: 104\n",
      "model name\t: AMD Ryzen 7 5700U with Radeon Graphics\n",
      "stepping\t: 1\n",
      "microcode\t: 0x8608103\n",
      "cpu MHz\t\t: 2309.870\n",
      "cache size\t: 512 KB\n",
      "physical id\t: 0\n",
      "siblings\t: 16\n",
      "core id\t\t: 1\n",
      "cpu cores\t: 8\n",
      "apicid\t\t: 2\n",
      "initial apicid\t: 2\n",
      "fpu\t\t: yes\n",
      "fpu_exception\t: yes\n",
      "cpuid level\t: 16\n",
      "wp\t\t: yes\n",
      "flags\t\t: fpu vme de pse tsc msr pae mce cx8 apic sep mtrr pge mca cmov pat pse36 clflush mmx fxsr sse sse2 ht syscall nx mmxext fxsr_opt pdpe1gb rdtscp lm constant_tsc rep_good nopl nonstop_tsc cpuid extd_apicid aperfmperf pni pclmulqdq monitor ssse3 fma cx16 sse4_1 sse4_2 movbe popcnt aes xsave avx f16c rdrand lahf_lm cmp_legacy svm extapic cr8_legacy abm sse4a misalignsse 3dnowprefetch osvw ibs skinit wdt tce topoext perfctr_core perfctr_nb bpext perfctr_llc mwaitx cpb cat_l3 cdp_l3 hw_pstate ssbd mba ibrs ibpb stibp vmmcall fsgsbase bmi1 avx2 smep bmi2 cqm rdt_a rdseed adx smap clflushopt clwb sha_ni xsaveopt xsavec xgetbv1 xsaves cqm_llc cqm_occup_llc cqm_mbm_total cqm_mbm_local clzero irperf xsaveerptr rdpru wbnoinvd arat npt lbrv svm_lock nrip_save tsc_scale vmcb_clean flushbyasid decodeassists pausefilter pfthreshold avic v_vmsave_vmload vgif v_spec_ctrl umip rdpid overflow_recov succor smca\n",
      "bugs\t\t: sysret_ss_attrs spectre_v1 spectre_v2 spec_store_bypass\n",
      "bogomips\t: 3593.11\n",
      "TLB size\t: 3072 4K pages\n",
      "clflush size\t: 64\n",
      "cache_alignment\t: 64\n",
      "address sizes\t: 48 bits physical, 48 bits virtual\n",
      "power management: ts ttp tm hwpstate cpb eff_freq_ro [13] [14]\n",
      "\n",
      "processor\t: 3\n",
      "vendor_id\t: AuthenticAMD\n",
      "cpu family\t: 23\n",
      "model\t\t: 104\n",
      "model name\t: AMD Ryzen 7 5700U with Radeon Graphics\n",
      "stepping\t: 1\n",
      "microcode\t: 0x8608103\n",
      "cpu MHz\t\t: 1400.000\n",
      "cache size\t: 512 KB\n",
      "physical id\t: 0\n",
      "siblings\t: 16\n",
      "core id\t\t: 1\n",
      "cpu cores\t: 8\n",
      "apicid\t\t: 3\n",
      "initial apicid\t: 3\n",
      "fpu\t\t: yes\n",
      "fpu_exception\t: yes\n",
      "cpuid level\t: 16\n",
      "wp\t\t: yes\n",
      "flags\t\t: fpu vme de pse tsc msr pae mce cx8 apic sep mtrr pge mca cmov pat pse36 clflush mmx fxsr sse sse2 ht syscall nx mmxext fxsr_opt pdpe1gb rdtscp lm constant_tsc rep_good nopl nonstop_tsc cpuid extd_apicid aperfmperf pni pclmulqdq monitor ssse3 fma cx16 sse4_1 sse4_2 movbe popcnt aes xsave avx f16c rdrand lahf_lm cmp_legacy svm extapic cr8_legacy abm sse4a misalignsse 3dnowprefetch osvw ibs skinit wdt tce topoext perfctr_core perfctr_nb bpext perfctr_llc mwaitx cpb cat_l3 cdp_l3 hw_pstate ssbd mba ibrs ibpb stibp vmmcall fsgsbase bmi1 avx2 smep bmi2 cqm rdt_a rdseed adx smap clflushopt clwb sha_ni xsaveopt xsavec xgetbv1 xsaves cqm_llc cqm_occup_llc cqm_mbm_total cqm_mbm_local clzero irperf xsaveerptr rdpru wbnoinvd arat npt lbrv svm_lock nrip_save tsc_scale vmcb_clean flushbyasid decodeassists pausefilter pfthreshold avic v_vmsave_vmload vgif v_spec_ctrl umip rdpid overflow_recov succor smca\n",
      "bugs\t\t: sysret_ss_attrs spectre_v1 spectre_v2 spec_store_bypass\n",
      "bogomips\t: 3593.11\n",
      "TLB size\t: 3072 4K pages\n",
      "clflush size\t: 64\n",
      "cache_alignment\t: 64\n",
      "address sizes\t: 48 bits physical, 48 bits virtual\n",
      "power management: ts ttp tm hwpstate cpb eff_freq_ro [13] [14]\n",
      "\n",
      "processor\t: 4\n",
      "vendor_id\t: AuthenticAMD\n",
      "cpu family\t: 23\n",
      "model\t\t: 104\n",
      "model name\t: AMD Ryzen 7 5700U with Radeon Graphics\n",
      "stepping\t: 1\n",
      "microcode\t: 0x8608103\n",
      "cpu MHz\t\t: 2204.164\n",
      "cache size\t: 512 KB\n",
      "physical id\t: 0\n",
      "siblings\t: 16\n",
      "core id\t\t: 2\n",
      "cpu cores\t: 8\n",
      "apicid\t\t: 4\n",
      "initial apicid\t: 4\n",
      "fpu\t\t: yes\n",
      "fpu_exception\t: yes\n",
      "cpuid level\t: 16\n",
      "wp\t\t: yes\n",
      "flags\t\t: fpu vme de pse tsc msr pae mce cx8 apic sep mtrr pge mca cmov pat pse36 clflush mmx fxsr sse sse2 ht syscall nx mmxext fxsr_opt pdpe1gb rdtscp lm constant_tsc rep_good nopl nonstop_tsc cpuid extd_apicid aperfmperf pni pclmulqdq monitor ssse3 fma cx16 sse4_1 sse4_2 movbe popcnt aes xsave avx f16c rdrand lahf_lm cmp_legacy svm extapic cr8_legacy abm sse4a misalignsse 3dnowprefetch osvw ibs skinit wdt tce topoext perfctr_core perfctr_nb bpext perfctr_llc mwaitx cpb cat_l3 cdp_l3 hw_pstate ssbd mba ibrs ibpb stibp vmmcall fsgsbase bmi1 avx2 smep bmi2 cqm rdt_a rdseed adx smap clflushopt clwb sha_ni xsaveopt xsavec xgetbv1 xsaves cqm_llc cqm_occup_llc cqm_mbm_total cqm_mbm_local clzero irperf xsaveerptr rdpru wbnoinvd arat npt lbrv svm_lock nrip_save tsc_scale vmcb_clean flushbyasid decodeassists pausefilter pfthreshold avic v_vmsave_vmload vgif v_spec_ctrl umip rdpid overflow_recov succor smca\n",
      "bugs\t\t: sysret_ss_attrs spectre_v1 spectre_v2 spec_store_bypass\n",
      "bogomips\t: 3593.11\n",
      "TLB size\t: 3072 4K pages\n",
      "clflush size\t: 64\n",
      "cache_alignment\t: 64\n",
      "address sizes\t: 48 bits physical, 48 bits virtual\n",
      "power management: ts ttp tm hwpstate cpb eff_freq_ro [13] [14]\n",
      "\n",
      "processor\t: 5\n",
      "vendor_id\t: AuthenticAMD\n",
      "cpu family\t: 23\n",
      "model\t\t: 104\n",
      "model name\t: AMD Ryzen 7 5700U with Radeon Graphics\n",
      "stepping\t: 1\n",
      "microcode\t: 0x8608103\n",
      "cpu MHz\t\t: 1400.000\n",
      "cache size\t: 512 KB\n",
      "physical id\t: 0\n",
      "siblings\t: 16\n",
      "core id\t\t: 2\n",
      "cpu cores\t: 8\n",
      "apicid\t\t: 5\n",
      "initial apicid\t: 5\n",
      "fpu\t\t: yes\n",
      "fpu_exception\t: yes\n",
      "cpuid level\t: 16\n",
      "wp\t\t: yes\n",
      "flags\t\t: fpu vme de pse tsc msr pae mce cx8 apic sep mtrr pge mca cmov pat pse36 clflush mmx fxsr sse sse2 ht syscall nx mmxext fxsr_opt pdpe1gb rdtscp lm constant_tsc rep_good nopl nonstop_tsc cpuid extd_apicid aperfmperf pni pclmulqdq monitor ssse3 fma cx16 sse4_1 sse4_2 movbe popcnt aes xsave avx f16c rdrand lahf_lm cmp_legacy svm extapic cr8_legacy abm sse4a misalignsse 3dnowprefetch osvw ibs skinit wdt tce topoext perfctr_core perfctr_nb bpext perfctr_llc mwaitx cpb cat_l3 cdp_l3 hw_pstate ssbd mba ibrs ibpb stibp vmmcall fsgsbase bmi1 avx2 smep bmi2 cqm rdt_a rdseed adx smap clflushopt clwb sha_ni xsaveopt xsavec xgetbv1 xsaves cqm_llc cqm_occup_llc cqm_mbm_total cqm_mbm_local clzero irperf xsaveerptr rdpru wbnoinvd arat npt lbrv svm_lock nrip_save tsc_scale vmcb_clean flushbyasid decodeassists pausefilter pfthreshold avic v_vmsave_vmload vgif v_spec_ctrl umip rdpid overflow_recov succor smca\n",
      "bugs\t\t: sysret_ss_attrs spectre_v1 spectre_v2 spec_store_bypass\n",
      "bogomips\t: 3593.11\n",
      "TLB size\t: 3072 4K pages\n",
      "clflush size\t: 64\n",
      "cache_alignment\t: 64\n",
      "address sizes\t: 48 bits physical, 48 bits virtual\n",
      "power management: ts ttp tm hwpstate cpb eff_freq_ro [13] [14]\n",
      "\n",
      "processor\t: 6\n",
      "vendor_id\t: AuthenticAMD\n",
      "cpu family\t: 23\n",
      "model\t\t: 104\n",
      "model name\t: AMD Ryzen 7 5700U with Radeon Graphics\n",
      "stepping\t: 1\n",
      "microcode\t: 0x8608103\n",
      "cpu MHz\t\t: 1700.000\n",
      "cache size\t: 512 KB\n",
      "physical id\t: 0\n",
      "siblings\t: 16\n",
      "core id\t\t: 3\n",
      "cpu cores\t: 8\n",
      "apicid\t\t: 6\n",
      "initial apicid\t: 6\n",
      "fpu\t\t: yes\n",
      "fpu_exception\t: yes\n",
      "cpuid level\t: 16\n",
      "wp\t\t: yes\n",
      "flags\t\t: fpu vme de pse tsc msr pae mce cx8 apic sep mtrr pge mca cmov pat pse36 clflush mmx fxsr sse sse2 ht syscall nx mmxext fxsr_opt pdpe1gb rdtscp lm constant_tsc rep_good nopl nonstop_tsc cpuid extd_apicid aperfmperf pni pclmulqdq monitor ssse3 fma cx16 sse4_1 sse4_2 movbe popcnt aes xsave avx f16c rdrand lahf_lm cmp_legacy svm extapic cr8_legacy abm sse4a misalignsse 3dnowprefetch osvw ibs skinit wdt tce topoext perfctr_core perfctr_nb bpext perfctr_llc mwaitx cpb cat_l3 cdp_l3 hw_pstate ssbd mba ibrs ibpb stibp vmmcall fsgsbase bmi1 avx2 smep bmi2 cqm rdt_a rdseed adx smap clflushopt clwb sha_ni xsaveopt xsavec xgetbv1 xsaves cqm_llc cqm_occup_llc cqm_mbm_total cqm_mbm_local clzero irperf xsaveerptr rdpru wbnoinvd arat npt lbrv svm_lock nrip_save tsc_scale vmcb_clean flushbyasid decodeassists pausefilter pfthreshold avic v_vmsave_vmload vgif v_spec_ctrl umip rdpid overflow_recov succor smca\n",
      "bugs\t\t: sysret_ss_attrs spectre_v1 spectre_v2 spec_store_bypass\n",
      "bogomips\t: 3593.11\n",
      "TLB size\t: 3072 4K pages\n",
      "clflush size\t: 64\n",
      "cache_alignment\t: 64\n",
      "address sizes\t: 48 bits physical, 48 bits virtual\n",
      "power management: ts ttp tm hwpstate cpb eff_freq_ro [13] [14]\n",
      "\n",
      "processor\t: 7\n",
      "vendor_id\t: AuthenticAMD\n",
      "cpu family\t: 23\n",
      "model\t\t: 104\n",
      "model name\t: AMD Ryzen 7 5700U with Radeon Graphics\n",
      "stepping\t: 1\n",
      "microcode\t: 0x8608103\n",
      "cpu MHz\t\t: 1400.000\n",
      "cache size\t: 512 KB\n",
      "physical id\t: 0\n",
      "siblings\t: 16\n",
      "core id\t\t: 3\n",
      "cpu cores\t: 8\n",
      "apicid\t\t: 7\n",
      "initial apicid\t: 7\n",
      "fpu\t\t: yes\n",
      "fpu_exception\t: yes\n",
      "cpuid level\t: 16\n",
      "wp\t\t: yes\n",
      "flags\t\t: fpu vme de pse tsc msr pae mce cx8 apic sep mtrr pge mca cmov pat pse36 clflush mmx fxsr sse sse2 ht syscall nx mmxext fxsr_opt pdpe1gb rdtscp lm constant_tsc rep_good nopl nonstop_tsc cpuid extd_apicid aperfmperf pni pclmulqdq monitor ssse3 fma cx16 sse4_1 sse4_2 movbe popcnt aes xsave avx f16c rdrand lahf_lm cmp_legacy svm extapic cr8_legacy abm sse4a misalignsse 3dnowprefetch osvw ibs skinit wdt tce topoext perfctr_core perfctr_nb bpext perfctr_llc mwaitx cpb cat_l3 cdp_l3 hw_pstate ssbd mba ibrs ibpb stibp vmmcall fsgsbase bmi1 avx2 smep bmi2 cqm rdt_a rdseed adx smap clflushopt clwb sha_ni xsaveopt xsavec xgetbv1 xsaves cqm_llc cqm_occup_llc cqm_mbm_total cqm_mbm_local clzero irperf xsaveerptr rdpru wbnoinvd arat npt lbrv svm_lock nrip_save tsc_scale vmcb_clean flushbyasid decodeassists pausefilter pfthreshold avic v_vmsave_vmload vgif v_spec_ctrl umip rdpid overflow_recov succor smca\n",
      "bugs\t\t: sysret_ss_attrs spectre_v1 spectre_v2 spec_store_bypass\n",
      "bogomips\t: 3593.11\n",
      "TLB size\t: 3072 4K pages\n",
      "clflush size\t: 64\n",
      "cache_alignment\t: 64\n",
      "address sizes\t: 48 bits physical, 48 bits virtual\n",
      "power management: ts ttp tm hwpstate cpb eff_freq_ro [13] [14]\n",
      "\n",
      "processor\t: 8\n",
      "vendor_id\t: AuthenticAMD\n",
      "cpu family\t: 23\n",
      "model\t\t: 104\n",
      "model name\t: AMD Ryzen 7 5700U with Radeon Graphics\n",
      "stepping\t: 1\n",
      "microcode\t: 0x8608103\n",
      "cpu MHz\t\t: 2286.153\n",
      "cache size\t: 512 KB\n",
      "physical id\t: 0\n",
      "siblings\t: 16\n",
      "core id\t\t: 4\n",
      "cpu cores\t: 8\n",
      "apicid\t\t: 8\n",
      "initial apicid\t: 8\n",
      "fpu\t\t: yes\n",
      "fpu_exception\t: yes\n",
      "cpuid level\t: 16\n",
      "wp\t\t: yes\n",
      "flags\t\t: fpu vme de pse tsc msr pae mce cx8 apic sep mtrr pge mca cmov pat pse36 clflush mmx fxsr sse sse2 ht syscall nx mmxext fxsr_opt pdpe1gb rdtscp lm constant_tsc rep_good nopl nonstop_tsc cpuid extd_apicid aperfmperf pni pclmulqdq monitor ssse3 fma cx16 sse4_1 sse4_2 movbe popcnt aes xsave avx f16c rdrand lahf_lm cmp_legacy svm extapic cr8_legacy abm sse4a misalignsse 3dnowprefetch osvw ibs skinit wdt tce topoext perfctr_core perfctr_nb bpext perfctr_llc mwaitx cpb cat_l3 cdp_l3 hw_pstate ssbd mba ibrs ibpb stibp vmmcall fsgsbase bmi1 avx2 smep bmi2 cqm rdt_a rdseed adx smap clflushopt clwb sha_ni xsaveopt xsavec xgetbv1 xsaves cqm_llc cqm_occup_llc cqm_mbm_total cqm_mbm_local clzero irperf xsaveerptr rdpru wbnoinvd arat npt lbrv svm_lock nrip_save tsc_scale vmcb_clean flushbyasid decodeassists pausefilter pfthreshold avic v_vmsave_vmload vgif v_spec_ctrl umip rdpid overflow_recov succor smca\n",
      "bugs\t\t: sysret_ss_attrs spectre_v1 spectre_v2 spec_store_bypass\n",
      "bogomips\t: 3593.11\n",
      "TLB size\t: 3072 4K pages\n",
      "clflush size\t: 64\n",
      "cache_alignment\t: 64\n",
      "address sizes\t: 48 bits physical, 48 bits virtual\n",
      "power management: ts ttp tm hwpstate cpb eff_freq_ro [13] [14]\n",
      "\n",
      "processor\t: 9\n",
      "vendor_id\t: AuthenticAMD\n",
      "cpu family\t: 23\n",
      "model\t\t: 104\n",
      "model name\t: AMD Ryzen 7 5700U with Radeon Graphics\n",
      "stepping\t: 1\n",
      "microcode\t: 0x8608103\n",
      "cpu MHz\t\t: 1700.000\n",
      "cache size\t: 512 KB\n",
      "physical id\t: 0\n",
      "siblings\t: 16\n",
      "core id\t\t: 4\n",
      "cpu cores\t: 8\n",
      "apicid\t\t: 9\n",
      "initial apicid\t: 9\n",
      "fpu\t\t: yes\n",
      "fpu_exception\t: yes\n",
      "cpuid level\t: 16\n",
      "wp\t\t: yes\n",
      "flags\t\t: fpu vme de pse tsc msr pae mce cx8 apic sep mtrr pge mca cmov pat pse36 clflush mmx fxsr sse sse2 ht syscall nx mmxext fxsr_opt pdpe1gb rdtscp lm constant_tsc rep_good nopl nonstop_tsc cpuid extd_apicid aperfmperf pni pclmulqdq monitor ssse3 fma cx16 sse4_1 sse4_2 movbe popcnt aes xsave avx f16c rdrand lahf_lm cmp_legacy svm extapic cr8_legacy abm sse4a misalignsse 3dnowprefetch osvw ibs skinit wdt tce topoext perfctr_core perfctr_nb bpext perfctr_llc mwaitx cpb cat_l3 cdp_l3 hw_pstate ssbd mba ibrs ibpb stibp vmmcall fsgsbase bmi1 avx2 smep bmi2 cqm rdt_a rdseed adx smap clflushopt clwb sha_ni xsaveopt xsavec xgetbv1 xsaves cqm_llc cqm_occup_llc cqm_mbm_total cqm_mbm_local clzero irperf xsaveerptr rdpru wbnoinvd arat npt lbrv svm_lock nrip_save tsc_scale vmcb_clean flushbyasid decodeassists pausefilter pfthreshold avic v_vmsave_vmload vgif v_spec_ctrl umip rdpid overflow_recov succor smca\n",
      "bugs\t\t: sysret_ss_attrs spectre_v1 spectre_v2 spec_store_bypass\n",
      "bogomips\t: 3593.11\n",
      "TLB size\t: 3072 4K pages\n",
      "clflush size\t: 64\n",
      "cache_alignment\t: 64\n",
      "address sizes\t: 48 bits physical, 48 bits virtual\n",
      "power management: ts ttp tm hwpstate cpb eff_freq_ro [13] [14]\n",
      "\n",
      "processor\t: 10\n",
      "vendor_id\t: AuthenticAMD\n",
      "cpu family\t: 23\n",
      "model\t\t: 104\n",
      "model name\t: AMD Ryzen 7 5700U with Radeon Graphics\n",
      "stepping\t: 1\n",
      "microcode\t: 0x8608103\n",
      "cpu MHz\t\t: 1800.000\n",
      "cache size\t: 512 KB\n",
      "physical id\t: 0\n",
      "siblings\t: 16\n",
      "core id\t\t: 5\n",
      "cpu cores\t: 8\n",
      "apicid\t\t: 10\n",
      "initial apicid\t: 10\n",
      "fpu\t\t: yes\n",
      "fpu_exception\t: yes\n",
      "cpuid level\t: 16\n",
      "wp\t\t: yes\n",
      "flags\t\t: fpu vme de pse tsc msr pae mce cx8 apic sep mtrr pge mca cmov pat pse36 clflush mmx fxsr sse sse2 ht syscall nx mmxext fxsr_opt pdpe1gb rdtscp lm constant_tsc rep_good nopl nonstop_tsc cpuid extd_apicid aperfmperf pni pclmulqdq monitor ssse3 fma cx16 sse4_1 sse4_2 movbe popcnt aes xsave avx f16c rdrand lahf_lm cmp_legacy svm extapic cr8_legacy abm sse4a misalignsse 3dnowprefetch osvw ibs skinit wdt tce topoext perfctr_core perfctr_nb bpext perfctr_llc mwaitx cpb cat_l3 cdp_l3 hw_pstate ssbd mba ibrs ibpb stibp vmmcall fsgsbase bmi1 avx2 smep bmi2 cqm rdt_a rdseed adx smap clflushopt clwb sha_ni xsaveopt xsavec xgetbv1 xsaves cqm_llc cqm_occup_llc cqm_mbm_total cqm_mbm_local clzero irperf xsaveerptr rdpru wbnoinvd arat npt lbrv svm_lock nrip_save tsc_scale vmcb_clean flushbyasid decodeassists pausefilter pfthreshold avic v_vmsave_vmload vgif v_spec_ctrl umip rdpid overflow_recov succor smca\n",
      "bugs\t\t: sysret_ss_attrs spectre_v1 spectre_v2 spec_store_bypass\n",
      "bogomips\t: 3593.11\n",
      "TLB size\t: 3072 4K pages\n",
      "clflush size\t: 64\n",
      "cache_alignment\t: 64\n",
      "address sizes\t: 48 bits physical, 48 bits virtual\n",
      "power management: ts ttp tm hwpstate cpb eff_freq_ro [13] [14]\n",
      "\n",
      "processor\t: 11\n",
      "vendor_id\t: AuthenticAMD\n",
      "cpu family\t: 23\n",
      "model\t\t: 104\n",
      "model name\t: AMD Ryzen 7 5700U with Radeon Graphics\n",
      "stepping\t: 1\n",
      "microcode\t: 0x8608103\n",
      "cpu MHz\t\t: 1400.000\n",
      "cache size\t: 512 KB\n",
      "physical id\t: 0\n",
      "siblings\t: 16\n",
      "core id\t\t: 5\n",
      "cpu cores\t: 8\n",
      "apicid\t\t: 11\n",
      "initial apicid\t: 11\n",
      "fpu\t\t: yes\n",
      "fpu_exception\t: yes\n",
      "cpuid level\t: 16\n",
      "wp\t\t: yes\n",
      "flags\t\t: fpu vme de pse tsc msr pae mce cx8 apic sep mtrr pge mca cmov pat pse36 clflush mmx fxsr sse sse2 ht syscall nx mmxext fxsr_opt pdpe1gb rdtscp lm constant_tsc rep_good nopl nonstop_tsc cpuid extd_apicid aperfmperf pni pclmulqdq monitor ssse3 fma cx16 sse4_1 sse4_2 movbe popcnt aes xsave avx f16c rdrand lahf_lm cmp_legacy svm extapic cr8_legacy abm sse4a misalignsse 3dnowprefetch osvw ibs skinit wdt tce topoext perfctr_core perfctr_nb bpext perfctr_llc mwaitx cpb cat_l3 cdp_l3 hw_pstate ssbd mba ibrs ibpb stibp vmmcall fsgsbase bmi1 avx2 smep bmi2 cqm rdt_a rdseed adx smap clflushopt clwb sha_ni xsaveopt xsavec xgetbv1 xsaves cqm_llc cqm_occup_llc cqm_mbm_total cqm_mbm_local clzero irperf xsaveerptr rdpru wbnoinvd arat npt lbrv svm_lock nrip_save tsc_scale vmcb_clean flushbyasid decodeassists pausefilter pfthreshold avic v_vmsave_vmload vgif v_spec_ctrl umip rdpid overflow_recov succor smca\n",
      "bugs\t\t: sysret_ss_attrs spectre_v1 spectre_v2 spec_store_bypass\n",
      "bogomips\t: 3593.11\n",
      "TLB size\t: 3072 4K pages\n",
      "clflush size\t: 64\n",
      "cache_alignment\t: 64\n",
      "address sizes\t: 48 bits physical, 48 bits virtual\n",
      "power management: ts ttp tm hwpstate cpb eff_freq_ro [13] [14]\n",
      "\n",
      "processor\t: 12\n",
      "vendor_id\t: AuthenticAMD\n",
      "cpu family\t: 23\n",
      "model\t\t: 104\n",
      "model name\t: AMD Ryzen 7 5700U with Radeon Graphics\n",
      "stepping\t: 1\n",
      "microcode\t: 0x8608103\n",
      "cpu MHz\t\t: 2255.334\n",
      "cache size\t: 512 KB\n",
      "physical id\t: 0\n",
      "siblings\t: 16\n",
      "core id\t\t: 6\n",
      "cpu cores\t: 8\n",
      "apicid\t\t: 12\n",
      "initial apicid\t: 12\n",
      "fpu\t\t: yes\n",
      "fpu_exception\t: yes\n",
      "cpuid level\t: 16\n",
      "wp\t\t: yes\n",
      "flags\t\t: fpu vme de pse tsc msr pae mce cx8 apic sep mtrr pge mca cmov pat pse36 clflush mmx fxsr sse sse2 ht syscall nx mmxext fxsr_opt pdpe1gb rdtscp lm constant_tsc rep_good nopl nonstop_tsc cpuid extd_apicid aperfmperf pni pclmulqdq monitor ssse3 fma cx16 sse4_1 sse4_2 movbe popcnt aes xsave avx f16c rdrand lahf_lm cmp_legacy svm extapic cr8_legacy abm sse4a misalignsse 3dnowprefetch osvw ibs skinit wdt tce topoext perfctr_core perfctr_nb bpext perfctr_llc mwaitx cpb cat_l3 cdp_l3 hw_pstate ssbd mba ibrs ibpb stibp vmmcall fsgsbase bmi1 avx2 smep bmi2 cqm rdt_a rdseed adx smap clflushopt clwb sha_ni xsaveopt xsavec xgetbv1 xsaves cqm_llc cqm_occup_llc cqm_mbm_total cqm_mbm_local clzero irperf xsaveerptr rdpru wbnoinvd arat npt lbrv svm_lock nrip_save tsc_scale vmcb_clean flushbyasid decodeassists pausefilter pfthreshold avic v_vmsave_vmload vgif v_spec_ctrl umip rdpid overflow_recov succor smca\n",
      "bugs\t\t: sysret_ss_attrs spectre_v1 spectre_v2 spec_store_bypass\n",
      "bogomips\t: 3593.11\n",
      "TLB size\t: 3072 4K pages\n",
      "clflush size\t: 64\n",
      "cache_alignment\t: 64\n",
      "address sizes\t: 48 bits physical, 48 bits virtual\n",
      "power management: ts ttp tm hwpstate cpb eff_freq_ro [13] [14]\n",
      "\n",
      "processor\t: 13\n",
      "vendor_id\t: AuthenticAMD\n",
      "cpu family\t: 23\n",
      "model\t\t: 104\n",
      "model name\t: AMD Ryzen 7 5700U with Radeon Graphics\n",
      "stepping\t: 1\n",
      "microcode\t: 0x8608103\n",
      "cpu MHz\t\t: 1400.000\n",
      "cache size\t: 512 KB\n",
      "physical id\t: 0\n",
      "siblings\t: 16\n",
      "core id\t\t: 6\n",
      "cpu cores\t: 8\n",
      "apicid\t\t: 13\n",
      "initial apicid\t: 13\n",
      "fpu\t\t: yes\n",
      "fpu_exception\t: yes\n",
      "cpuid level\t: 16\n",
      "wp\t\t: yes\n",
      "flags\t\t: fpu vme de pse tsc msr pae mce cx8 apic sep mtrr pge mca cmov pat pse36 clflush mmx fxsr sse sse2 ht syscall nx mmxext fxsr_opt pdpe1gb rdtscp lm constant_tsc rep_good nopl nonstop_tsc cpuid extd_apicid aperfmperf pni pclmulqdq monitor ssse3 fma cx16 sse4_1 sse4_2 movbe popcnt aes xsave avx f16c rdrand lahf_lm cmp_legacy svm extapic cr8_legacy abm sse4a misalignsse 3dnowprefetch osvw ibs skinit wdt tce topoext perfctr_core perfctr_nb bpext perfctr_llc mwaitx cpb cat_l3 cdp_l3 hw_pstate ssbd mba ibrs ibpb stibp vmmcall fsgsbase bmi1 avx2 smep bmi2 cqm rdt_a rdseed adx smap clflushopt clwb sha_ni xsaveopt xsavec xgetbv1 xsaves cqm_llc cqm_occup_llc cqm_mbm_total cqm_mbm_local clzero irperf xsaveerptr rdpru wbnoinvd arat npt lbrv svm_lock nrip_save tsc_scale vmcb_clean flushbyasid decodeassists pausefilter pfthreshold avic v_vmsave_vmload vgif v_spec_ctrl umip rdpid overflow_recov succor smca\n",
      "bugs\t\t: sysret_ss_attrs spectre_v1 spectre_v2 spec_store_bypass\n",
      "bogomips\t: 3593.11\n",
      "TLB size\t: 3072 4K pages\n",
      "clflush size\t: 64\n",
      "cache_alignment\t: 64\n",
      "address sizes\t: 48 bits physical, 48 bits virtual\n",
      "power management: ts ttp tm hwpstate cpb eff_freq_ro [13] [14]\n",
      "\n",
      "processor\t: 14\n",
      "vendor_id\t: AuthenticAMD\n",
      "cpu family\t: 23\n",
      "model\t\t: 104\n",
      "model name\t: AMD Ryzen 7 5700U with Radeon Graphics\n",
      "stepping\t: 1\n",
      "microcode\t: 0x8608103\n",
      "cpu MHz\t\t: 1400.000\n",
      "cache size\t: 512 KB\n",
      "physical id\t: 0\n",
      "siblings\t: 16\n",
      "core id\t\t: 7\n",
      "cpu cores\t: 8\n",
      "apicid\t\t: 14\n",
      "initial apicid\t: 14\n",
      "fpu\t\t: yes\n",
      "fpu_exception\t: yes\n",
      "cpuid level\t: 16\n",
      "wp\t\t: yes\n",
      "flags\t\t: fpu vme de pse tsc msr pae mce cx8 apic sep mtrr pge mca cmov pat pse36 clflush mmx fxsr sse sse2 ht syscall nx mmxext fxsr_opt pdpe1gb rdtscp lm constant_tsc rep_good nopl nonstop_tsc cpuid extd_apicid aperfmperf pni pclmulqdq monitor ssse3 fma cx16 sse4_1 sse4_2 movbe popcnt aes xsave avx f16c rdrand lahf_lm cmp_legacy svm extapic cr8_legacy abm sse4a misalignsse 3dnowprefetch osvw ibs skinit wdt tce topoext perfctr_core perfctr_nb bpext perfctr_llc mwaitx cpb cat_l3 cdp_l3 hw_pstate ssbd mba ibrs ibpb stibp vmmcall fsgsbase bmi1 avx2 smep bmi2 cqm rdt_a rdseed adx smap clflushopt clwb sha_ni xsaveopt xsavec xgetbv1 xsaves cqm_llc cqm_occup_llc cqm_mbm_total cqm_mbm_local clzero irperf xsaveerptr rdpru wbnoinvd arat npt lbrv svm_lock nrip_save tsc_scale vmcb_clean flushbyasid decodeassists pausefilter pfthreshold avic v_vmsave_vmload vgif v_spec_ctrl umip rdpid overflow_recov succor smca\n",
      "bugs\t\t: sysret_ss_attrs spectre_v1 spectre_v2 spec_store_bypass\n",
      "bogomips\t: 3593.11\n",
      "TLB size\t: 3072 4K pages\n",
      "clflush size\t: 64\n",
      "cache_alignment\t: 64\n",
      "address sizes\t: 48 bits physical, 48 bits virtual\n",
      "power management: ts ttp tm hwpstate cpb eff_freq_ro [13] [14]\n",
      "\n",
      "processor\t: 15\n",
      "vendor_id\t: AuthenticAMD\n",
      "cpu family\t: 23\n",
      "model\t\t: 104\n",
      "model name\t: AMD Ryzen 7 5700U with Radeon Graphics\n",
      "stepping\t: 1\n",
      "microcode\t: 0x8608103\n",
      "cpu MHz\t\t: 1800.000\n",
      "cache size\t: 512 KB\n",
      "physical id\t: 0\n",
      "siblings\t: 16\n",
      "core id\t\t: 7\n",
      "cpu cores\t: 8\n",
      "apicid\t\t: 15\n",
      "initial apicid\t: 15\n",
      "fpu\t\t: yes\n",
      "fpu_exception\t: yes\n",
      "cpuid level\t: 16\n",
      "wp\t\t: yes\n",
      "flags\t\t: fpu vme de pse tsc msr pae mce cx8 apic sep mtrr pge mca cmov pat pse36 clflush mmx fxsr sse sse2 ht syscall nx mmxext fxsr_opt pdpe1gb rdtscp lm constant_tsc rep_good nopl nonstop_tsc cpuid extd_apicid aperfmperf pni pclmulqdq monitor ssse3 fma cx16 sse4_1 sse4_2 movbe popcnt aes xsave avx f16c rdrand lahf_lm cmp_legacy svm extapic cr8_legacy abm sse4a misalignsse 3dnowprefetch osvw ibs skinit wdt tce topoext perfctr_core perfctr_nb bpext perfctr_llc mwaitx cpb cat_l3 cdp_l3 hw_pstate ssbd mba ibrs ibpb stibp vmmcall fsgsbase bmi1 avx2 smep bmi2 cqm rdt_a rdseed adx smap clflushopt clwb sha_ni xsaveopt xsavec xgetbv1 xsaves cqm_llc cqm_occup_llc cqm_mbm_total cqm_mbm_local clzero irperf xsaveerptr rdpru wbnoinvd arat npt lbrv svm_lock nrip_save tsc_scale vmcb_clean flushbyasid decodeassists pausefilter pfthreshold avic v_vmsave_vmload vgif v_spec_ctrl umip rdpid overflow_recov succor smca\n",
      "bugs\t\t: sysret_ss_attrs spectre_v1 spectre_v2 spec_store_bypass\n",
      "bogomips\t: 3593.11\n",
      "TLB size\t: 3072 4K pages\n",
      "clflush size\t: 64\n",
      "cache_alignment\t: 64\n",
      "address sizes\t: 48 bits physical, 48 bits virtual\n",
      "power management: ts ttp tm hwpstate cpb eff_freq_ro [13] [14]\n",
      "\n"
     ]
    }
   ],
   "source": [
    "!cat /proc/cpuinfo\n",
    "#information about the cpu"
   ]
  },
  {
   "cell_type": "markdown",
   "id": "b13574af",
   "metadata": {},
   "source": [
    "### RAM Information"
   ]
  },
  {
   "cell_type": "code",
   "execution_count": 6,
   "id": "ea96a5ad",
   "metadata": {},
   "outputs": [
    {
     "name": "stdout",
     "output_type": "stream",
     "text": [
      "MemTotal:        7469572 kB\n",
      "MemFree:          523300 kB\n",
      "MemAvailable:    2680120 kB\n",
      "Buffers:          419304 kB\n",
      "Cached:          2070236 kB\n",
      "SwapCached:           92 kB\n",
      "Active:          1840844 kB\n",
      "Inactive:        3802812 kB\n",
      "Active(anon):      21016 kB\n",
      "Inactive(anon):  3331616 kB\n",
      "Active(file):    1819828 kB\n",
      "Inactive(file):   471196 kB\n",
      "Unevictable:          80 kB\n",
      "Mlocked:              80 kB\n",
      "SwapTotal:       2097148 kB\n",
      "SwapFree:        2092284 kB\n",
      "Dirty:               620 kB\n",
      "Writeback:             0 kB\n",
      "AnonPages:       3154416 kB\n",
      "Mapped:           782412 kB\n",
      "Shmem:            200344 kB\n",
      "KReclaimable:     166856 kB\n",
      "Slab:             336784 kB\n",
      "SReclaimable:     166856 kB\n",
      "SUnreclaim:       169928 kB\n",
      "KernelStack:       25440 kB\n",
      "PageTables:        60332 kB\n",
      "NFS_Unstable:          0 kB\n",
      "Bounce:                0 kB\n",
      "WritebackTmp:          0 kB\n",
      "CommitLimit:     5831932 kB\n",
      "Committed_AS:   17381664 kB\n",
      "VmallocTotal:   34359738367 kB\n",
      "VmallocUsed:       55124 kB\n",
      "VmallocChunk:          0 kB\n",
      "Percpu:            13568 kB\n",
      "HardwareCorrupted:     0 kB\n",
      "AnonHugePages:         0 kB\n",
      "ShmemHugePages:        0 kB\n",
      "ShmemPmdMapped:        0 kB\n",
      "FileHugePages:         0 kB\n",
      "FilePmdMapped:         0 kB\n",
      "HugePages_Total:       0\n",
      "HugePages_Free:        0\n",
      "HugePages_Rsvd:        0\n",
      "HugePages_Surp:        0\n",
      "Hugepagesize:       2048 kB\n",
      "Hugetlb:               0 kB\n",
      "DirectMap4k:     1960644 kB\n",
      "DirectMap2M:     5750784 kB\n",
      "DirectMap1G:     1048576 kB\n"
     ]
    }
   ],
   "source": [
    "!cat /proc/meminfo\n",
    "#information about the RAM"
   ]
  }
 ],
 "metadata": {
  "kernelspec": {
   "display_name": "Python 3 (ipykernel)",
   "language": "python",
   "name": "python3"
  },
  "language_info": {
   "codemirror_mode": {
    "name": "ipython",
    "version": 3
   },
   "file_extension": ".py",
   "mimetype": "text/x-python",
   "name": "python",
   "nbconvert_exporter": "python",
   "pygments_lexer": "ipython3",
   "version": "3.8.10"
  }
 },
 "nbformat": 4,
 "nbformat_minor": 5
}
